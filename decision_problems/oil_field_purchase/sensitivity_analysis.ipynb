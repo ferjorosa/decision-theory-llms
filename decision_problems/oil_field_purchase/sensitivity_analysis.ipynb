{
 "cells": [
  {
   "cell_type": "markdown",
   "id": "feabc636",
   "metadata": {},
   "source": [
    "# Sensitivity Analysis\n",
    "\n",
    "After finding the optimal decision strategy, it's crucial to understand how sensitive our results are to changes in the input parameters. **Sensitivity analysis** helps identify which uncertainties have the greatest impact on the expected utility and, consequently, on the optimal decisions.\n",
    "\n",
    "This notebook is going to be focused on generating plots for sensitivity analysis of the Oil Decision Problem."
   ]
  },
  {
   "cell_type": "code",
   "execution_count": 70,
   "id": "66e1aae2",
   "metadata": {},
   "outputs": [],
   "source": [
    "import pandas as pd\n",
    "import plotly.graph_objects as go\n",
    "import numpy as np\n",
    "import pyagrum as grum\n",
    "import pyagrum.lib.notebook as gnb\n",
    "from pyagrum import InfluenceDiagram"
   ]
  },
  {
   "cell_type": "markdown",
   "id": "55194fdf",
   "metadata": {},
   "source": [
    "## 1 - Baseline"
   ]
  },
  {
   "cell_type": "markdown",
   "id": "77d21f86",
   "metadata": {},
   "source": [
    "### 1.1 - Influence diagram structure"
   ]
  },
  {
   "cell_type": "code",
   "execution_count": 71,
   "id": "36db7c51",
   "metadata": {},
   "outputs": [
    {
     "data": {
      "text/html": [
       "<table style=\"border-style: hidden; border-collapse: collapse;\" width=\"100%\"><tr><td style=\"border-top:hidden;border-bottom:hidden;vertical-align:middle;\"><div align=\"center\" style=\"vertical-align:middle;\"><svg xmlns=\"http://www.w3.org/2000/svg\" xmlns:xlink=\"http://www.w3.org/1999/xlink\" width=\"153pt\" height=\"285pt\" viewBox=\"0.00 0.00 153.00 284.76\">\n",
       "<g id=\"graph0\" class=\"graph\" transform=\"scale(1 1) rotate(0) translate(4 280.76)\">\n",
       "<title>G</title>\n",
       "<!-- Q -->\n",
       "<g id=\"node1\" class=\"node\">\n",
       "<title>Q</title>\n",
       "<ellipse fill=\"#808080\" stroke=\"#4a4a4a\" cx=\"27\" cy=\"-254.91\" rx=\"27\" ry=\"21.85\"/>\n",
       "<text text-anchor=\"middle\" x=\"27\" y=\"-249.86\" font-family=\"Times,serif\" font-size=\"14.00\" fill=\"#4a4a4a\">Q</text>\n",
       "</g>\n",
       "<!-- R -->\n",
       "<g id=\"node2\" class=\"node\">\n",
       "<title>R</title>\n",
       "<ellipse fill=\"#808080\" stroke=\"#4a4a4a\" cx=\"63\" cy=\"-175.21\" rx=\"27\" ry=\"21.85\"/>\n",
       "<text text-anchor=\"middle\" x=\"63\" y=\"-170.16\" font-family=\"Times,serif\" font-size=\"14.00\" fill=\"#4a4a4a\">R</text>\n",
       "</g>\n",
       "<!-- Q&#45;&gt;R -->\n",
       "<g id=\"edge1\" class=\"edge\">\n",
       "<title>Q-&gt;R</title>\n",
       "<path fill=\"none\" stroke=\"#4a4a4a\" d=\"M36.27,-233.9C40.13,-225.56 44.71,-215.69 48.96,-206.5\"/>\n",
       "<polygon fill=\"#4a4a4a\" stroke=\"#4a4a4a\" points=\"52.1,-208.07 53.12,-197.52 45.74,-205.13 52.1,-208.07\"/>\n",
       "</g>\n",
       "<!-- U -->\n",
       "<g id=\"node5\" class=\"node\">\n",
       "<title>U</title>\n",
       "<polygon fill=\"#50508a\" stroke=\"#4a4a4a\" points=\"109,-25.23 95.5,-50.46 68.5,-50.46 55,-25.23 68.5,0 95.5,0 109,-25.23\"/>\n",
       "<text text-anchor=\"middle\" x=\"82\" y=\"-20.18\" font-family=\"Times,serif\" font-size=\"14.00\" fill=\"#4a4a4a\">U</text>\n",
       "</g>\n",
       "<!-- Q&#45;&gt;U -->\n",
       "<g id=\"edge2\" class=\"edge\">\n",
       "<title>Q-&gt;U</title>\n",
       "<path fill=\"none\" stroke=\"#4a4a4a\" stroke-dasharray=\"5,2\" d=\"M25.3,-232.61C24.08,-212.17 23.22,-180.5 27,-153.36 31.26,-122.75 33.74,-114.83 46,-86.46 50.14,-76.87 55.55,-66.95 60.9,-57.99\"/>\n",
       "<polygon fill=\"#4a4a4a\" stroke=\"#4a4a4a\" points=\"63.78,-59.99 66.07,-49.65 57.83,-56.31 63.78,-59.99\"/>\n",
       "</g>\n",
       "<!-- B -->\n",
       "<g id=\"node4\" class=\"node\">\n",
       "<title>B</title>\n",
       "<polygon fill=\"#9a5050\" stroke=\"#4a4a4a\" points=\"109,-117.36 55,-117.36 55,-86.46 109,-86.46 109,-117.36\"/>\n",
       "<text text-anchor=\"middle\" x=\"82\" y=\"-96.86\" font-family=\"Times,serif\" font-size=\"14.00\" fill=\"#4a4a4a\">B</text>\n",
       "</g>\n",
       "<!-- R&#45;&gt;B -->\n",
       "<g id=\"edge3\" class=\"edge\">\n",
       "<title>R-&gt;B</title>\n",
       "<polygon fill=\"#4a4a4a\" stroke=\"none\" stroke-width=\"2\" stroke-dasharray=\"1,5\" points=\"69.46,-153.84 69.73,-152.65 70,-151.44 70.28,-150.21 70.56,-148.97 70.84,-147.72 71.13,-146.46 71.42,-145.19 71.7,-143.91 71.99,-142.62 72.28,-141.33 72.58,-140.04 72.87,-138.75 73.16,-137.45 73.45,-136.16 73.74,-134.87 74.03,-133.59 74.32,-132.31 74.61,-131.03 74.89,-129.77 75.18,-128.52 75.18,-128.52 74.8,-129.74 74.42,-130.98 74.03,-132.23 73.65,-133.48 73.26,-134.74 72.87,-136.01 72.48,-137.27 72.09,-138.54 71.7,-139.81 71.31,-141.07 70.92,-142.34 70.53,-143.59 70.14,-144.85 69.76,-146.09 69.38,-147.33 69,-148.56 68.63,-149.77 68.26,-150.97 67.89,-152.16 67.53,-153.33 69.46,-153.84\"/>\n",
       "<polygon fill=\"#4a4a4a\" stroke=\"#4a4a4a\" stroke-width=\"2\" points=\"78.11,-131.09 77.31,-120.53 71.35,-129.29 78.11,-131.09\"/>\n",
       "</g>\n",
       "<!-- T -->\n",
       "<g id=\"node3\" class=\"node\">\n",
       "<title>T</title>\n",
       "<polygon fill=\"#9a5050\" stroke=\"#4a4a4a\" points=\"145,-270.36 91,-270.36 91,-239.46 145,-239.46 145,-270.36\"/>\n",
       "<text text-anchor=\"middle\" x=\"118\" y=\"-249.86\" font-family=\"Times,serif\" font-size=\"14.00\" fill=\"#4a4a4a\">T</text>\n",
       "</g>\n",
       "<!-- T&#45;&gt;R -->\n",
       "<g id=\"edge4\" class=\"edge\">\n",
       "<title>T-&gt;R</title>\n",
       "<path fill=\"none\" stroke=\"#4a4a4a\" d=\"M107.65,-239.29C100.58,-229.3 90.99,-215.75 82.51,-203.77\"/>\n",
       "<polygon fill=\"#4a4a4a\" stroke=\"#4a4a4a\" points=\"85.53,-201.97 76.89,-195.83 79.81,-206.02 85.53,-201.97\"/>\n",
       "</g>\n",
       "<!-- T&#45;&gt;B -->\n",
       "<g id=\"edge5\" class=\"edge\">\n",
       "<title>T-&gt;B</title>\n",
       "<polygon fill=\"#4a4a4a\" stroke=\"none\" stroke-width=\"2\" stroke-dasharray=\"1,5\" points=\"116.85,-238.96 116.35,-235.89 115.8,-232.58 115.21,-229.07 114.58,-225.36 113.9,-221.48 113.18,-217.44 112.42,-213.25 111.61,-208.94 110.77,-204.51 109.9,-199.99 108.98,-195.4 108.03,-190.74 107.04,-186.04 106.02,-181.32 104.96,-176.58 103.87,-171.85 102.76,-167.14 101.61,-162.46 100.43,-157.85 99.22,-153.3 98.89,-152.07 98.54,-150.84 98.19,-149.6 97.82,-148.35 97.45,-147.1 97.08,-145.84 96.69,-144.58 96.31,-143.32 95.91,-142.06 95.51,-140.81 95.11,-139.55 94.71,-138.3 94.3,-137.05 93.89,-135.81 93.47,-134.57 93.06,-133.34 92.64,-132.13 92.23,-130.92 91.81,-129.72 91.4,-128.53 91.4,-128.53 91.79,-129.72 92.18,-130.93 92.58,-132.15 92.97,-133.37 93.36,-134.61 93.76,-135.85 94.15,-137.1 94.53,-138.35 94.92,-139.61 95.3,-140.87 95.67,-142.14 96.04,-143.4 96.41,-144.67 96.77,-145.93 97.12,-147.19 97.47,-148.45 97.81,-149.7 98.14,-150.95 98.46,-152.19 98.78,-153.42 99.9,-157.98 101,-162.61 102.06,-167.3 103.1,-172.02 104.1,-176.77 105.07,-181.52 106.01,-186.25 106.91,-190.97 107.78,-195.63 108.62,-200.24 109.41,-204.76 110.17,-209.19 110.9,-213.51 111.59,-217.71 112.23,-221.76 112.84,-225.65 113.41,-229.36 113.94,-232.88 114.43,-236.18 114.87,-239.26 116.85,-238.96\"/>\n",
       "<polygon fill=\"#4a4a4a\" stroke=\"#4a4a4a\" stroke-width=\"2\" points=\"95.23,-128.88 88.61,-120.61 88.63,-131.21 95.23,-128.88\"/>\n",
       "</g>\n",
       "<!-- T&#45;&gt;U -->\n",
       "<g id=\"edge6\" class=\"edge\">\n",
       "<title>T-&gt;U</title>\n",
       "<path fill=\"none\" stroke=\"#4a4a4a\" stroke-dasharray=\"5,2\" d=\"M120.57,-239.22C125.19,-209.66 133.09,-141.1 118,-86.46 115.1,-75.94 109.81,-65.4 104.18,-56.16\"/>\n",
       "<polygon fill=\"#4a4a4a\" stroke=\"#4a4a4a\" points=\"107.23,-54.43 98.84,-47.95 101.36,-58.24 107.23,-54.43\"/>\n",
       "</g>\n",
       "<!-- B&#45;&gt;U -->\n",
       "<g id=\"edge7\" class=\"edge\">\n",
       "<title>B-&gt;U</title>\n",
       "<path fill=\"none\" stroke=\"#4a4a4a\" stroke-dasharray=\"5,2\" d=\"M82,-86.16C82,-79.26 82,-70.71 82,-62.26\"/>\n",
       "<polygon fill=\"#4a4a4a\" stroke=\"#4a4a4a\" points=\"85.5,-62.46 82,-52.46 78.5,-62.46 85.5,-62.46\"/>\n",
       "</g>\n",
       "</g>\n",
       "</svg><br><small><i>Oil field influence diagram</i></small></div></td></tr></table>"
      ],
      "text/plain": [
       "<IPython.core.display.HTML object>"
      ]
     },
     "metadata": {},
     "output_type": "display_data"
    }
   ],
   "source": [
    "influence_diagram = InfluenceDiagram()\n",
    "\n",
    "Q = influence_diagram.addChanceNode(grum.LabelizedVariable(\"Q\", \"Q\", 0).addLabel('high').addLabel('medium').addLabel('low'))\n",
    "R = influence_diagram.addChanceNode(grum.LabelizedVariable(\"R\", \"R\", 0).addLabel('pass').addLabel('fail').addLabel('no_results'))\n",
    "T = influence_diagram.addDecisionNode(grum.LabelizedVariable(\"T\", \"T\", 0).addLabel('do').addLabel('not_do'))\n",
    "B = influence_diagram.addDecisionNode(grum.LabelizedVariable(\"B\", \"B\", 0).addLabel('buy').addLabel('not_buy'))\n",
    "U = influence_diagram.addUtilityNode(grum.LabelizedVariable(\"U\", \"U\", 0).addLabel('utility'))\n",
    "\n",
    "influence_diagram.addArc(\"T\", \"R\")\n",
    "influence_diagram.addArc(\"T\", \"B\") # memory arc\n",
    "influence_diagram.addArc(\"T\", \"U\")\n",
    "influence_diagram.addArc(\"R\", \"B\")\n",
    "influence_diagram.addArc(\"B\", \"U\")\n",
    "influence_diagram.addArc(\"Q\", \"R\")\n",
    "influence_diagram.addArc(\"Q\", \"U\")\n",
    "\n",
    "gnb.sideBySide(influence_diagram, captions=[\"Oil field influence diagram\"])"
   ]
  },
  {
   "cell_type": "markdown",
   "id": "44e1eb04",
   "metadata": {},
   "source": [
    "### 1.2 - Influence diagram parameters"
   ]
  },
  {
   "cell_type": "code",
   "execution_count": 72,
   "id": "4caef30f",
   "metadata": {},
   "outputs": [],
   "source": [
    "q_cpt = pd.DataFrame({\n",
    "    \"Q\": [\"high\", \"medium\", \"low\"],\n",
    "    \"Probability\": [0.35, 0.45, 0.2]\n",
    "})\n",
    "# Set Q values as index for easier access\n",
    "q_cpt = q_cpt.set_index('Q')\n",
    "\n",
    "r_cpt = pd.DataFrame({\n",
    "    \"R | Q\": [\"pass\", \"fail\"],\n",
    "    \"high\": [0.95, 0.05],\n",
    "    \"medium\": [0.7, 0.3],\n",
    "    \"low\": [0.15, 0.85]\n",
    "})\n",
    "# Set R | Q values as index for easier access\n",
    "r_cpt = r_cpt.set_index('R | Q')\n",
    "\n",
    "u_table = pd.DataFrame(\n",
    "    [\n",
    "        ['do', 'buy', 'high', 1250],\n",
    "        ['do', 'buy', 'medium', 630],\n",
    "        ['do', 'buy', 'low', 0],\n",
    "        ['do', 'not_buy', '-', 350],\n",
    "        ['not_do', 'buy', 'high', 1280],\n",
    "        ['not_do', 'buy', 'medium', 660],\n",
    "        ['not_do', 'buy', 'low', 30],\n",
    "        ['not_do', 'not_buy', '-', 380],\n",
    "    ],\n",
    "    columns=['T', 'B', 'Q', 'U']\n",
    ")\n",
    "\n",
    "# Q probabilities\n",
    "influence_diagram.cpt(Q)[:] = q_cpt['Probability'].to_list()\n",
    "\n",
    "# R probabilities\n",
    "for q in [\"high\", \"medium\", \"low\"]:\n",
    "    pass_prob = r_cpt.loc['pass', q]\n",
    "    fail_prob = r_cpt.loc['fail', q]\n",
    "\n",
    "    influence_diagram.cpt(R)[{\"Q\": q, \"T\": \"do\"}] = [pass_prob, fail_prob, 0.0]\n",
    "    influence_diagram.cpt(R)[{\"Q\": q, \"T\": \"not_do\"}] = [0.0, 0.0, 1.0]\n",
    "\n",
    "# U utility values\n",
    "influence_diagram.utility(U)[{\"T\": \"do\", \"B\": \"buy\"}] = np.array(\n",
    "    [u_table.iloc[0, 3], u_table.iloc[1, 3], u_table.iloc[2, 3]])[:, np.newaxis]\n",
    "influence_diagram.utility(U)[{\"T\": \"do\", \"B\": \"not_buy\"}] = np.array(\n",
    "    [u_table.iloc[3, 3]] * 3)[:, np.newaxis]\n",
    "influence_diagram.utility(U)[{\"T\": \"not_do\", \"B\": \"buy\"}] = np.array(\n",
    "    [u_table.iloc[4, 3], u_table.iloc[5, 3], u_table.iloc[6, 3]])[:, np.newaxis]\n",
    "influence_diagram.utility(U)[{\"T\": \"not_do\", \"B\": \"not_buy\"}] = np.array(\n",
    "    [u_table.iloc[7, 3]] * 3)[:, np.newaxis]"
   ]
  },
  {
   "cell_type": "code",
   "execution_count": 73,
   "id": "3a90c92f",
   "metadata": {},
   "outputs": [
    {
     "data": {
      "text/html": [
       "<div>\n",
       "<style scoped>\n",
       "    .dataframe tbody tr th:only-of-type {\n",
       "        vertical-align: middle;\n",
       "    }\n",
       "\n",
       "    .dataframe tbody tr th {\n",
       "        vertical-align: top;\n",
       "    }\n",
       "\n",
       "    .dataframe thead th {\n",
       "        text-align: right;\n",
       "    }\n",
       "</style>\n",
       "<table border=\"1\" class=\"dataframe\">\n",
       "  <thead>\n",
       "    <tr style=\"text-align: right;\">\n",
       "      <th></th>\n",
       "      <th>Probability</th>\n",
       "    </tr>\n",
       "    <tr>\n",
       "      <th>Q</th>\n",
       "      <th></th>\n",
       "    </tr>\n",
       "  </thead>\n",
       "  <tbody>\n",
       "    <tr>\n",
       "      <th>high</th>\n",
       "      <td>0.35</td>\n",
       "    </tr>\n",
       "    <tr>\n",
       "      <th>medium</th>\n",
       "      <td>0.45</td>\n",
       "    </tr>\n",
       "    <tr>\n",
       "      <th>low</th>\n",
       "      <td>0.20</td>\n",
       "    </tr>\n",
       "  </tbody>\n",
       "</table>\n",
       "</div>"
      ],
      "text/plain": [
       "        Probability\n",
       "Q                  \n",
       "high           0.35\n",
       "medium         0.45\n",
       "low            0.20"
      ]
     },
     "execution_count": 73,
     "metadata": {},
     "output_type": "execute_result"
    }
   ],
   "source": [
    "q_cpt"
   ]
  },
  {
   "cell_type": "code",
   "execution_count": 74,
   "id": "5e6b5e56",
   "metadata": {},
   "outputs": [
    {
     "data": {
      "text/html": [
       "<div>\n",
       "<style scoped>\n",
       "    .dataframe tbody tr th:only-of-type {\n",
       "        vertical-align: middle;\n",
       "    }\n",
       "\n",
       "    .dataframe tbody tr th {\n",
       "        vertical-align: top;\n",
       "    }\n",
       "\n",
       "    .dataframe thead th {\n",
       "        text-align: right;\n",
       "    }\n",
       "</style>\n",
       "<table border=\"1\" class=\"dataframe\">\n",
       "  <thead>\n",
       "    <tr style=\"text-align: right;\">\n",
       "      <th></th>\n",
       "      <th>high</th>\n",
       "      <th>medium</th>\n",
       "      <th>low</th>\n",
       "    </tr>\n",
       "    <tr>\n",
       "      <th>R | Q</th>\n",
       "      <th></th>\n",
       "      <th></th>\n",
       "      <th></th>\n",
       "    </tr>\n",
       "  </thead>\n",
       "  <tbody>\n",
       "    <tr>\n",
       "      <th>pass</th>\n",
       "      <td>0.95</td>\n",
       "      <td>0.7</td>\n",
       "      <td>0.15</td>\n",
       "    </tr>\n",
       "    <tr>\n",
       "      <th>fail</th>\n",
       "      <td>0.05</td>\n",
       "      <td>0.3</td>\n",
       "      <td>0.85</td>\n",
       "    </tr>\n",
       "  </tbody>\n",
       "</table>\n",
       "</div>"
      ],
      "text/plain": [
       "       high  medium   low\n",
       "R | Q                    \n",
       "pass   0.95     0.7  0.15\n",
       "fail   0.05     0.3  0.85"
      ]
     },
     "execution_count": 74,
     "metadata": {},
     "output_type": "execute_result"
    }
   ],
   "source": [
    "r_cpt"
   ]
  },
  {
   "cell_type": "markdown",
   "id": "5c905bbd",
   "metadata": {},
   "source": [
    "### 1.3 - Baseline Optimal decision"
   ]
  },
  {
   "cell_type": "code",
   "execution_count": 75,
   "id": "d48b2b44",
   "metadata": {},
   "outputs": [
    {
     "name": "stdout",
     "output_type": "stream",
     "text": [
      "([{'B': 0, 'R': 0}, {'B': 0, 'R': 1}, {'B': 0, 'R': 2}], 1.0)\n",
      "([{'T': 1}], 1.0)\n",
      "751.0\n"
     ]
    }
   ],
   "source": [
    "inference_engine = grum.ShaferShenoyLIMIDInference(influence_diagram)\n",
    "inference_engine.makeInference()\n",
    "meu_result = inference_engine.MEU()\n",
    "baseline_meu = meu_result['mean']\n",
    "\n",
    "print(inference_engine.optimalDecision(\"B\").argmax())\n",
    "print(inference_engine.optimalDecision(\"T\").argmax())\n",
    "\n",
    "print(baseline_meu)"
   ]
  },
  {
   "cell_type": "markdown",
   "id": "1fc6931d",
   "metadata": {},
   "source": [
    "## 2 - Single Parameter Sensitivity Analysis"
   ]
  },
  {
   "cell_type": "markdown",
   "id": "326eee3c",
   "metadata": {},
   "source": [
    "### 2.1 - Framework"
   ]
  },
  {
   "cell_type": "code",
   "execution_count": 76,
   "id": "0f30b323",
   "metadata": {},
   "outputs": [],
   "source": [
    "def validate_probability_changes(\n",
    "        cpt_df: pd.DataFrame, \n",
    "        row_index: str, \n",
    "        column: str, \n",
    "        changes: list\n",
    "):\n",
    "    \"\"\"\n",
    "    Validates that probability increments are mathematically valid.\n",
    "    \n",
    "    For Q CPT: Ensures the entire probability distribution sums to 1\n",
    "    For R CPT: Ensures each conditional distribution (column) sums to 1\n",
    "    \n",
    "    Parameters:\n",
    "    - cpt_df: DataFrame with probabilities (index should be row identifiers)\n",
    "    - row_index: Index value identifying the row to modify\n",
    "    - column: Column name to modify\n",
    "    - changes: List of incremental changes to apply (can be positive or negative)\n",
    "    \n",
    "    Returns:\n",
    "    - List of valid changes\n",
    "    \n",
    "    Raises:\n",
    "    - ValueError if any change would create invalid probabilities\n",
    "    \"\"\"\n",
    "    if row_index not in cpt_df.index:\n",
    "        raise ValueError(f\"Row index '{row_index}' not found in CPT\")\n",
    "    \n",
    "    if column not in cpt_df.columns:\n",
    "        raise ValueError(f\"Column '{column}' not found in CPT\")\n",
    "    \n",
    "    # Get current probability value to modify\n",
    "    current_value = cpt_df.loc[row_index, column]\n",
    "    \n",
    "    valid_changes = []\n",
    "    invalid_changes = []\n",
    "    \n",
    "    for change in changes:\n",
    "        # Calculate new probability value (always incremental)\n",
    "        new_value = current_value + change\n",
    "        change_desc = f\"increment by {change}\" if change >= 0 else f\"decrement by {abs(change)}\"\n",
    "        \n",
    "        # Check probability bounds: must be between 0 and 1\n",
    "        if not (0 <= new_value <= 1):\n",
    "            invalid_changes.append(f\"Change '{change_desc}' results in invalid probability {new_value:.3f} (must be between 0 and 1)\")\n",
    "            continue\n",
    "        \n",
    "        # Check if remaining probability for redistribution is valid\n",
    "        remaining_prob = 1 - new_value\n",
    "        if remaining_prob < 0:\n",
    "            invalid_changes.append(f\"Change '{change_desc}' would require negative remaining probability {remaining_prob:.3f}\")\n",
    "            continue\n",
    "        \n",
    "        valid_changes.append(change)\n",
    "    \n",
    "    # Raise detailed error if any changes are invalid\n",
    "    if invalid_changes:\n",
    "        error_msg = f\"Invalid probability changes detected for {row_index}[{column}] (current value: {current_value:.3f}):\\n\"\n",
    "        for i, error in enumerate(invalid_changes, 1):\n",
    "            error_msg += f\"  {i}. {error}\\n\"\n",
    "        error_msg += f\"\\nValid probability changes must result in values between 0 and 1, and allow for valid redistribution of remaining probability.\"\n",
    "        raise ValueError(error_msg)\n",
    "    \n",
    "    if not valid_changes:\n",
    "        raise ValueError(f\"No valid changes provided for {row_index}[{column}]\")\n",
    "    \n",
    "    return valid_changes\n",
    "\n",
    "def generate_modified_cpts(cpt_df: pd.DataFrame, row_index: str, column: str, \n",
    "                          changes: list, redistribution: str = 'proportional'):\n",
    "    \"\"\"\n",
    "    Creates multiple modified versions of a CPT with different probability values.\n",
    "    \n",
    "    Parameters:\n",
    "    - cpt_df: Original CPT DataFrame (with appropriate index)\n",
    "    - row_index: Index value identifying the row to modify\n",
    "    - column: Column name to modify\n",
    "    - changes: List of incremental changes to apply\n",
    "    - redistribution: 'proportional' or 'equal' for redistributing remaining probability\n",
    "    \n",
    "    Returns:\n",
    "    - List of modified CPT DataFrames\n",
    "    - List of actual parameter values used\n",
    "    \"\"\"\n",
    "    modified_cpts = []\n",
    "    parameter_values = []\n",
    "    \n",
    "    # Validate changes first\n",
    "    valid_changes = validate_probability_changes(cpt_df, row_index, column, changes)\n",
    "    \n",
    "    for change in valid_changes:\n",
    "        modified_cpt = cpt_df.copy()\n",
    "        \n",
    "        # Apply the probability change to the target row\n",
    "        current_value = cpt_df.loc[row_index, column]\n",
    "        new_value = current_value + change\n",
    "        \n",
    "        modified_cpt.loc[row_index, column] = new_value\n",
    "        parameter_values.append(new_value)\n",
    "        \n",
    "        # Redistribute remaining probability among other rows to maintain column sum = 1\n",
    "        other_rows = [idx for idx in cpt_df.index if idx != row_index]\n",
    "        remaining_prob = 1 - new_value\n",
    "        \n",
    "        if len(other_rows) > 0:\n",
    "            if redistribution == 'proportional':\n",
    "                # Maintain relative proportions among other probability values\n",
    "                current_other_sum = cpt_df.loc[other_rows, column].sum()\n",
    "                if current_other_sum > 0:\n",
    "                    scale_factor = remaining_prob / current_other_sum\n",
    "                    for row in other_rows:\n",
    "                        modified_cpt.loc[row, column] = cpt_df.loc[row, column] * scale_factor\n",
    "                else:\n",
    "                    # Fallback to equal distribution if sum is zero\n",
    "                    for row in other_rows:\n",
    "                        modified_cpt.loc[row, column] = remaining_prob / len(other_rows)\n",
    "            else:  # equal redistribution\n",
    "                # Distribute remaining probability equally among other rows\n",
    "                for row in other_rows:\n",
    "                    modified_cpt.loc[row, column] = remaining_prob / len(other_rows)\n",
    "        \n",
    "        modified_cpts.append(modified_cpt)\n",
    "    \n",
    "    return modified_cpts, parameter_values\n",
    "\n",
    "def calculate_meu_for_modified_cpts(modified_q_cpts=None, modified_r_cpts=None, \n",
    "                                   base_q_cpt=None, base_r_cpt=None):\n",
    "    \"\"\"\n",
    "    Calculate MEU for each modified CPT configuration.\n",
    "    \n",
    "    Parameters:\n",
    "    - modified_q_cpts: List of modified Q CPTs (None if Q is not being varied)\n",
    "    - modified_r_cpts: List of modified R CPTs (None if R is not being varied) \n",
    "    - base_q_cpt: Base Q CPT to use when Q is not being varied\n",
    "    - base_r_cpt: Base R CPT to use when R is not being varied\n",
    "    \n",
    "    Returns:\n",
    "    - List of MEU values\n",
    "    - List of optimal decisions\n",
    "    \"\"\"\n",
    "    meu_values = []\n",
    "    optimal_decisions = []\n",
    "    \n",
    "    # Determine which CPTs are being modified\n",
    "    if modified_q_cpts is not None:\n",
    "        cpt_list = modified_q_cpts\n",
    "        varying_q = True\n",
    "        q_base = base_q_cpt if base_q_cpt is not None else q_cpt\n",
    "        r_base = base_r_cpt if base_r_cpt is not None else r_cpt\n",
    "    else:\n",
    "        cpt_list = modified_r_cpts\n",
    "        varying_q = False\n",
    "        q_base = base_q_cpt if base_q_cpt is not None else q_cpt\n",
    "        r_base = base_r_cpt if base_r_cpt is not None else r_cpt\n",
    "    \n",
    "    for i, modified_cpt in enumerate(cpt_list):\n",
    "        # Create fresh influence diagram for each parameter value\n",
    "        temp_diagram = InfluenceDiagram()\n",
    "        \n",
    "        # Rebuild the same network structure as the original\n",
    "        Q_temp = temp_diagram.addChanceNode(grum.LabelizedVariable(\"Q\", \"Q\", 0).addLabel('high').addLabel('medium').addLabel('low'))\n",
    "        R_temp = temp_diagram.addChanceNode(grum.LabelizedVariable(\"R\", \"R\", 0).addLabel('pass').addLabel('fail').addLabel('no_results'))\n",
    "        T_temp = temp_diagram.addDecisionNode(grum.LabelizedVariable(\"T\", \"T\", 0).addLabel('do').addLabel('not_do'))\n",
    "        B_temp = temp_diagram.addDecisionNode(grum.LabelizedVariable(\"B\", \"B\", 0).addLabel('buy').addLabel('not_buy'))\n",
    "        U_temp = temp_diagram.addUtilityNode(grum.LabelizedVariable(\"U\", \"U\", 0).addLabel('utility'))\n",
    "        \n",
    "        # Define the same dependencies and information flow\n",
    "        temp_diagram.addArc(\"T\", \"R\")\n",
    "        temp_diagram.addArc(\"T\", \"B\")\n",
    "        temp_diagram.addArc(\"T\", \"U\")\n",
    "        temp_diagram.addArc(\"R\", \"B\")\n",
    "        temp_diagram.addArc(\"B\", \"U\")\n",
    "        temp_diagram.addArc(\"Q\", \"R\")\n",
    "        temp_diagram.addArc(\"Q\", \"U\")\n",
    "        \n",
    "        # Set probabilities\n",
    "        if varying_q:\n",
    "            # Use modified Q CPT and base R CPT\n",
    "            temp_diagram.cpt(Q_temp)[:] = modified_cpt['Probability'].to_list()\n",
    "            current_r_cpt = r_base\n",
    "        else:\n",
    "            # Use base Q CPT and modified R CPT  \n",
    "            temp_diagram.cpt(Q_temp)[:] = q_base['Probability'].to_list()\n",
    "            current_r_cpt = modified_cpt\n",
    "        \n",
    "        # Set R probabilities\n",
    "        for q in [\"high\", \"medium\", \"low\"]:\n",
    "            pass_prob = current_r_cpt.loc['pass', q]\n",
    "            fail_prob = current_r_cpt.loc['fail', q]\n",
    "            \n",
    "            temp_diagram.cpt(R_temp)[{\"Q\": q, \"T\": \"do\"}] = [pass_prob, fail_prob, 0.0]\n",
    "            temp_diagram.cpt(R_temp)[{\"Q\": q, \"T\": \"not_do\"}] = [0.0, 0.0, 1.0]\n",
    "        \n",
    "        # Set utility values (same as original)\n",
    "        temp_diagram.utility(U_temp)[{\"T\": \"do\", \"B\": \"buy\"}] = np.array(\n",
    "            [u_table.iloc[0, 3], u_table.iloc[1, 3], u_table.iloc[2, 3]])[:, np.newaxis]\n",
    "        temp_diagram.utility(U_temp)[{\"T\": \"do\", \"B\": \"not_buy\"}] = np.array(\n",
    "            [u_table.iloc[3, 3]] * 3)[:, np.newaxis]\n",
    "        temp_diagram.utility(U_temp)[{\"T\": \"not_do\", \"B\": \"buy\"}] = np.array(\n",
    "            [u_table.iloc[4, 3], u_table.iloc[5, 3], u_table.iloc[6, 3]])[:, np.newaxis]\n",
    "        temp_diagram.utility(U_temp)[{\"T\": \"not_do\", \"B\": \"not_buy\"}] = np.array(\n",
    "            [u_table.iloc[7, 3]] * 3)[:, np.newaxis]\n",
    "        \n",
    "        # Calculate MEU\n",
    "        temp_inference = grum.ShaferShenoyLIMIDInference(temp_diagram)\n",
    "        temp_inference.makeInference()\n",
    "        meu_result = temp_inference.MEU()\n",
    "        meu_values.append(meu_result['mean'])\n",
    "        \n",
    "        # Get optimal decisions\n",
    "        optimal_T = temp_inference.optimalDecision(\"T\").argmax()\n",
    "        optimal_B_tensor = temp_inference.optimalDecision(\"B\")\n",
    "        \n",
    "        # For T decision (simple decision)\n",
    "        t_decision = 'do' if optimal_T[0][0]['T'] == 0 else 'not_do'\n",
    "        \n",
    "        # For B decision (depends on R), extract the policy\n",
    "        b_instantiations, _ = optimal_B_tensor.argmax()\n",
    "        b_policy = {}\n",
    "        for inst in b_instantiations:\n",
    "            r_value = inst['R']\n",
    "            b_value = inst['B']\n",
    "            r_label = ['pass', 'fail', 'no_results'][r_value]\n",
    "            b_label = 'buy' if b_value == 0 else 'not_buy'\n",
    "            b_policy[r_label] = b_label\n",
    "        \n",
    "        optimal_decisions.append({\n",
    "            'T': t_decision,\n",
    "            'B': b_policy\n",
    "        })\n",
    "    \n",
    "    return meu_values, optimal_decisions\n",
    "\n",
    "\n",
    "def plot_sensitivity_analysis(parameter_values: list, meu_values: list, \n",
    "                             parameter_name: str, baseline_meu: float = None,\n",
    "                             optimal_decisions: list = None):\n",
    "    \"\"\"\n",
    "    Plot sensitivity analysis results with MEU on X-axis and parameter probability on Y-axis using Plotly.\n",
    "    \n",
    "    Parameters:\n",
    "    - parameter_values: Y-axis values (parameter probability values tested)\n",
    "    - meu_values: X-axis values (corresponding MEU values)\n",
    "    - parameter_name: Name of parameter being analyzed\n",
    "    - baseline_meu: Original MEU value for reference line\n",
    "    - optimal_decisions: List of optimal decision dictionaries for hover info\n",
    "    \"\"\"\n",
    "    # Create hover text with optimal decisions\n",
    "    hover_text = []\n",
    "    if optimal_decisions:\n",
    "        for i, decision in enumerate(optimal_decisions):\n",
    "            b_policy_str = ', '.join([f\"R={r}→{b}\" for r, b in decision['B'].items()])\n",
    "            hover_info = f\"Parameter: {parameter_values[i]:.3f}<br>MEU: {meu_values[i]:.1f}<br>T: {decision['T']}<br>B: [{b_policy_str}]\"\n",
    "            hover_text.append(hover_info)\n",
    "    else:\n",
    "        hover_text = [f\"Parameter: {param:.3f}<br>MEU: {meu:.1f}\" \n",
    "                     for param, meu in zip(parameter_values, meu_values)]\n",
    "    \n",
    "    # Create the main scatter plot\n",
    "    fig = go.Figure()\n",
    "    \n",
    "    # Add scatter points with line\n",
    "    fig.add_trace(go.Scatter(\n",
    "        x=meu_values,\n",
    "        y=parameter_values,\n",
    "        mode='markers+lines',\n",
    "        marker=dict(size=12, color='steelblue', line=dict(width=2, color='navy')),\n",
    "        line=dict(width=3, color='steelblue'),\n",
    "        hovertemplate='%{hovertext}<extra></extra>',\n",
    "        hovertext=hover_text,\n",
    "        name='Sensitivity Analysis'\n",
    "    ))\n",
    "    \n",
    "    # Add MEU value annotations (only MEU, not parameter)\n",
    "    for i, (x, y) in enumerate(zip(meu_values, parameter_values)):\n",
    "        fig.add_annotation(\n",
    "            x=x, y=y,\n",
    "            text=f'{x:.1f}',\n",
    "            showarrow=False,\n",
    "            xshift=15, yshift=5,\n",
    "            font=dict(size=10, color='black'),\n",
    "            bgcolor='rgba(255,255,255,0.8)',\n",
    "            bordercolor='black',\n",
    "            borderwidth=1\n",
    "        )\n",
    "    \n",
    "    # Add baseline reference line if provided\n",
    "    if baseline_meu is not None:\n",
    "        fig.add_vline(\n",
    "            x=baseline_meu, \n",
    "            line_dash=\"dash\", \n",
    "            line_color=\"red\",\n",
    "            annotation_text=f\"Baseline MEU: {baseline_meu:.1f}\",\n",
    "            annotation_position=\"top\"\n",
    "        )\n",
    "    \n",
    "    # Update layout\n",
    "    fig.update_layout(\n",
    "        title=f'Sensitivity Analysis: {parameter_name} vs MEU',\n",
    "        xaxis_title='Maximum Expected Utility (MEU)',\n",
    "        yaxis_title=parameter_name,\n",
    "        width=800,\n",
    "        height=600,\n",
    "        showlegend=False,\n",
    "        template=\"plotly_white\"\n",
    "    )\n",
    "    \n",
    "    fig.show()\n",
    "\n",
    "\n",
    "def print_sensitivity_results(results: dict):\n",
    "    \"\"\"\n",
    "    Print sensitivity analysis results in a formatted way.\n",
    "    \n",
    "    Parameters:\n",
    "    - results: Dictionary returned from sensitivity_analysis function\n",
    "    \"\"\"\n",
    "    print(f\"\\n📈 Sensitivity Analysis Results:\")\n",
    "    print(f\"Parameter: {results['parameter_name']}\")\n",
    "    print(f\"Baseline MEU: {results['baseline_meu']:.1f}\")\n",
    "    print(f\"\\nParameter Value → MEU:\")\n",
    "    for param_val, meu_val in zip(results['parameter_values'], results['meu_values']):\n",
    "        print(f\"  {param_val:.3f} → {meu_val:.1f}\")\n",
    "\n",
    "    print(f\"\\n🎯 Optimal Decisions:\")\n",
    "    for i, (param_val, decision) in enumerate(zip(results['parameter_values'], results['optimal_decisions'])):\n",
    "        b_policy_str = ', '.join([f\"R={r}→{b}\" for r, b in decision['B'].items()])\n",
    "        print(f\"  P(param)={param_val:.3f}: T={decision['T']}, B=[{b_policy_str}]\")\n",
    "\n",
    "\n",
    "def plot_sensitivity_results(results: dict):\n",
    "    \"\"\"\n",
    "    Plot sensitivity analysis results using the computed results.\n",
    "    \n",
    "    Parameters:\n",
    "    - results: Dictionary returned from sensitivity_analysis function\n",
    "    \"\"\"\n",
    "    plot_sensitivity_analysis(\n",
    "        results['parameter_values'], \n",
    "        results['meu_values'], \n",
    "        results['parameter_name'], \n",
    "        results['baseline_meu'],\n",
    "        results['optimal_decisions']\n",
    "    )\n",
    "\n",
    "\n",
    "def sensitivity_analysis(\n",
    "    cpt_df: pd.DataFrame, \n",
    "    row_index: str, \n",
    "    column: str, \n",
    "    changes: list, \n",
    "    redistribution: str = 'proportional'\n",
    "):\n",
    "    \"\"\"\n",
    "    Complete sensitivity analysis workflow for a single parameter.\n",
    "    \n",
    "    Parameters:\n",
    "    - cpt_df: CPT DataFrame to modify (q_cpt or r_cpt)\n",
    "    - row_index: Row identifier (e.g., 'high' for Q, 'pass' for R)\n",
    "    - column: Column name to modify (e.g., 'Probability' for Q, 'high' for R)\n",
    "    - changes: List of incremental changes to test (can be positive or negative)\n",
    "    - redistribution: 'proportional' or 'equal'\n",
    "    \n",
    "    Returns:\n",
    "    - Dictionary with results including parameter values, MEU values, and optimal decisions\n",
    "    \"\"\"\n",
    "    # Determine if we're working with Q or R CPT\n",
    "    is_q_cpt = 'Probability' in cpt_df.columns\n",
    "    \n",
    "    # Generate modified CPTs\n",
    "    modified_cpts, parameter_values = generate_modified_cpts(\n",
    "        cpt_df, row_index, column, changes, redistribution\n",
    "    )\n",
    "    \n",
    "    # Calculate MEU for each modified CPT\n",
    "    if is_q_cpt:\n",
    "        meu_values, optimal_decisions = calculate_meu_for_modified_cpts(\n",
    "            modified_q_cpts=modified_cpts\n",
    "        )\n",
    "        param_name = f\"P(Q={row_index})\"\n",
    "    else:\n",
    "        meu_values, optimal_decisions = calculate_meu_for_modified_cpts(\n",
    "            modified_r_cpts=modified_cpts\n",
    "        )\n",
    "        param_name = f\"P(R={row_index} | Q={column})\"\n",
    "    \n",
    "    # Return comprehensive results\n",
    "    results = {\n",
    "        'parameter_name': param_name,\n",
    "        'parameter_values': parameter_values,\n",
    "        'meu_values': meu_values,\n",
    "        'optimal_decisions': optimal_decisions,\n",
    "        'baseline_meu': meu,\n",
    "        'modified_cpts': modified_cpts\n",
    "    }\n",
    "    \n",
    "    return results"
   ]
  },
  {
   "cell_type": "markdown",
   "id": "c8e21df2",
   "metadata": {},
   "source": [
    "### 2.2 - Example 1: Q CPT Sensitivity Analysis"
   ]
  },
  {
   "cell_type": "code",
   "execution_count": 77,
   "id": "35de6e17",
   "metadata": {},
   "outputs": [
    {
     "name": "stdout",
     "output_type": "stream",
     "text": [
      "🔍 Testing sensitivity analysis on P(Q=high)\n",
      "==================================================\n",
      "\n",
      "📈 Sensitivity Analysis Results:\n",
      "Parameter: P(Q=high)\n",
      "Baseline MEU: 751.0\n",
      "\n",
      "Parameter Value → MEU:\n",
      "  0.350 → 751.0\n",
      "  0.400 → 791.7\n",
      "  0.450 → 832.4\n",
      "  0.500 → 873.1\n",
      "\n",
      "🎯 Optimal Decisions:\n",
      "  P(param)=0.350: T=not_do, B=[R=pass→buy, R=fail→buy, R=no_results→buy]\n",
      "  P(param)=0.400: T=not_do, B=[R=pass→buy, R=fail→buy, R=no_results→buy]\n",
      "  P(param)=0.450: T=not_do, B=[R=pass→buy, R=fail→buy, R=no_results→buy]\n",
      "  P(param)=0.500: T=not_do, B=[R=pass→buy, R=fail→buy, R=no_results→buy]\n"
     ]
    },
    {
     "data": {
      "application/vnd.plotly.v1+json": {
       "config": {
        "plotlyServerURL": "https://plot.ly"
       },
       "data": [
        {
         "hovertemplate": "%{hovertext}<extra></extra>",
         "hovertext": [
          "Parameter: 0.350<br>MEU: 751.0<br>T: not_do<br>B: [R=pass→buy, R=fail→buy, R=no_results→buy]",
          "Parameter: 0.400<br>MEU: 791.7<br>T: not_do<br>B: [R=pass→buy, R=fail→buy, R=no_results→buy]",
          "Parameter: 0.450<br>MEU: 832.4<br>T: not_do<br>B: [R=pass→buy, R=fail→buy, R=no_results→buy]",
          "Parameter: 0.500<br>MEU: 873.1<br>T: not_do<br>B: [R=pass→buy, R=fail→buy, R=no_results→buy]"
         ],
         "line": {
          "color": "steelblue",
          "width": 3
         },
         "marker": {
          "color": "steelblue",
          "line": {
           "color": "navy",
           "width": 2
          },
          "size": 12
         },
         "mode": "markers+lines",
         "name": "Sensitivity Analysis",
         "type": "scatter",
         "x": [
          751,
          791.6923076923077,
          832.3846153846154,
          873.0769230769231
         ],
         "y": [
          0.35,
          0.39999999999999997,
          0.44999999999999996,
          0.5
         ]
        }
       ],
       "layout": {
        "annotations": [
         {
          "bgcolor": "rgba(255,255,255,0.8)",
          "bordercolor": "black",
          "borderwidth": 1,
          "font": {
           "color": "black",
           "size": 10
          },
          "showarrow": false,
          "text": "751.0",
          "x": 751,
          "xshift": 15,
          "y": 0.35,
          "yshift": 5
         },
         {
          "bgcolor": "rgba(255,255,255,0.8)",
          "bordercolor": "black",
          "borderwidth": 1,
          "font": {
           "color": "black",
           "size": 10
          },
          "showarrow": false,
          "text": "791.7",
          "x": 791.6923076923077,
          "xshift": 15,
          "y": 0.39999999999999997,
          "yshift": 5
         },
         {
          "bgcolor": "rgba(255,255,255,0.8)",
          "bordercolor": "black",
          "borderwidth": 1,
          "font": {
           "color": "black",
           "size": 10
          },
          "showarrow": false,
          "text": "832.4",
          "x": 832.3846153846154,
          "xshift": 15,
          "y": 0.44999999999999996,
          "yshift": 5
         },
         {
          "bgcolor": "rgba(255,255,255,0.8)",
          "bordercolor": "black",
          "borderwidth": 1,
          "font": {
           "color": "black",
           "size": 10
          },
          "showarrow": false,
          "text": "873.1",
          "x": 873.0769230769231,
          "xshift": 15,
          "y": 0.5,
          "yshift": 5
         },
         {
          "showarrow": false,
          "text": "Baseline MEU: 751.0",
          "x": 751,
          "xanchor": "center",
          "xref": "x",
          "y": 1,
          "yanchor": "bottom",
          "yref": "y domain"
         }
        ],
        "height": 600,
        "shapes": [
         {
          "line": {
           "color": "red",
           "dash": "dash"
          },
          "type": "line",
          "x0": 751,
          "x1": 751,
          "xref": "x",
          "y0": 0,
          "y1": 1,
          "yref": "y domain"
         }
        ],
        "showlegend": false,
        "template": {
         "data": {
          "bar": [
           {
            "error_x": {
             "color": "#2a3f5f"
            },
            "error_y": {
             "color": "#2a3f5f"
            },
            "marker": {
             "line": {
              "color": "white",
              "width": 0.5
             },
             "pattern": {
              "fillmode": "overlay",
              "size": 10,
              "solidity": 0.2
             }
            },
            "type": "bar"
           }
          ],
          "barpolar": [
           {
            "marker": {
             "line": {
              "color": "white",
              "width": 0.5
             },
             "pattern": {
              "fillmode": "overlay",
              "size": 10,
              "solidity": 0.2
             }
            },
            "type": "barpolar"
           }
          ],
          "carpet": [
           {
            "aaxis": {
             "endlinecolor": "#2a3f5f",
             "gridcolor": "#C8D4E3",
             "linecolor": "#C8D4E3",
             "minorgridcolor": "#C8D4E3",
             "startlinecolor": "#2a3f5f"
            },
            "baxis": {
             "endlinecolor": "#2a3f5f",
             "gridcolor": "#C8D4E3",
             "linecolor": "#C8D4E3",
             "minorgridcolor": "#C8D4E3",
             "startlinecolor": "#2a3f5f"
            },
            "type": "carpet"
           }
          ],
          "choropleth": [
           {
            "colorbar": {
             "outlinewidth": 0,
             "ticks": ""
            },
            "type": "choropleth"
           }
          ],
          "contour": [
           {
            "colorbar": {
             "outlinewidth": 0,
             "ticks": ""
            },
            "colorscale": [
             [
              0,
              "#0d0887"
             ],
             [
              0.1111111111111111,
              "#46039f"
             ],
             [
              0.2222222222222222,
              "#7201a8"
             ],
             [
              0.3333333333333333,
              "#9c179e"
             ],
             [
              0.4444444444444444,
              "#bd3786"
             ],
             [
              0.5555555555555556,
              "#d8576b"
             ],
             [
              0.6666666666666666,
              "#ed7953"
             ],
             [
              0.7777777777777778,
              "#fb9f3a"
             ],
             [
              0.8888888888888888,
              "#fdca26"
             ],
             [
              1,
              "#f0f921"
             ]
            ],
            "type": "contour"
           }
          ],
          "contourcarpet": [
           {
            "colorbar": {
             "outlinewidth": 0,
             "ticks": ""
            },
            "type": "contourcarpet"
           }
          ],
          "heatmap": [
           {
            "colorbar": {
             "outlinewidth": 0,
             "ticks": ""
            },
            "colorscale": [
             [
              0,
              "#0d0887"
             ],
             [
              0.1111111111111111,
              "#46039f"
             ],
             [
              0.2222222222222222,
              "#7201a8"
             ],
             [
              0.3333333333333333,
              "#9c179e"
             ],
             [
              0.4444444444444444,
              "#bd3786"
             ],
             [
              0.5555555555555556,
              "#d8576b"
             ],
             [
              0.6666666666666666,
              "#ed7953"
             ],
             [
              0.7777777777777778,
              "#fb9f3a"
             ],
             [
              0.8888888888888888,
              "#fdca26"
             ],
             [
              1,
              "#f0f921"
             ]
            ],
            "type": "heatmap"
           }
          ],
          "histogram": [
           {
            "marker": {
             "pattern": {
              "fillmode": "overlay",
              "size": 10,
              "solidity": 0.2
             }
            },
            "type": "histogram"
           }
          ],
          "histogram2d": [
           {
            "colorbar": {
             "outlinewidth": 0,
             "ticks": ""
            },
            "colorscale": [
             [
              0,
              "#0d0887"
             ],
             [
              0.1111111111111111,
              "#46039f"
             ],
             [
              0.2222222222222222,
              "#7201a8"
             ],
             [
              0.3333333333333333,
              "#9c179e"
             ],
             [
              0.4444444444444444,
              "#bd3786"
             ],
             [
              0.5555555555555556,
              "#d8576b"
             ],
             [
              0.6666666666666666,
              "#ed7953"
             ],
             [
              0.7777777777777778,
              "#fb9f3a"
             ],
             [
              0.8888888888888888,
              "#fdca26"
             ],
             [
              1,
              "#f0f921"
             ]
            ],
            "type": "histogram2d"
           }
          ],
          "histogram2dcontour": [
           {
            "colorbar": {
             "outlinewidth": 0,
             "ticks": ""
            },
            "colorscale": [
             [
              0,
              "#0d0887"
             ],
             [
              0.1111111111111111,
              "#46039f"
             ],
             [
              0.2222222222222222,
              "#7201a8"
             ],
             [
              0.3333333333333333,
              "#9c179e"
             ],
             [
              0.4444444444444444,
              "#bd3786"
             ],
             [
              0.5555555555555556,
              "#d8576b"
             ],
             [
              0.6666666666666666,
              "#ed7953"
             ],
             [
              0.7777777777777778,
              "#fb9f3a"
             ],
             [
              0.8888888888888888,
              "#fdca26"
             ],
             [
              1,
              "#f0f921"
             ]
            ],
            "type": "histogram2dcontour"
           }
          ],
          "mesh3d": [
           {
            "colorbar": {
             "outlinewidth": 0,
             "ticks": ""
            },
            "type": "mesh3d"
           }
          ],
          "parcoords": [
           {
            "line": {
             "colorbar": {
              "outlinewidth": 0,
              "ticks": ""
             }
            },
            "type": "parcoords"
           }
          ],
          "pie": [
           {
            "automargin": true,
            "type": "pie"
           }
          ],
          "scatter": [
           {
            "fillpattern": {
             "fillmode": "overlay",
             "size": 10,
             "solidity": 0.2
            },
            "type": "scatter"
           }
          ],
          "scatter3d": [
           {
            "line": {
             "colorbar": {
              "outlinewidth": 0,
              "ticks": ""
             }
            },
            "marker": {
             "colorbar": {
              "outlinewidth": 0,
              "ticks": ""
             }
            },
            "type": "scatter3d"
           }
          ],
          "scattercarpet": [
           {
            "marker": {
             "colorbar": {
              "outlinewidth": 0,
              "ticks": ""
             }
            },
            "type": "scattercarpet"
           }
          ],
          "scattergeo": [
           {
            "marker": {
             "colorbar": {
              "outlinewidth": 0,
              "ticks": ""
             }
            },
            "type": "scattergeo"
           }
          ],
          "scattergl": [
           {
            "marker": {
             "colorbar": {
              "outlinewidth": 0,
              "ticks": ""
             }
            },
            "type": "scattergl"
           }
          ],
          "scattermap": [
           {
            "marker": {
             "colorbar": {
              "outlinewidth": 0,
              "ticks": ""
             }
            },
            "type": "scattermap"
           }
          ],
          "scattermapbox": [
           {
            "marker": {
             "colorbar": {
              "outlinewidth": 0,
              "ticks": ""
             }
            },
            "type": "scattermapbox"
           }
          ],
          "scatterpolar": [
           {
            "marker": {
             "colorbar": {
              "outlinewidth": 0,
              "ticks": ""
             }
            },
            "type": "scatterpolar"
           }
          ],
          "scatterpolargl": [
           {
            "marker": {
             "colorbar": {
              "outlinewidth": 0,
              "ticks": ""
             }
            },
            "type": "scatterpolargl"
           }
          ],
          "scatterternary": [
           {
            "marker": {
             "colorbar": {
              "outlinewidth": 0,
              "ticks": ""
             }
            },
            "type": "scatterternary"
           }
          ],
          "surface": [
           {
            "colorbar": {
             "outlinewidth": 0,
             "ticks": ""
            },
            "colorscale": [
             [
              0,
              "#0d0887"
             ],
             [
              0.1111111111111111,
              "#46039f"
             ],
             [
              0.2222222222222222,
              "#7201a8"
             ],
             [
              0.3333333333333333,
              "#9c179e"
             ],
             [
              0.4444444444444444,
              "#bd3786"
             ],
             [
              0.5555555555555556,
              "#d8576b"
             ],
             [
              0.6666666666666666,
              "#ed7953"
             ],
             [
              0.7777777777777778,
              "#fb9f3a"
             ],
             [
              0.8888888888888888,
              "#fdca26"
             ],
             [
              1,
              "#f0f921"
             ]
            ],
            "type": "surface"
           }
          ],
          "table": [
           {
            "cells": {
             "fill": {
              "color": "#EBF0F8"
             },
             "line": {
              "color": "white"
             }
            },
            "header": {
             "fill": {
              "color": "#C8D4E3"
             },
             "line": {
              "color": "white"
             }
            },
            "type": "table"
           }
          ]
         },
         "layout": {
          "annotationdefaults": {
           "arrowcolor": "#2a3f5f",
           "arrowhead": 0,
           "arrowwidth": 1
          },
          "autotypenumbers": "strict",
          "coloraxis": {
           "colorbar": {
            "outlinewidth": 0,
            "ticks": ""
           }
          },
          "colorscale": {
           "diverging": [
            [
             0,
             "#8e0152"
            ],
            [
             0.1,
             "#c51b7d"
            ],
            [
             0.2,
             "#de77ae"
            ],
            [
             0.3,
             "#f1b6da"
            ],
            [
             0.4,
             "#fde0ef"
            ],
            [
             0.5,
             "#f7f7f7"
            ],
            [
             0.6,
             "#e6f5d0"
            ],
            [
             0.7,
             "#b8e186"
            ],
            [
             0.8,
             "#7fbc41"
            ],
            [
             0.9,
             "#4d9221"
            ],
            [
             1,
             "#276419"
            ]
           ],
           "sequential": [
            [
             0,
             "#0d0887"
            ],
            [
             0.1111111111111111,
             "#46039f"
            ],
            [
             0.2222222222222222,
             "#7201a8"
            ],
            [
             0.3333333333333333,
             "#9c179e"
            ],
            [
             0.4444444444444444,
             "#bd3786"
            ],
            [
             0.5555555555555556,
             "#d8576b"
            ],
            [
             0.6666666666666666,
             "#ed7953"
            ],
            [
             0.7777777777777778,
             "#fb9f3a"
            ],
            [
             0.8888888888888888,
             "#fdca26"
            ],
            [
             1,
             "#f0f921"
            ]
           ],
           "sequentialminus": [
            [
             0,
             "#0d0887"
            ],
            [
             0.1111111111111111,
             "#46039f"
            ],
            [
             0.2222222222222222,
             "#7201a8"
            ],
            [
             0.3333333333333333,
             "#9c179e"
            ],
            [
             0.4444444444444444,
             "#bd3786"
            ],
            [
             0.5555555555555556,
             "#d8576b"
            ],
            [
             0.6666666666666666,
             "#ed7953"
            ],
            [
             0.7777777777777778,
             "#fb9f3a"
            ],
            [
             0.8888888888888888,
             "#fdca26"
            ],
            [
             1,
             "#f0f921"
            ]
           ]
          },
          "colorway": [
           "#636efa",
           "#EF553B",
           "#00cc96",
           "#ab63fa",
           "#FFA15A",
           "#19d3f3",
           "#FF6692",
           "#B6E880",
           "#FF97FF",
           "#FECB52"
          ],
          "font": {
           "color": "#2a3f5f"
          },
          "geo": {
           "bgcolor": "white",
           "lakecolor": "white",
           "landcolor": "white",
           "showlakes": true,
           "showland": true,
           "subunitcolor": "#C8D4E3"
          },
          "hoverlabel": {
           "align": "left"
          },
          "hovermode": "closest",
          "mapbox": {
           "style": "light"
          },
          "paper_bgcolor": "white",
          "plot_bgcolor": "white",
          "polar": {
           "angularaxis": {
            "gridcolor": "#EBF0F8",
            "linecolor": "#EBF0F8",
            "ticks": ""
           },
           "bgcolor": "white",
           "radialaxis": {
            "gridcolor": "#EBF0F8",
            "linecolor": "#EBF0F8",
            "ticks": ""
           }
          },
          "scene": {
           "xaxis": {
            "backgroundcolor": "white",
            "gridcolor": "#DFE8F3",
            "gridwidth": 2,
            "linecolor": "#EBF0F8",
            "showbackground": true,
            "ticks": "",
            "zerolinecolor": "#EBF0F8"
           },
           "yaxis": {
            "backgroundcolor": "white",
            "gridcolor": "#DFE8F3",
            "gridwidth": 2,
            "linecolor": "#EBF0F8",
            "showbackground": true,
            "ticks": "",
            "zerolinecolor": "#EBF0F8"
           },
           "zaxis": {
            "backgroundcolor": "white",
            "gridcolor": "#DFE8F3",
            "gridwidth": 2,
            "linecolor": "#EBF0F8",
            "showbackground": true,
            "ticks": "",
            "zerolinecolor": "#EBF0F8"
           }
          },
          "shapedefaults": {
           "line": {
            "color": "#2a3f5f"
           }
          },
          "ternary": {
           "aaxis": {
            "gridcolor": "#DFE8F3",
            "linecolor": "#A2B1C6",
            "ticks": ""
           },
           "baxis": {
            "gridcolor": "#DFE8F3",
            "linecolor": "#A2B1C6",
            "ticks": ""
           },
           "bgcolor": "white",
           "caxis": {
            "gridcolor": "#DFE8F3",
            "linecolor": "#A2B1C6",
            "ticks": ""
           }
          },
          "title": {
           "x": 0.05
          },
          "xaxis": {
           "automargin": true,
           "gridcolor": "#EBF0F8",
           "linecolor": "#EBF0F8",
           "ticks": "",
           "title": {
            "standoff": 15
           },
           "zerolinecolor": "#EBF0F8",
           "zerolinewidth": 2
          },
          "yaxis": {
           "automargin": true,
           "gridcolor": "#EBF0F8",
           "linecolor": "#EBF0F8",
           "ticks": "",
           "title": {
            "standoff": 15
           },
           "zerolinecolor": "#EBF0F8",
           "zerolinewidth": 2
          }
         }
        },
        "title": {
         "text": "Sensitivity Analysis: P(Q=high) vs MEU"
        },
        "width": 800,
        "xaxis": {
         "title": {
          "text": "Maximum Expected Utility (MEU)"
         }
        },
        "yaxis": {
         "title": {
          "text": "P(Q=high)"
         }
        }
       }
      }
     },
     "metadata": {},
     "output_type": "display_data"
    }
   ],
   "source": [
    "# Test sensitivity analysis on Q probability for 'high' oil quality\n",
    "print(\"🔍 Testing sensitivity analysis on P(Q=high)\")\n",
    "print(\"=\" * 50)\n",
    "\n",
    "# Run sensitivity analysis (just computation)\n",
    "q_results = sensitivity_analysis(\n",
    "    cpt_df=q_cpt, \n",
    "    row_index='high', \n",
    "    column='Probability', \n",
    "    changes=[0, 0.05, 0.10, 0.15],\n",
    ")\n",
    "\n",
    "# Display results using separate functions\n",
    "print_sensitivity_results(q_results)\n",
    "\n",
    "# Optionally plot results\n",
    "plot_sensitivity_results(q_results)"
   ]
  },
  {
   "cell_type": "markdown",
   "id": "907cae29",
   "metadata": {},
   "source": [
    "### 2.3 - Example 1: R CPT Sensitivity Analysis"
   ]
  },
  {
   "cell_type": "code",
   "execution_count": 78,
   "id": "21552c13",
   "metadata": {},
   "outputs": [
    {
     "name": "stdout",
     "output_type": "stream",
     "text": [
      "\n",
      "======================================================================\n",
      "🔍 Testing sensitivity analysis on P(R=pass | Q=high)\n",
      "======================================================================\n",
      "\n",
      "📈 Sensitivity Analysis Results:\n",
      "Parameter: P(R=pass | Q=medium)\n",
      "Baseline MEU: 751.0\n",
      "\n",
      "Parameter Value → MEU:\n",
      "  0.700 → 751.0\n",
      "  0.750 → 751.0\n",
      "  0.800 → 751.0\n",
      "  0.850 → 751.0\n",
      "  0.900 → 752.1\n",
      "  0.950 → 758.4\n",
      "\n",
      "🎯 Optimal Decisions:\n",
      "  P(param)=0.700: T=not_do, B=[R=pass→buy, R=fail→buy, R=no_results→buy]\n",
      "  P(param)=0.750: T=not_do, B=[R=pass→buy, R=fail→buy, R=no_results→buy]\n",
      "  P(param)=0.800: T=not_do, B=[R=pass→buy, R=fail→buy, R=no_results→buy]\n",
      "  P(param)=0.850: T=not_do, B=[R=pass→buy, R=fail→buy, R=no_results→buy]\n",
      "  P(param)=0.900: T=do, B=[R=pass→buy, R=fail→not_buy, R=no_results→buy]\n",
      "  P(param)=0.950: T=do, B=[R=pass→buy, R=fail→not_buy, R=no_results→buy]\n"
     ]
    },
    {
     "data": {
      "application/vnd.plotly.v1+json": {
       "config": {
        "plotlyServerURL": "https://plot.ly"
       },
       "data": [
        {
         "hovertemplate": "%{hovertext}<extra></extra>",
         "hovertext": [
          "Parameter: 0.700<br>MEU: 751.0<br>T: not_do<br>B: [R=pass→buy, R=fail→buy, R=no_results→buy]",
          "Parameter: 0.750<br>MEU: 751.0<br>T: not_do<br>B: [R=pass→buy, R=fail→buy, R=no_results→buy]",
          "Parameter: 0.800<br>MEU: 751.0<br>T: not_do<br>B: [R=pass→buy, R=fail→buy, R=no_results→buy]",
          "Parameter: 0.850<br>MEU: 751.0<br>T: not_do<br>B: [R=pass→buy, R=fail→buy, R=no_results→buy]",
          "Parameter: 0.900<br>MEU: 752.1<br>T: do<br>B: [R=pass→buy, R=fail→not_buy, R=no_results→buy]",
          "Parameter: 0.950<br>MEU: 758.4<br>T: do<br>B: [R=pass→buy, R=fail→not_buy, R=no_results→buy]"
         ],
         "line": {
          "color": "steelblue",
          "width": 3
         },
         "marker": {
          "color": "steelblue",
          "line": {
           "color": "navy",
           "width": 2
          },
          "size": 12
         },
         "mode": "markers+lines",
         "name": "Sensitivity Analysis",
         "type": "scatter",
         "x": [
          751,
          751,
          751,
          751,
          752.1499999999999,
          758.4499999999999
         ],
         "y": [
          0.7,
          0.75,
          0.7999999999999999,
          0.85,
          0.8999999999999999,
          0.95
         ]
        }
       ],
       "layout": {
        "annotations": [
         {
          "bgcolor": "rgba(255,255,255,0.8)",
          "bordercolor": "black",
          "borderwidth": 1,
          "font": {
           "color": "black",
           "size": 10
          },
          "showarrow": false,
          "text": "751.0",
          "x": 751,
          "xshift": 15,
          "y": 0.7,
          "yshift": 5
         },
         {
          "bgcolor": "rgba(255,255,255,0.8)",
          "bordercolor": "black",
          "borderwidth": 1,
          "font": {
           "color": "black",
           "size": 10
          },
          "showarrow": false,
          "text": "751.0",
          "x": 751,
          "xshift": 15,
          "y": 0.75,
          "yshift": 5
         },
         {
          "bgcolor": "rgba(255,255,255,0.8)",
          "bordercolor": "black",
          "borderwidth": 1,
          "font": {
           "color": "black",
           "size": 10
          },
          "showarrow": false,
          "text": "751.0",
          "x": 751,
          "xshift": 15,
          "y": 0.7999999999999999,
          "yshift": 5
         },
         {
          "bgcolor": "rgba(255,255,255,0.8)",
          "bordercolor": "black",
          "borderwidth": 1,
          "font": {
           "color": "black",
           "size": 10
          },
          "showarrow": false,
          "text": "751.0",
          "x": 751,
          "xshift": 15,
          "y": 0.85,
          "yshift": 5
         },
         {
          "bgcolor": "rgba(255,255,255,0.8)",
          "bordercolor": "black",
          "borderwidth": 1,
          "font": {
           "color": "black",
           "size": 10
          },
          "showarrow": false,
          "text": "752.1",
          "x": 752.1499999999999,
          "xshift": 15,
          "y": 0.8999999999999999,
          "yshift": 5
         },
         {
          "bgcolor": "rgba(255,255,255,0.8)",
          "bordercolor": "black",
          "borderwidth": 1,
          "font": {
           "color": "black",
           "size": 10
          },
          "showarrow": false,
          "text": "758.4",
          "x": 758.4499999999999,
          "xshift": 15,
          "y": 0.95,
          "yshift": 5
         },
         {
          "showarrow": false,
          "text": "Baseline MEU: 751.0",
          "x": 751,
          "xanchor": "center",
          "xref": "x",
          "y": 1,
          "yanchor": "bottom",
          "yref": "y domain"
         }
        ],
        "height": 600,
        "shapes": [
         {
          "line": {
           "color": "red",
           "dash": "dash"
          },
          "type": "line",
          "x0": 751,
          "x1": 751,
          "xref": "x",
          "y0": 0,
          "y1": 1,
          "yref": "y domain"
         }
        ],
        "showlegend": false,
        "template": {
         "data": {
          "bar": [
           {
            "error_x": {
             "color": "#2a3f5f"
            },
            "error_y": {
             "color": "#2a3f5f"
            },
            "marker": {
             "line": {
              "color": "white",
              "width": 0.5
             },
             "pattern": {
              "fillmode": "overlay",
              "size": 10,
              "solidity": 0.2
             }
            },
            "type": "bar"
           }
          ],
          "barpolar": [
           {
            "marker": {
             "line": {
              "color": "white",
              "width": 0.5
             },
             "pattern": {
              "fillmode": "overlay",
              "size": 10,
              "solidity": 0.2
             }
            },
            "type": "barpolar"
           }
          ],
          "carpet": [
           {
            "aaxis": {
             "endlinecolor": "#2a3f5f",
             "gridcolor": "#C8D4E3",
             "linecolor": "#C8D4E3",
             "minorgridcolor": "#C8D4E3",
             "startlinecolor": "#2a3f5f"
            },
            "baxis": {
             "endlinecolor": "#2a3f5f",
             "gridcolor": "#C8D4E3",
             "linecolor": "#C8D4E3",
             "minorgridcolor": "#C8D4E3",
             "startlinecolor": "#2a3f5f"
            },
            "type": "carpet"
           }
          ],
          "choropleth": [
           {
            "colorbar": {
             "outlinewidth": 0,
             "ticks": ""
            },
            "type": "choropleth"
           }
          ],
          "contour": [
           {
            "colorbar": {
             "outlinewidth": 0,
             "ticks": ""
            },
            "colorscale": [
             [
              0,
              "#0d0887"
             ],
             [
              0.1111111111111111,
              "#46039f"
             ],
             [
              0.2222222222222222,
              "#7201a8"
             ],
             [
              0.3333333333333333,
              "#9c179e"
             ],
             [
              0.4444444444444444,
              "#bd3786"
             ],
             [
              0.5555555555555556,
              "#d8576b"
             ],
             [
              0.6666666666666666,
              "#ed7953"
             ],
             [
              0.7777777777777778,
              "#fb9f3a"
             ],
             [
              0.8888888888888888,
              "#fdca26"
             ],
             [
              1,
              "#f0f921"
             ]
            ],
            "type": "contour"
           }
          ],
          "contourcarpet": [
           {
            "colorbar": {
             "outlinewidth": 0,
             "ticks": ""
            },
            "type": "contourcarpet"
           }
          ],
          "heatmap": [
           {
            "colorbar": {
             "outlinewidth": 0,
             "ticks": ""
            },
            "colorscale": [
             [
              0,
              "#0d0887"
             ],
             [
              0.1111111111111111,
              "#46039f"
             ],
             [
              0.2222222222222222,
              "#7201a8"
             ],
             [
              0.3333333333333333,
              "#9c179e"
             ],
             [
              0.4444444444444444,
              "#bd3786"
             ],
             [
              0.5555555555555556,
              "#d8576b"
             ],
             [
              0.6666666666666666,
              "#ed7953"
             ],
             [
              0.7777777777777778,
              "#fb9f3a"
             ],
             [
              0.8888888888888888,
              "#fdca26"
             ],
             [
              1,
              "#f0f921"
             ]
            ],
            "type": "heatmap"
           }
          ],
          "histogram": [
           {
            "marker": {
             "pattern": {
              "fillmode": "overlay",
              "size": 10,
              "solidity": 0.2
             }
            },
            "type": "histogram"
           }
          ],
          "histogram2d": [
           {
            "colorbar": {
             "outlinewidth": 0,
             "ticks": ""
            },
            "colorscale": [
             [
              0,
              "#0d0887"
             ],
             [
              0.1111111111111111,
              "#46039f"
             ],
             [
              0.2222222222222222,
              "#7201a8"
             ],
             [
              0.3333333333333333,
              "#9c179e"
             ],
             [
              0.4444444444444444,
              "#bd3786"
             ],
             [
              0.5555555555555556,
              "#d8576b"
             ],
             [
              0.6666666666666666,
              "#ed7953"
             ],
             [
              0.7777777777777778,
              "#fb9f3a"
             ],
             [
              0.8888888888888888,
              "#fdca26"
             ],
             [
              1,
              "#f0f921"
             ]
            ],
            "type": "histogram2d"
           }
          ],
          "histogram2dcontour": [
           {
            "colorbar": {
             "outlinewidth": 0,
             "ticks": ""
            },
            "colorscale": [
             [
              0,
              "#0d0887"
             ],
             [
              0.1111111111111111,
              "#46039f"
             ],
             [
              0.2222222222222222,
              "#7201a8"
             ],
             [
              0.3333333333333333,
              "#9c179e"
             ],
             [
              0.4444444444444444,
              "#bd3786"
             ],
             [
              0.5555555555555556,
              "#d8576b"
             ],
             [
              0.6666666666666666,
              "#ed7953"
             ],
             [
              0.7777777777777778,
              "#fb9f3a"
             ],
             [
              0.8888888888888888,
              "#fdca26"
             ],
             [
              1,
              "#f0f921"
             ]
            ],
            "type": "histogram2dcontour"
           }
          ],
          "mesh3d": [
           {
            "colorbar": {
             "outlinewidth": 0,
             "ticks": ""
            },
            "type": "mesh3d"
           }
          ],
          "parcoords": [
           {
            "line": {
             "colorbar": {
              "outlinewidth": 0,
              "ticks": ""
             }
            },
            "type": "parcoords"
           }
          ],
          "pie": [
           {
            "automargin": true,
            "type": "pie"
           }
          ],
          "scatter": [
           {
            "fillpattern": {
             "fillmode": "overlay",
             "size": 10,
             "solidity": 0.2
            },
            "type": "scatter"
           }
          ],
          "scatter3d": [
           {
            "line": {
             "colorbar": {
              "outlinewidth": 0,
              "ticks": ""
             }
            },
            "marker": {
             "colorbar": {
              "outlinewidth": 0,
              "ticks": ""
             }
            },
            "type": "scatter3d"
           }
          ],
          "scattercarpet": [
           {
            "marker": {
             "colorbar": {
              "outlinewidth": 0,
              "ticks": ""
             }
            },
            "type": "scattercarpet"
           }
          ],
          "scattergeo": [
           {
            "marker": {
             "colorbar": {
              "outlinewidth": 0,
              "ticks": ""
             }
            },
            "type": "scattergeo"
           }
          ],
          "scattergl": [
           {
            "marker": {
             "colorbar": {
              "outlinewidth": 0,
              "ticks": ""
             }
            },
            "type": "scattergl"
           }
          ],
          "scattermap": [
           {
            "marker": {
             "colorbar": {
              "outlinewidth": 0,
              "ticks": ""
             }
            },
            "type": "scattermap"
           }
          ],
          "scattermapbox": [
           {
            "marker": {
             "colorbar": {
              "outlinewidth": 0,
              "ticks": ""
             }
            },
            "type": "scattermapbox"
           }
          ],
          "scatterpolar": [
           {
            "marker": {
             "colorbar": {
              "outlinewidth": 0,
              "ticks": ""
             }
            },
            "type": "scatterpolar"
           }
          ],
          "scatterpolargl": [
           {
            "marker": {
             "colorbar": {
              "outlinewidth": 0,
              "ticks": ""
             }
            },
            "type": "scatterpolargl"
           }
          ],
          "scatterternary": [
           {
            "marker": {
             "colorbar": {
              "outlinewidth": 0,
              "ticks": ""
             }
            },
            "type": "scatterternary"
           }
          ],
          "surface": [
           {
            "colorbar": {
             "outlinewidth": 0,
             "ticks": ""
            },
            "colorscale": [
             [
              0,
              "#0d0887"
             ],
             [
              0.1111111111111111,
              "#46039f"
             ],
             [
              0.2222222222222222,
              "#7201a8"
             ],
             [
              0.3333333333333333,
              "#9c179e"
             ],
             [
              0.4444444444444444,
              "#bd3786"
             ],
             [
              0.5555555555555556,
              "#d8576b"
             ],
             [
              0.6666666666666666,
              "#ed7953"
             ],
             [
              0.7777777777777778,
              "#fb9f3a"
             ],
             [
              0.8888888888888888,
              "#fdca26"
             ],
             [
              1,
              "#f0f921"
             ]
            ],
            "type": "surface"
           }
          ],
          "table": [
           {
            "cells": {
             "fill": {
              "color": "#EBF0F8"
             },
             "line": {
              "color": "white"
             }
            },
            "header": {
             "fill": {
              "color": "#C8D4E3"
             },
             "line": {
              "color": "white"
             }
            },
            "type": "table"
           }
          ]
         },
         "layout": {
          "annotationdefaults": {
           "arrowcolor": "#2a3f5f",
           "arrowhead": 0,
           "arrowwidth": 1
          },
          "autotypenumbers": "strict",
          "coloraxis": {
           "colorbar": {
            "outlinewidth": 0,
            "ticks": ""
           }
          },
          "colorscale": {
           "diverging": [
            [
             0,
             "#8e0152"
            ],
            [
             0.1,
             "#c51b7d"
            ],
            [
             0.2,
             "#de77ae"
            ],
            [
             0.3,
             "#f1b6da"
            ],
            [
             0.4,
             "#fde0ef"
            ],
            [
             0.5,
             "#f7f7f7"
            ],
            [
             0.6,
             "#e6f5d0"
            ],
            [
             0.7,
             "#b8e186"
            ],
            [
             0.8,
             "#7fbc41"
            ],
            [
             0.9,
             "#4d9221"
            ],
            [
             1,
             "#276419"
            ]
           ],
           "sequential": [
            [
             0,
             "#0d0887"
            ],
            [
             0.1111111111111111,
             "#46039f"
            ],
            [
             0.2222222222222222,
             "#7201a8"
            ],
            [
             0.3333333333333333,
             "#9c179e"
            ],
            [
             0.4444444444444444,
             "#bd3786"
            ],
            [
             0.5555555555555556,
             "#d8576b"
            ],
            [
             0.6666666666666666,
             "#ed7953"
            ],
            [
             0.7777777777777778,
             "#fb9f3a"
            ],
            [
             0.8888888888888888,
             "#fdca26"
            ],
            [
             1,
             "#f0f921"
            ]
           ],
           "sequentialminus": [
            [
             0,
             "#0d0887"
            ],
            [
             0.1111111111111111,
             "#46039f"
            ],
            [
             0.2222222222222222,
             "#7201a8"
            ],
            [
             0.3333333333333333,
             "#9c179e"
            ],
            [
             0.4444444444444444,
             "#bd3786"
            ],
            [
             0.5555555555555556,
             "#d8576b"
            ],
            [
             0.6666666666666666,
             "#ed7953"
            ],
            [
             0.7777777777777778,
             "#fb9f3a"
            ],
            [
             0.8888888888888888,
             "#fdca26"
            ],
            [
             1,
             "#f0f921"
            ]
           ]
          },
          "colorway": [
           "#636efa",
           "#EF553B",
           "#00cc96",
           "#ab63fa",
           "#FFA15A",
           "#19d3f3",
           "#FF6692",
           "#B6E880",
           "#FF97FF",
           "#FECB52"
          ],
          "font": {
           "color": "#2a3f5f"
          },
          "geo": {
           "bgcolor": "white",
           "lakecolor": "white",
           "landcolor": "white",
           "showlakes": true,
           "showland": true,
           "subunitcolor": "#C8D4E3"
          },
          "hoverlabel": {
           "align": "left"
          },
          "hovermode": "closest",
          "mapbox": {
           "style": "light"
          },
          "paper_bgcolor": "white",
          "plot_bgcolor": "white",
          "polar": {
           "angularaxis": {
            "gridcolor": "#EBF0F8",
            "linecolor": "#EBF0F8",
            "ticks": ""
           },
           "bgcolor": "white",
           "radialaxis": {
            "gridcolor": "#EBF0F8",
            "linecolor": "#EBF0F8",
            "ticks": ""
           }
          },
          "scene": {
           "xaxis": {
            "backgroundcolor": "white",
            "gridcolor": "#DFE8F3",
            "gridwidth": 2,
            "linecolor": "#EBF0F8",
            "showbackground": true,
            "ticks": "",
            "zerolinecolor": "#EBF0F8"
           },
           "yaxis": {
            "backgroundcolor": "white",
            "gridcolor": "#DFE8F3",
            "gridwidth": 2,
            "linecolor": "#EBF0F8",
            "showbackground": true,
            "ticks": "",
            "zerolinecolor": "#EBF0F8"
           },
           "zaxis": {
            "backgroundcolor": "white",
            "gridcolor": "#DFE8F3",
            "gridwidth": 2,
            "linecolor": "#EBF0F8",
            "showbackground": true,
            "ticks": "",
            "zerolinecolor": "#EBF0F8"
           }
          },
          "shapedefaults": {
           "line": {
            "color": "#2a3f5f"
           }
          },
          "ternary": {
           "aaxis": {
            "gridcolor": "#DFE8F3",
            "linecolor": "#A2B1C6",
            "ticks": ""
           },
           "baxis": {
            "gridcolor": "#DFE8F3",
            "linecolor": "#A2B1C6",
            "ticks": ""
           },
           "bgcolor": "white",
           "caxis": {
            "gridcolor": "#DFE8F3",
            "linecolor": "#A2B1C6",
            "ticks": ""
           }
          },
          "title": {
           "x": 0.05
          },
          "xaxis": {
           "automargin": true,
           "gridcolor": "#EBF0F8",
           "linecolor": "#EBF0F8",
           "ticks": "",
           "title": {
            "standoff": 15
           },
           "zerolinecolor": "#EBF0F8",
           "zerolinewidth": 2
          },
          "yaxis": {
           "automargin": true,
           "gridcolor": "#EBF0F8",
           "linecolor": "#EBF0F8",
           "ticks": "",
           "title": {
            "standoff": 15
           },
           "zerolinecolor": "#EBF0F8",
           "zerolinewidth": 2
          }
         }
        },
        "title": {
         "text": "Sensitivity Analysis: P(R=pass | Q=medium) vs MEU"
        },
        "width": 800,
        "xaxis": {
         "title": {
          "text": "Maximum Expected Utility (MEU)"
         }
        },
        "yaxis": {
         "title": {
          "text": "P(R=pass | Q=medium)"
         }
        }
       }
      }
     },
     "metadata": {},
     "output_type": "display_data"
    }
   ],
   "source": [
    "print(\"\\n\" + \"=\"*70)\n",
    "print(\"🔍 Testing sensitivity analysis on P(R=pass | Q=high)\")\n",
    "print(\"=\"*70)\n",
    "\n",
    "# Run sensitivity analysis on R CPT (test reliability for high quality fields)\n",
    "r_results = sensitivity_analysis(\n",
    "    cpt_df=r_cpt, \n",
    "    row_index='pass', \n",
    "    column='medium', \n",
    "    changes=[0, 0.05, 0.10, 0.15, 0.20, 0.25],\n",
    ")\n",
    "\n",
    "# Display results\n",
    "print_sensitivity_results(r_results)\n",
    "\n",
    "# Plot results\n",
    "plot_sensitivity_results(r_results)"
   ]
  },
  {
   "cell_type": "markdown",
   "id": "8d7db83d",
   "metadata": {},
   "source": [
    "## 3 - Tornado plot"
   ]
  },
  {
   "cell_type": "markdown",
   "id": "722d6178",
   "metadata": {},
   "source": [
    "### 3.1 - What is a Tornado Diagram?"
   ]
  },
  {
   "cell_type": "markdown",
   "id": "c1014a97",
   "metadata": {},
   "source": [
    "A **tornado diagram** is a visualization tool used in sensitivity analysis that shows:\n",
    "\n",
    "- **Which variables have the most impact** on the expected utility\n",
    "- **The direction of impact** (positive or negative) when parameters change\n",
    "- **The magnitude of sensitivity** to help prioritize where to focus attention\n",
    "\n",
    "The diagram gets its name from its characteristic shape: variables are sorted by impact magnitude (largest at top, smallest at bottom), creating a tornado-like appearance."
   ]
  },
  {
   "cell_type": "markdown",
   "id": "81043378",
   "metadata": {},
   "source": [
    "### 3.2 - How Tornado Analysis Works"
   ]
  },
  {
   "cell_type": "markdown",
   "id": "9494e304",
   "metadata": {},
   "source": [
    "The process involves a **one-at-a-time analysis**:\n",
    "\n",
    "1. **Establish baseline**: Calculate expected utility with current parameter values\n",
    "2. **Vary each parameter individually**: Change one parameter by a fixed percentage (e.g., ±10%) while keeping all others at baseline\n",
    "3. **Calculate impact**: Record how the expected utility changes for each parameter variation\n",
    "4. **Visualize results**: Create horizontal bars showing the range of impact for each variable"
   ]
  },
  {
   "cell_type": "markdown",
   "id": "a77a91f6",
   "metadata": {},
   "source": [
    "### 3.3 - Implementation\n",
    "\n",
    "> Even though tornado plots can be used for anything. We are going to focus on utility tables because it is usually where they are most common, or on variables that affect those utilities directly. In this case it would be the test cost."
   ]
  },
  {
   "cell_type": "code",
   "execution_count": 98,
   "id": "ca251b4b",
   "metadata": {},
   "outputs": [],
   "source": [
    "def update_utility_and_calculate_meu_with_decisions(u_table_modified):\n",
    "    \"\"\"\n",
    "    Update utility values in the influence diagram and calculate MEU with optimal decisions\n",
    "    \n",
    "    Parameters:\n",
    "    -----------\n",
    "    u_table_modified : pd.DataFrame\n",
    "        Modified utility table\n",
    "        \n",
    "    Returns:\n",
    "    --------\n",
    "    tuple : (MEU, optimal_decisions_dict)\n",
    "    \"\"\"\n",
    "    # Store original utility values\n",
    "    original_utilities = {}\n",
    "    original_utilities[\"do_buy\"] = influence_diagram.utility(U)[{\"T\": \"do\", \"B\": \"buy\"}].copy()\n",
    "    original_utilities[\"do_not_buy\"] = influence_diagram.utility(U)[{\"T\": \"do\", \"B\": \"not_buy\"}].copy()\n",
    "    original_utilities[\"not_do_buy\"] = influence_diagram.utility(U)[{\"T\": \"not_do\", \"B\": \"buy\"}].copy()\n",
    "    original_utilities[\"not_do_not_buy\"] = influence_diagram.utility(U)[{\"T\": \"not_do\", \"B\": \"not_buy\"}].copy()\n",
    "    \n",
    "    try:\n",
    "        # Update utility values\n",
    "        influence_diagram.utility(U)[{\"T\": \"do\", \"B\": \"buy\"}] = np.array(\n",
    "            [u_table_modified.iloc[0, 3], u_table_modified.iloc[1, 3], u_table_modified.iloc[2, 3]])[:, np.newaxis]\n",
    "        influence_diagram.utility(U)[{\"T\": \"do\", \"B\": \"not_buy\"}] = np.array(\n",
    "            [u_table_modified.iloc[3, 3]] * 3)[:, np.newaxis]\n",
    "        influence_diagram.utility(U)[{\"T\": \"not_do\", \"B\": \"buy\"}] = np.array(\n",
    "            [u_table_modified.iloc[4, 3], u_table_modified.iloc[5, 3], u_table_modified.iloc[6, 3]])[:, np.newaxis]\n",
    "        influence_diagram.utility(U)[{\"T\": \"not_do\", \"B\": \"not_buy\"}] = np.array(\n",
    "            [u_table_modified.iloc[7, 3]] * 3)[:, np.newaxis]\n",
    "        \n",
    "        # Calculate MEU and optimal decisions\n",
    "        temp_inference = grum.ShaferShenoyLIMIDInference(influence_diagram)\n",
    "        temp_inference.makeInference()\n",
    "        meu_result = temp_inference.MEU()\n",
    "        meu = meu_result['mean']\n",
    "        \n",
    "        # Get optimal decisions\n",
    "        optimal_T = temp_inference.optimalDecision(\"T\").argmax()\n",
    "        optimal_B_tensor = temp_inference.optimalDecision(\"B\")\n",
    "        \n",
    "        # For T decision (simple decision)\n",
    "        t_decision = 'do' if optimal_T[0][0]['T'] == 0 else 'not_do'\n",
    "        \n",
    "        # For B decision (depends on R), extract the policy\n",
    "        b_instantiations, _ = optimal_B_tensor.argmax()\n",
    "        b_policy = {}\n",
    "        for inst in b_instantiations:\n",
    "            r_value = inst['R']\n",
    "            b_value = inst['B']\n",
    "            r_label = ['pass', 'fail', 'no_results'][r_value]\n",
    "            b_label = 'buy' if b_value == 0 else 'not_buy'\n",
    "            b_policy[r_label] = b_label\n",
    "        \n",
    "        optimal_decisions = {\n",
    "            'T': t_decision,\n",
    "            'B': b_policy\n",
    "        }\n",
    "        \n",
    "    finally:\n",
    "        # Restore original values\n",
    "        influence_diagram.utility(U)[{\"T\": \"do\", \"B\": \"buy\"}] = original_utilities[\"do_buy\"]\n",
    "        influence_diagram.utility(U)[{\"T\": \"do\", \"B\": \"not_buy\"}] = original_utilities[\"do_not_buy\"]\n",
    "        influence_diagram.utility(U)[{\"T\": \"not_do\", \"B\": \"buy\"}] = original_utilities[\"not_do_buy\"]\n",
    "        influence_diagram.utility(U)[{\"T\": \"not_do\", \"B\": \"not_buy\"}] = original_utilities[\"not_do_not_buy\"]\n",
    "    \n",
    "    return meu, optimal_decisions\n",
    "\n",
    "\n",
    "def update_utility_and_calculate_meu(u_table_modified):\n",
    "    \"\"\"\n",
    "    Update utility values in the influence diagram and calculate MEU (backward compatibility)\n",
    "    \n",
    "    Parameters:\n",
    "    -----------\n",
    "    u_table_modified : pd.DataFrame\n",
    "        Modified utility table\n",
    "        \n",
    "    Returns:\n",
    "    --------\n",
    "    float : Maximum Expected Utility\n",
    "    \"\"\"\n",
    "    meu, _ = update_utility_and_calculate_meu_with_decisions(u_table_modified)\n",
    "    return meu\n",
    "\n",
    "\n",
    "def analyze_utility_sensitivity(u_table, baseline_meu, variation_amount=10, variation_type='percentage'):\n",
    "    \"\"\"\n",
    "    Analyze sensitivity of utility values for tornado diagram\n",
    "    \n",
    "    Parameters:\n",
    "    -----------\n",
    "    u_table : pd.DataFrame\n",
    "        Utility table\n",
    "    baseline_meu : float\n",
    "        Baseline maximum expected utility\n",
    "    variation_amount : float\n",
    "        Amount of variation to apply (percentage for 'percentage' type, absolute value for 'constant' type)\n",
    "    variation_type : str\n",
    "        Type of variation: 'percentage' or 'constant'\n",
    "        \n",
    "    Returns:\n",
    "    --------\n",
    "    list : Tornado data for utility variables\n",
    "    \"\"\"\n",
    "    if variation_type == 'percentage':\n",
    "        return analyze_utility_sensitivity_percentage(u_table, baseline_meu, variation_amount)\n",
    "    elif variation_type == 'constant':\n",
    "        return analyze_utility_sensitivity_constant(u_table, baseline_meu, variation_amount)\n",
    "    else:\n",
    "        raise ValueError(\"variation_type must be either 'percentage' or 'constant'\")\n",
    "\n",
    "\n",
    "def analyze_utility_sensitivity_percentage(u_table, baseline_meu, variation_percent=10):\n",
    "    \"\"\"\n",
    "    Analyze sensitivity of utility values using percentage variations for tornado diagram\n",
    "    \n",
    "    Parameters:\n",
    "    -----------\n",
    "    u_table : pd.DataFrame\n",
    "        Utility table\n",
    "    baseline_meu : float\n",
    "        Baseline maximum expected utility\n",
    "    variation_percent : float\n",
    "        Percentage variation to apply (e.g., 10 for ±10%)\n",
    "        \n",
    "    Returns:\n",
    "    --------\n",
    "    list : Tornado data for utility variables\n",
    "    \"\"\"\n",
    "    tornado_data = []\n",
    "    variation_factor = variation_percent / 100\n",
    "    \n",
    "    print(f\"\\nAnalyzing Utility Values (±{variation_percent}% variation)...\")\n",
    "    \n",
    "    # Define utility scenarios to analyze\n",
    "    utility_scenarios = [\n",
    "        (0, 'U(do, buy, high)'),\n",
    "        (1, 'U(do, buy, medium)'),\n",
    "        (2, 'U(do, buy, low)'),\n",
    "        (3, 'U(do, not_buy)'),\n",
    "        (4, 'U(not_do, buy, high)'),\n",
    "        (5, 'U(not_do, buy, medium)'),\n",
    "        (6, 'U(not_do, buy, low)'),\n",
    "        (7, 'U(not_do, not_buy)')\n",
    "    ]\n",
    "    \n",
    "    for idx, scenario_name in utility_scenarios:\n",
    "        # Create modified utility tables\n",
    "        u_low = u_table.copy()\n",
    "        u_high = u_table.copy()\n",
    "        \n",
    "        # Ensure the utility column is float type to avoid dtype warnings\n",
    "        u_low = u_low.astype({u_low.columns[3]: float})\n",
    "        u_high = u_high.astype({u_high.columns[3]: float})\n",
    "        \n",
    "        original_utility = u_table.iloc[idx, 3]\n",
    "        \n",
    "        # Apply percentage variation\n",
    "        u_low.iloc[idx, 3] = original_utility * (1 - variation_factor)\n",
    "        u_high.iloc[idx, 3] = original_utility * (1 + variation_factor)\n",
    "        \n",
    "        # Calculate expected utilities and optimal decisions\n",
    "        meu_low, decisions_low = update_utility_and_calculate_meu_with_decisions(u_low)\n",
    "        meu_high, decisions_high = update_utility_and_calculate_meu_with_decisions(u_high)\n",
    "        \n",
    "        impact_low = meu_low - baseline_meu\n",
    "        impact_high = meu_high - baseline_meu\n",
    "        total_range = abs(meu_high - meu_low)\n",
    "        \n",
    "        tornado_data.append({\n",
    "            'variable': scenario_name,\n",
    "            'low_impact': impact_low,\n",
    "            'high_impact': impact_high,\n",
    "            'total_range': total_range,\n",
    "            'original_value': original_utility,\n",
    "            'meu_low': meu_low,\n",
    "            'meu_high': meu_high,\n",
    "            'decisions_low': decisions_low,\n",
    "            'decisions_high': decisions_high,\n",
    "            'variation_type': 'percentage',\n",
    "            'variation_amount': variation_percent\n",
    "        })\n",
    "        \n",
    "        # Calculate the actual utility value changes\n",
    "        low_utility_value = original_utility * (1 - variation_factor)\n",
    "        high_utility_value = original_utility * (1 + variation_factor)\n",
    "        low_change = low_utility_value - original_utility\n",
    "        high_change = high_utility_value - original_utility\n",
    "        \n",
    "        print(f\"  {scenario_name}: {original_utility:.0f} → Low={low_utility_value:.0f} ({low_change:+.0f}), High={high_utility_value:.0f} ({high_change:+.0f})\")\n",
    "    \n",
    "    return tornado_data\n",
    "\n",
    "\n",
    "def analyze_utility_sensitivity_constant(u_table, baseline_meu, variation_amount=50):\n",
    "    \"\"\"\n",
    "    Analyze sensitivity of utility values using constant value variations for tornado diagram\n",
    "    \n",
    "    Parameters:\n",
    "    -----------\n",
    "    u_table : pd.DataFrame\n",
    "        Utility table\n",
    "    baseline_meu : float\n",
    "        Baseline maximum expected utility\n",
    "    variation_amount : float\n",
    "        Constant amount to add/subtract (e.g., 50 for ±50 units)\n",
    "        \n",
    "    Returns:\n",
    "    --------\n",
    "    list : Tornado data for utility variables\n",
    "    \"\"\"\n",
    "    tornado_data = []\n",
    "    \n",
    "    print(f\"\\nAnalyzing Utility Values (±{variation_amount} constant variation)...\")\n",
    "    \n",
    "    # Define utility scenarios to analyze\n",
    "    utility_scenarios = [\n",
    "        (0, 'U(do, buy, high)'),\n",
    "        (1, 'U(do, buy, medium)'),\n",
    "        (2, 'U(do, buy, low)'),\n",
    "        (3, 'U(do, not_buy)'),\n",
    "        (4, 'U(not_do, buy, high)'),\n",
    "        (5, 'U(not_do, buy, medium)'),\n",
    "        (6, 'U(not_do, buy, low)'),\n",
    "        (7, 'U(not_do, not_buy)')\n",
    "    ]\n",
    "    \n",
    "    for idx, scenario_name in utility_scenarios:\n",
    "        # Create modified utility tables\n",
    "        u_low = u_table.copy()\n",
    "        u_high = u_table.copy()\n",
    "        \n",
    "        # Ensure the utility column is float type to avoid dtype warnings\n",
    "        u_low = u_low.astype({u_low.columns[3]: float})\n",
    "        u_high = u_high.astype({u_high.columns[3]: float})\n",
    "        \n",
    "        original_utility = u_table.iloc[idx, 3]\n",
    "        \n",
    "        # Apply constant variation\n",
    "        u_low.iloc[idx, 3] = original_utility - variation_amount\n",
    "        u_high.iloc[idx, 3] = original_utility + variation_amount\n",
    "        \n",
    "        # Calculate expected utilities and optimal decisions\n",
    "        meu_low, decisions_low = update_utility_and_calculate_meu_with_decisions(u_low)\n",
    "        meu_high, decisions_high = update_utility_and_calculate_meu_with_decisions(u_high)\n",
    "        \n",
    "        impact_low = meu_low - baseline_meu\n",
    "        impact_high = meu_high - baseline_meu\n",
    "        total_range = abs(meu_high - meu_low)\n",
    "        \n",
    "        tornado_data.append({\n",
    "            'variable': scenario_name,\n",
    "            'low_impact': impact_low,\n",
    "            'high_impact': impact_high,\n",
    "            'total_range': total_range,\n",
    "            'original_value': original_utility,\n",
    "            'meu_low': meu_low,\n",
    "            'meu_high': meu_high,\n",
    "            'decisions_low': decisions_low,\n",
    "            'decisions_high': decisions_high,\n",
    "            'variation_type': 'constant',\n",
    "            'variation_amount': variation_amount\n",
    "        })\n",
    "        \n",
    "        # Calculate the actual utility value changes\n",
    "        low_utility_value = original_utility - variation_amount\n",
    "        high_utility_value = original_utility + variation_amount\n",
    "        low_change = low_utility_value - original_utility\n",
    "        high_change = high_utility_value - original_utility\n",
    "        \n",
    "        print(f\"  {scenario_name}: {original_utility:.0f} → Low={low_utility_value:.0f} ({low_change:+.0f}), High={high_utility_value:.0f} ({high_change:+.0f})\")\n",
    "    \n",
    "    return tornado_data\n",
    "\n",
    "\n",
    "def create_utility_tornado_plot(tornado_data, baseline_meu, variation_amount=10, variation_type='percentage',\n",
    "                               title=\"Utility Tornado Diagram\", width=800, height=600):\n",
    "    \"\"\"\n",
    "    Create tornado diagram using Plotly for utility sensitivity analysis\n",
    "    \n",
    "    Parameters:\n",
    "    -----------\n",
    "    tornado_data : list\n",
    "        List of tornado data dictionaries\n",
    "    baseline_meu : float\n",
    "        Baseline expected utility\n",
    "    variation_amount : float\n",
    "        Amount of variation used (percentage or constant value)\n",
    "    variation_type : str\n",
    "        Type of variation: 'percentage' or 'constant'\n",
    "    title : str\n",
    "        Plot title\n",
    "    width : int\n",
    "        Plot width in pixels\n",
    "    height : int\n",
    "        Plot height in pixels\n",
    "        \n",
    "    Returns:\n",
    "    --------\n",
    "    plotly.graph_objects.Figure : The tornado plot figure\n",
    "    \"\"\"\n",
    "    # Sort by total range (largest impact first)\n",
    "    sorted_data = sorted(tornado_data, key=lambda x: x['total_range'], reverse=True)\n",
    "    \n",
    "    # Prepare data for plotting\n",
    "    variables = [item['variable'] for item in sorted_data]\n",
    "    low_impacts = [item['low_impact'] for item in sorted_data]\n",
    "    high_impacts = [item['high_impact'] for item in sorted_data]\n",
    "    original_values = [item['original_value'] for item in sorted_data]\n",
    "    \n",
    "    # Helper function to format decisions for hover text\n",
    "    def format_decisions(decisions):\n",
    "        t_decision = decisions['T']\n",
    "        b_policy = decisions['B']\n",
    "        b_text = \", \".join([f\"{r}: {b}\" for r, b in b_policy.items()])\n",
    "        return f\"T: {t_decision}, B: [{b_text}]\"\n",
    "    \n",
    "    # Create the figure\n",
    "    fig = go.Figure()\n",
    "    \n",
    "    # Add bars for low and high impacts\n",
    "    for i, item in enumerate(sorted_data):\n",
    "        var = item['variable']\n",
    "        low = item['low_impact']\n",
    "        high = item['high_impact']\n",
    "        orig_val = item['original_value']\n",
    "        meu_low = item['meu_low']\n",
    "        meu_high = item['meu_high']\n",
    "        decisions_low = item['decisions_low']\n",
    "        decisions_high = item['decisions_high']\n",
    "        \n",
    "        # Determine which is left (negative) and right (positive)\n",
    "        left_val = min(low, high)\n",
    "        right_val = max(low, high)\n",
    "        \n",
    "        # Determine which scenario corresponds to left and right\n",
    "        if low < high:\n",
    "            left_meu = meu_low\n",
    "            right_meu = meu_high\n",
    "            left_decisions = decisions_low\n",
    "            right_decisions = decisions_high\n",
    "            left_label = \"Low Scenario\"\n",
    "            right_label = \"High Scenario\"\n",
    "        else:\n",
    "            left_meu = meu_high\n",
    "            right_meu = meu_low\n",
    "            left_decisions = decisions_high\n",
    "            right_decisions = decisions_low\n",
    "            left_label = \"High Scenario\"\n",
    "            right_label = \"Low Scenario\"\n",
    "        \n",
    "        # Create hover text for left bar\n",
    "        left_hover_text = f\"\"\"\n",
    "        Variable: {var}<br>\n",
    "        {left_label}<br>\n",
    "        MEU: {left_meu:.2f}<br>\n",
    "        Impact: {left_val:+.2f}<br>\n",
    "        Optimal Decisions: {format_decisions(left_decisions)}\n",
    "        \"\"\"\n",
    "        \n",
    "        # Create hover text for right bar  \n",
    "        right_hover_text = f\"\"\"\n",
    "        Variable: {var}<br>\n",
    "        {right_label}<br>\n",
    "        MEU: {right_meu:.2f}<br>\n",
    "        Impact: {right_val:+.2f}<br>\n",
    "        Optimal Decisions: {format_decisions(right_decisions)}\n",
    "        \"\"\"\n",
    "        \n",
    "        # Add left bar (from 0 to left_val) - no hover\n",
    "        fig.add_trace(go.Bar(\n",
    "            y=[var],\n",
    "            x=[left_val],\n",
    "            orientation='h',\n",
    "            name='Lower Impact' if i == 0 else '',\n",
    "            marker=dict(color='lightcoral', line=dict(color='black', width=0.5)),\n",
    "            showlegend=i == 0,\n",
    "            offsetgroup=1,\n",
    "            width=0.6,\n",
    "            hoverinfo='skip'\n",
    "        ))\n",
    "        \n",
    "        # Add right bar (from 0 to right_val) - no hover\n",
    "        fig.add_trace(go.Bar(\n",
    "            y=[var],\n",
    "            x=[right_val],\n",
    "            orientation='h',\n",
    "            name='Higher Impact' if i == 0 else '',\n",
    "            marker=dict(color='lightblue', line=dict(color='black', width=0.5)),\n",
    "            showlegend=i == 0,\n",
    "            offsetgroup=1,\n",
    "            width=0.6,\n",
    "            hoverinfo='skip'\n",
    "        ))\n",
    "        \n",
    "        # Add invisible scatter points for hover on left side\n",
    "        fig.add_trace(go.Scatter(\n",
    "            x=[left_val/2],\n",
    "            y=[var],\n",
    "            mode='markers',\n",
    "            marker=dict(size=0.1, color='rgba(0,0,0,0)'),\n",
    "            hovertemplate=left_hover_text + '<extra></extra>',\n",
    "            hoverlabel=dict(bgcolor='lightcoral', bordercolor='darkred', font=dict(color='black')),\n",
    "            showlegend=False,\n",
    "            name=''\n",
    "        ))\n",
    "        \n",
    "        # Add invisible scatter points for hover on right side\n",
    "        fig.add_trace(go.Scatter(\n",
    "            x=[right_val/2],\n",
    "            y=[var],\n",
    "            mode='markers',\n",
    "            marker=dict(size=0.1, color='rgba(0,0,0,0)'),\n",
    "            hovertemplate=right_hover_text + '<extra></extra>',\n",
    "            hoverlabel=dict(bgcolor='lightblue', bordercolor='darkblue', font=dict(color='black')),\n",
    "            showlegend=False,\n",
    "            name=''\n",
    "        ))\n",
    "        \n",
    "        # Add text annotations for impact values\n",
    "        fig.add_annotation(\n",
    "            x=left_val - (abs(left_val) * 0.1 if left_val != 0 else 1),\n",
    "            y=var,\n",
    "            text=f'{left_val:.1f}',\n",
    "            showarrow=False,\n",
    "            font=dict(size=10),\n",
    "            xanchor='right' if left_val < 0 else 'left'\n",
    "        )\n",
    "        \n",
    "        fig.add_annotation(\n",
    "            x=right_val + (abs(right_val) * 0.1 if right_val != 0 else 1),\n",
    "            y=var,\n",
    "            text=f'{right_val:.1f}',\n",
    "            showarrow=False,\n",
    "            font=dict(size=10),\n",
    "            xanchor='left' if right_val > 0 else 'right'\n",
    "        )\n",
    "    \n",
    "    # Add vertical line at x=0\n",
    "    fig.add_vline(x=0, line=dict(color='black', width=2))\n",
    "    \n",
    "    # Create subtitle based on variation type\n",
    "    if variation_type == 'percentage':\n",
    "        subtitle = f'Baseline Expected Utility: {baseline_meu:.2f} | Utility values varied by ±{variation_amount}%'\n",
    "    else:  # constant\n",
    "        subtitle = f'Baseline Expected Utility: {baseline_meu:.2f} | Utility values varied by ±{variation_amount} units'\n",
    "    \n",
    "    # Update layout\n",
    "    fig.update_layout(\n",
    "        title=dict(\n",
    "            text=f'{title}<br><sub>{subtitle}</sub>',\n",
    "            font=dict(size=16)\n",
    "        ),\n",
    "        xaxis=dict(\n",
    "            title='Change in Expected Utility from Baseline',\n",
    "            gridcolor='lightgray',\n",
    "            gridwidth=0.5,\n",
    "            zeroline=True,\n",
    "            zerolinecolor='black',\n",
    "            zerolinewidth=2\n",
    "        ),\n",
    "        yaxis=dict(\n",
    "            title='Utility Variables',\n",
    "            categoryorder='array',\n",
    "            categoryarray=variables[::-1]  # Reverse to show highest impact at top\n",
    "        ),\n",
    "        width=width,\n",
    "        height=height,\n",
    "        bargap=0.1,\n",
    "        bargroupgap=0,\n",
    "        hovermode='closest',\n",
    "        legend=dict(\n",
    "            orientation=\"h\",\n",
    "            yanchor=\"bottom\",\n",
    "            y=1.02,\n",
    "            xanchor=\"right\",\n",
    "            x=1\n",
    "        )\n",
    "    )\n",
    "    \n",
    "    return fig\n",
    "\n",
    "\n",
    "def generate_utility_tornado_data(u_table, baseline_meu, variation_amount=10, variation_type='percentage'):\n",
    "    \"\"\"\n",
    "    Generate tornado analysis data for utility sensitivity analysis\n",
    "    \n",
    "    Parameters:\n",
    "    -----------\n",
    "    u_table : pd.DataFrame\n",
    "        Utility table\n",
    "    baseline_meu : float\n",
    "        Baseline maximum expected utility\n",
    "    variation_amount : float\n",
    "        Amount of variation to apply (percentage for 'percentage' type, absolute value for 'constant' type)\n",
    "    variation_type : str\n",
    "        Type of variation: 'percentage' or 'constant'\n",
    "        \n",
    "    Returns:\n",
    "    --------\n",
    "    dict : Summary of results including baseline EU and variable impacts\n",
    "    \"\"\"\n",
    "    print(f\"Baseline Expected Utility: {baseline_meu:.2f}\")\n",
    "    \n",
    "    # Analyze utility sensitivity\n",
    "    tornado_data = analyze_utility_sensitivity(u_table, baseline_meu, variation_amount, variation_type)\n",
    "    \n",
    "    # Sort by total impact range (largest first)\n",
    "    tornado_data.sort(key=lambda x: x['total_range'], reverse=True)\n",
    "    \n",
    "    return {\n",
    "        'baseline_meu': baseline_meu,\n",
    "        'tornado_data': tornado_data,\n",
    "        'top_variable': tornado_data[0]['variable'] if tornado_data else None,\n",
    "        'variation_amount': variation_amount,\n",
    "        'variation_type': variation_type\n",
    "    }\n",
    "\n",
    "\n",
    "def plot_utility_tornado_diagram(tornado_results, title=\"Utility Tornado Diagram\", \n",
    "                                width=800, height=600, show_plot=True):\n",
    "    \"\"\"\n",
    "    Create and display tornado diagram from pre-computed tornado data\n",
    "    \n",
    "    Parameters:\n",
    "    -----------\n",
    "    tornado_results : dict\n",
    "        Results from generate_utility_tornado_data()\n",
    "    title : str\n",
    "        Title for the plot\n",
    "    width : int\n",
    "        Plot width in pixels\n",
    "    height : int\n",
    "        Plot height in pixels\n",
    "    show_plot : bool\n",
    "        Whether to display the plot\n",
    "        \n",
    "    Returns:\n",
    "    --------\n",
    "    plotly.graph_objects.Figure : The tornado plot figure\n",
    "    \"\"\"\n",
    "    # Extract data from results\n",
    "    tornado_data = tornado_results['tornado_data']\n",
    "    baseline_meu = tornado_results['baseline_meu']\n",
    "    variation_amount = tornado_results['variation_amount']\n",
    "    variation_type = tornado_results['variation_type']\n",
    "    \n",
    "    # Create the tornado plot\n",
    "    fig = create_utility_tornado_plot(tornado_data, baseline_meu, variation_amount, variation_type, title, width, height)\n",
    "    \n",
    "    if show_plot:\n",
    "        fig.show()\n",
    "    \n",
    "    return fig"
   ]
  },
  {
   "cell_type": "code",
   "execution_count": 99,
   "id": "7ea37193",
   "metadata": {},
   "outputs": [
    {
     "name": "stdout",
     "output_type": "stream",
     "text": [
      "Baseline Expected Utility: 751.00\n",
      "\n",
      "Analyzing Utility Values (±100 constant variation)...\n",
      "  U(do, buy, high): 1250 → Low=1150 (-100), High=1350 (+100)\n",
      "  U(do, buy, medium): 630 → Low=530 (-100), High=730 (+100)\n",
      "  U(do, buy, low): 0 → Low=-100 (-100), High=100 (+100)\n",
      "  U(do, not_buy): 350 → Low=250 (-100), High=450 (+100)\n",
      "  U(not_do, buy, high): 1280 → Low=1180 (-100), High=1380 (+100)\n",
      "  U(not_do, buy, medium): 660 → Low=560 (-100), High=760 (+100)\n",
      "  U(not_do, buy, low): 30 → Low=-70 (-100), High=130 (+100)\n",
      "  U(not_do, not_buy): 380 → Low=280 (-100), High=480 (+100)\n",
      "\n",
      "Most sensitive utility variable (constant variation): U(not_do, buy, medium)\n",
      "Total variables analyzed: 8\n",
      "\n",
      "Displaying constant variation plot...\n"
     ]
    },
    {
     "data": {
      "application/vnd.plotly.v1+json": {
       "config": {
        "plotlyServerURL": "https://plot.ly"
       },
       "data": [
        {
         "hoverinfo": "skip",
         "marker": {
          "color": "lightcoral",
          "line": {
           "color": "black",
           "width": 0.5
          }
         },
         "name": "Lower Impact",
         "offsetgroup": "1",
         "orientation": "h",
         "showlegend": true,
         "type": "bar",
         "width": 0.6,
         "x": [
          -24.050000000000068
         ],
         "y": [
          "U(not_do, buy, medium)"
         ]
        },
        {
         "hoverinfo": "skip",
         "marker": {
          "color": "lightblue",
          "line": {
           "color": "black",
           "width": 0.5
          }
         },
         "name": "Higher Impact",
         "offsetgroup": "1",
         "orientation": "h",
         "showlegend": true,
         "type": "bar",
         "width": 0.6,
         "x": [
          45
         ],
         "y": [
          "U(not_do, buy, medium)"
         ]
        },
        {
         "hoverlabel": {
          "bgcolor": "lightcoral",
          "bordercolor": "darkred",
          "font": {
           "color": "black"
          }
         },
         "hovertemplate": "\n        Variable: U(not_do, buy, medium)<br>\n        Low Scenario<br>\n        MEU: 726.95<br>\n        Impact: -24.05<br>\n        Optimal Decisions: T: do, B: [pass: buy, fail: not_buy, no_results: buy]\n        <extra></extra>",
         "marker": {
          "color": "rgba(0,0,0,0)",
          "size": 0.1
         },
         "mode": "markers",
         "name": "",
         "showlegend": false,
         "type": "scatter",
         "x": [
          -12.025000000000034
         ],
         "y": [
          "U(not_do, buy, medium)"
         ]
        },
        {
         "hoverlabel": {
          "bgcolor": "lightblue",
          "bordercolor": "darkblue",
          "font": {
           "color": "black"
          }
         },
         "hovertemplate": "\n        Variable: U(not_do, buy, medium)<br>\n        High Scenario<br>\n        MEU: 796.00<br>\n        Impact: +45.00<br>\n        Optimal Decisions: T: not_do, B: [pass: buy, fail: buy, no_results: buy]\n        <extra></extra>",
         "marker": {
          "color": "rgba(0,0,0,0)",
          "size": 0.1
         },
         "mode": "markers",
         "name": "",
         "showlegend": false,
         "type": "scatter",
         "x": [
          22.5
         ],
         "y": [
          "U(not_do, buy, medium)"
         ]
        },
        {
         "hoverinfo": "skip",
         "marker": {
          "color": "lightcoral",
          "line": {
           "color": "black",
           "width": 0.5
          }
         },
         "name": "",
         "offsetgroup": "1",
         "orientation": "h",
         "showlegend": false,
         "type": "bar",
         "width": 0.6,
         "x": [
          -24.050000000000068
         ],
         "y": [
          "U(not_do, buy, high)"
         ]
        },
        {
         "hoverinfo": "skip",
         "marker": {
          "color": "lightblue",
          "line": {
           "color": "black",
           "width": 0.5
          }
         },
         "name": "",
         "offsetgroup": "1",
         "orientation": "h",
         "showlegend": false,
         "type": "bar",
         "width": 0.6,
         "x": [
          35
         ],
         "y": [
          "U(not_do, buy, high)"
         ]
        },
        {
         "hoverlabel": {
          "bgcolor": "lightcoral",
          "bordercolor": "darkred",
          "font": {
           "color": "black"
          }
         },
         "hovertemplate": "\n        Variable: U(not_do, buy, high)<br>\n        Low Scenario<br>\n        MEU: 726.95<br>\n        Impact: -24.05<br>\n        Optimal Decisions: T: do, B: [pass: buy, fail: not_buy, no_results: buy]\n        <extra></extra>",
         "marker": {
          "color": "rgba(0,0,0,0)",
          "size": 0.1
         },
         "mode": "markers",
         "name": "",
         "showlegend": false,
         "type": "scatter",
         "x": [
          -12.025000000000034
         ],
         "y": [
          "U(not_do, buy, high)"
         ]
        },
        {
         "hoverlabel": {
          "bgcolor": "lightblue",
          "bordercolor": "darkblue",
          "font": {
           "color": "black"
          }
         },
         "hovertemplate": "\n        Variable: U(not_do, buy, high)<br>\n        High Scenario<br>\n        MEU: 786.00<br>\n        Impact: +35.00<br>\n        Optimal Decisions: T: not_do, B: [pass: buy, fail: buy, no_results: buy]\n        <extra></extra>",
         "marker": {
          "color": "rgba(0,0,0,0)",
          "size": 0.1
         },
         "mode": "markers",
         "name": "",
         "showlegend": false,
         "type": "scatter",
         "x": [
          17.5
         ],
         "y": [
          "U(not_do, buy, high)"
         ]
        },
        {
         "hoverinfo": "skip",
         "marker": {
          "color": "lightcoral",
          "line": {
           "color": "black",
           "width": 0.5
          }
         },
         "name": "",
         "offsetgroup": "1",
         "orientation": "h",
         "showlegend": false,
         "type": "bar",
         "width": 0.6,
         "x": [
          -20
         ],
         "y": [
          "U(not_do, buy, low)"
         ]
        },
        {
         "hoverinfo": "skip",
         "marker": {
          "color": "lightblue",
          "line": {
           "color": "black",
           "width": 0.5
          }
         },
         "name": "",
         "offsetgroup": "1",
         "orientation": "h",
         "showlegend": false,
         "type": "bar",
         "width": 0.6,
         "x": [
          20
         ],
         "y": [
          "U(not_do, buy, low)"
         ]
        },
        {
         "hoverlabel": {
          "bgcolor": "lightcoral",
          "bordercolor": "darkred",
          "font": {
           "color": "black"
          }
         },
         "hovertemplate": "\n        Variable: U(not_do, buy, low)<br>\n        Low Scenario<br>\n        MEU: 731.00<br>\n        Impact: -20.00<br>\n        Optimal Decisions: T: not_do, B: [pass: buy, fail: buy, no_results: buy]\n        <extra></extra>",
         "marker": {
          "color": "rgba(0,0,0,0)",
          "size": 0.1
         },
         "mode": "markers",
         "name": "",
         "showlegend": false,
         "type": "scatter",
         "x": [
          -10
         ],
         "y": [
          "U(not_do, buy, low)"
         ]
        },
        {
         "hoverlabel": {
          "bgcolor": "lightblue",
          "bordercolor": "darkblue",
          "font": {
           "color": "black"
          }
         },
         "hovertemplate": "\n        Variable: U(not_do, buy, low)<br>\n        High Scenario<br>\n        MEU: 771.00<br>\n        Impact: +20.00<br>\n        Optimal Decisions: T: not_do, B: [pass: buy, fail: buy, no_results: buy]\n        <extra></extra>",
         "marker": {
          "color": "rgba(0,0,0,0)",
          "size": 0.1
         },
         "mode": "markers",
         "name": "",
         "showlegend": false,
         "type": "scatter",
         "x": [
          10
         ],
         "y": [
          "U(not_do, buy, low)"
         ]
        },
        {
         "hoverinfo": "skip",
         "marker": {
          "color": "lightcoral",
          "line": {
           "color": "black",
           "width": 0.5
          }
         },
         "name": "",
         "offsetgroup": "1",
         "orientation": "h",
         "showlegend": false,
         "type": "bar",
         "width": 0.6,
         "x": [
          0
         ],
         "y": [
          "U(do, buy, medium)"
         ]
        },
        {
         "hoverinfo": "skip",
         "marker": {
          "color": "lightblue",
          "line": {
           "color": "black",
           "width": 0.5
          }
         },
         "name": "",
         "offsetgroup": "1",
         "orientation": "h",
         "showlegend": false,
         "type": "bar",
         "width": 0.6,
         "x": [
          15
         ],
         "y": [
          "U(do, buy, medium)"
         ]
        },
        {
         "hoverlabel": {
          "bgcolor": "lightcoral",
          "bordercolor": "darkred",
          "font": {
           "color": "black"
          }
         },
         "hovertemplate": "\n        Variable: U(do, buy, medium)<br>\n        Low Scenario<br>\n        MEU: 751.00<br>\n        Impact: +0.00<br>\n        Optimal Decisions: T: not_do, B: [pass: buy, fail: buy, no_results: buy]\n        <extra></extra>",
         "marker": {
          "color": "rgba(0,0,0,0)",
          "size": 0.1
         },
         "mode": "markers",
         "name": "",
         "showlegend": false,
         "type": "scatter",
         "x": [
          0
         ],
         "y": [
          "U(do, buy, medium)"
         ]
        },
        {
         "hoverlabel": {
          "bgcolor": "lightblue",
          "bordercolor": "darkblue",
          "font": {
           "color": "black"
          }
         },
         "hovertemplate": "\n        Variable: U(do, buy, medium)<br>\n        High Scenario<br>\n        MEU: 766.00<br>\n        Impact: +15.00<br>\n        Optimal Decisions: T: do, B: [pass: buy, fail: buy, no_results: buy]\n        <extra></extra>",
         "marker": {
          "color": "rgba(0,0,0,0)",
          "size": 0.1
         },
         "mode": "markers",
         "name": "",
         "showlegend": false,
         "type": "scatter",
         "x": [
          7.5
         ],
         "y": [
          "U(do, buy, medium)"
         ]
        },
        {
         "hoverinfo": "skip",
         "marker": {
          "color": "lightcoral",
          "line": {
           "color": "black",
           "width": 0.5
          }
         },
         "name": "",
         "offsetgroup": "1",
         "orientation": "h",
         "showlegend": false,
         "type": "bar",
         "width": 0.6,
         "x": [
          0
         ],
         "y": [
          "U(do, buy, high)"
         ]
        },
        {
         "hoverinfo": "skip",
         "marker": {
          "color": "lightblue",
          "line": {
           "color": "black",
           "width": 0.5
          }
         },
         "name": "",
         "offsetgroup": "1",
         "orientation": "h",
         "showlegend": false,
         "type": "bar",
         "width": 0.6,
         "x": [
          9.199999999999932
         ],
         "y": [
          "U(do, buy, high)"
         ]
        },
        {
         "hoverlabel": {
          "bgcolor": "lightcoral",
          "bordercolor": "darkred",
          "font": {
           "color": "black"
          }
         },
         "hovertemplate": "\n        Variable: U(do, buy, high)<br>\n        Low Scenario<br>\n        MEU: 751.00<br>\n        Impact: +0.00<br>\n        Optimal Decisions: T: not_do, B: [pass: buy, fail: buy, no_results: buy]\n        <extra></extra>",
         "marker": {
          "color": "rgba(0,0,0,0)",
          "size": 0.1
         },
         "mode": "markers",
         "name": "",
         "showlegend": false,
         "type": "scatter",
         "x": [
          0
         ],
         "y": [
          "U(do, buy, high)"
         ]
        },
        {
         "hoverlabel": {
          "bgcolor": "lightblue",
          "bordercolor": "darkblue",
          "font": {
           "color": "black"
          }
         },
         "hovertemplate": "\n        Variable: U(do, buy, high)<br>\n        High Scenario<br>\n        MEU: 760.20<br>\n        Impact: +9.20<br>\n        Optimal Decisions: T: do, B: [pass: buy, fail: not_buy, no_results: buy]\n        <extra></extra>",
         "marker": {
          "color": "rgba(0,0,0,0)",
          "size": 0.1
         },
         "mode": "markers",
         "name": "",
         "showlegend": false,
         "type": "scatter",
         "x": [
          4.599999999999966
         ],
         "y": [
          "U(do, buy, high)"
         ]
        },
        {
         "hoverinfo": "skip",
         "marker": {
          "color": "lightcoral",
          "line": {
           "color": "black",
           "width": 0.5
          }
         },
         "name": "",
         "offsetgroup": "1",
         "orientation": "h",
         "showlegend": false,
         "type": "bar",
         "width": 0.6,
         "x": [
          0
         ],
         "y": [
          "U(do, not_buy)"
         ]
        },
        {
         "hoverinfo": "skip",
         "marker": {
          "color": "lightblue",
          "line": {
           "color": "black",
           "width": 0.5
          }
         },
         "name": "",
         "offsetgroup": "1",
         "orientation": "h",
         "showlegend": false,
         "type": "bar",
         "width": 0.6,
         "x": [
          8.199999999999932
         ],
         "y": [
          "U(do, not_buy)"
         ]
        },
        {
         "hoverlabel": {
          "bgcolor": "lightcoral",
          "bordercolor": "darkred",
          "font": {
           "color": "black"
          }
         },
         "hovertemplate": "\n        Variable: U(do, not_buy)<br>\n        Low Scenario<br>\n        MEU: 751.00<br>\n        Impact: +0.00<br>\n        Optimal Decisions: T: not_do, B: [pass: buy, fail: buy, no_results: buy]\n        <extra></extra>",
         "marker": {
          "color": "rgba(0,0,0,0)",
          "size": 0.1
         },
         "mode": "markers",
         "name": "",
         "showlegend": false,
         "type": "scatter",
         "x": [
          0
         ],
         "y": [
          "U(do, not_buy)"
         ]
        },
        {
         "hoverlabel": {
          "bgcolor": "lightblue",
          "bordercolor": "darkblue",
          "font": {
           "color": "black"
          }
         },
         "hovertemplate": "\n        Variable: U(do, not_buy)<br>\n        High Scenario<br>\n        MEU: 759.20<br>\n        Impact: +8.20<br>\n        Optimal Decisions: T: do, B: [pass: buy, fail: not_buy, no_results: buy]\n        <extra></extra>",
         "marker": {
          "color": "rgba(0,0,0,0)",
          "size": 0.1
         },
         "mode": "markers",
         "name": "",
         "showlegend": false,
         "type": "scatter",
         "x": [
          4.099999999999966
         ],
         "y": [
          "U(do, not_buy)"
         ]
        },
        {
         "hoverinfo": "skip",
         "marker": {
          "color": "lightcoral",
          "line": {
           "color": "black",
           "width": 0.5
          }
         },
         "name": "",
         "offsetgroup": "1",
         "orientation": "h",
         "showlegend": false,
         "type": "bar",
         "width": 0.6,
         "x": [
          0
         ],
         "y": [
          "U(do, buy, low)"
         ]
        },
        {
         "hoverinfo": "skip",
         "marker": {
          "color": "lightblue",
          "line": {
           "color": "black",
           "width": 0.5
          }
         },
         "name": "",
         "offsetgroup": "1",
         "orientation": "h",
         "showlegend": false,
         "type": "bar",
         "width": 0.6,
         "x": [
          0
         ],
         "y": [
          "U(do, buy, low)"
         ]
        },
        {
         "hoverlabel": {
          "bgcolor": "lightcoral",
          "bordercolor": "darkred",
          "font": {
           "color": "black"
          }
         },
         "hovertemplate": "\n        Variable: U(do, buy, low)<br>\n        High Scenario<br>\n        MEU: 751.00<br>\n        Impact: +0.00<br>\n        Optimal Decisions: T: not_do, B: [pass: buy, fail: buy, no_results: buy]\n        <extra></extra>",
         "marker": {
          "color": "rgba(0,0,0,0)",
          "size": 0.1
         },
         "mode": "markers",
         "name": "",
         "showlegend": false,
         "type": "scatter",
         "x": [
          0
         ],
         "y": [
          "U(do, buy, low)"
         ]
        },
        {
         "hoverlabel": {
          "bgcolor": "lightblue",
          "bordercolor": "darkblue",
          "font": {
           "color": "black"
          }
         },
         "hovertemplate": "\n        Variable: U(do, buy, low)<br>\n        Low Scenario<br>\n        MEU: 751.00<br>\n        Impact: +0.00<br>\n        Optimal Decisions: T: not_do, B: [pass: buy, fail: buy, no_results: buy]\n        <extra></extra>",
         "marker": {
          "color": "rgba(0,0,0,0)",
          "size": 0.1
         },
         "mode": "markers",
         "name": "",
         "showlegend": false,
         "type": "scatter",
         "x": [
          0
         ],
         "y": [
          "U(do, buy, low)"
         ]
        },
        {
         "hoverinfo": "skip",
         "marker": {
          "color": "lightcoral",
          "line": {
           "color": "black",
           "width": 0.5
          }
         },
         "name": "",
         "offsetgroup": "1",
         "orientation": "h",
         "showlegend": false,
         "type": "bar",
         "width": 0.6,
         "x": [
          0
         ],
         "y": [
          "U(not_do, not_buy)"
         ]
        },
        {
         "hoverinfo": "skip",
         "marker": {
          "color": "lightblue",
          "line": {
           "color": "black",
           "width": 0.5
          }
         },
         "name": "",
         "offsetgroup": "1",
         "orientation": "h",
         "showlegend": false,
         "type": "bar",
         "width": 0.6,
         "x": [
          0
         ],
         "y": [
          "U(not_do, not_buy)"
         ]
        },
        {
         "hoverlabel": {
          "bgcolor": "lightcoral",
          "bordercolor": "darkred",
          "font": {
           "color": "black"
          }
         },
         "hovertemplate": "\n        Variable: U(not_do, not_buy)<br>\n        High Scenario<br>\n        MEU: 751.00<br>\n        Impact: +0.00<br>\n        Optimal Decisions: T: not_do, B: [pass: buy, fail: buy, no_results: buy]\n        <extra></extra>",
         "marker": {
          "color": "rgba(0,0,0,0)",
          "size": 0.1
         },
         "mode": "markers",
         "name": "",
         "showlegend": false,
         "type": "scatter",
         "x": [
          0
         ],
         "y": [
          "U(not_do, not_buy)"
         ]
        },
        {
         "hoverlabel": {
          "bgcolor": "lightblue",
          "bordercolor": "darkblue",
          "font": {
           "color": "black"
          }
         },
         "hovertemplate": "\n        Variable: U(not_do, not_buy)<br>\n        Low Scenario<br>\n        MEU: 751.00<br>\n        Impact: +0.00<br>\n        Optimal Decisions: T: not_do, B: [pass: buy, fail: buy, no_results: buy]\n        <extra></extra>",
         "marker": {
          "color": "rgba(0,0,0,0)",
          "size": 0.1
         },
         "mode": "markers",
         "name": "",
         "showlegend": false,
         "type": "scatter",
         "x": [
          0
         ],
         "y": [
          "U(not_do, not_buy)"
         ]
        }
       ],
       "layout": {
        "annotations": [
         {
          "font": {
           "size": 10
          },
          "showarrow": false,
          "text": "-24.1",
          "x": -26.455000000000076,
          "xanchor": "right",
          "y": "U(not_do, buy, medium)"
         },
         {
          "font": {
           "size": 10
          },
          "showarrow": false,
          "text": "45.0",
          "x": 49.5,
          "xanchor": "left",
          "y": "U(not_do, buy, medium)"
         },
         {
          "font": {
           "size": 10
          },
          "showarrow": false,
          "text": "-24.1",
          "x": -26.455000000000076,
          "xanchor": "right",
          "y": "U(not_do, buy, high)"
         },
         {
          "font": {
           "size": 10
          },
          "showarrow": false,
          "text": "35.0",
          "x": 38.5,
          "xanchor": "left",
          "y": "U(not_do, buy, high)"
         },
         {
          "font": {
           "size": 10
          },
          "showarrow": false,
          "text": "-20.0",
          "x": -22,
          "xanchor": "right",
          "y": "U(not_do, buy, low)"
         },
         {
          "font": {
           "size": 10
          },
          "showarrow": false,
          "text": "20.0",
          "x": 22,
          "xanchor": "left",
          "y": "U(not_do, buy, low)"
         },
         {
          "font": {
           "size": 10
          },
          "showarrow": false,
          "text": "0.0",
          "x": -1,
          "xanchor": "left",
          "y": "U(do, buy, medium)"
         },
         {
          "font": {
           "size": 10
          },
          "showarrow": false,
          "text": "15.0",
          "x": 16.5,
          "xanchor": "left",
          "y": "U(do, buy, medium)"
         },
         {
          "font": {
           "size": 10
          },
          "showarrow": false,
          "text": "0.0",
          "x": -1,
          "xanchor": "left",
          "y": "U(do, buy, high)"
         },
         {
          "font": {
           "size": 10
          },
          "showarrow": false,
          "text": "9.2",
          "x": 10.119999999999925,
          "xanchor": "left",
          "y": "U(do, buy, high)"
         },
         {
          "font": {
           "size": 10
          },
          "showarrow": false,
          "text": "0.0",
          "x": -1,
          "xanchor": "left",
          "y": "U(do, not_buy)"
         },
         {
          "font": {
           "size": 10
          },
          "showarrow": false,
          "text": "8.2",
          "x": 9.019999999999925,
          "xanchor": "left",
          "y": "U(do, not_buy)"
         },
         {
          "font": {
           "size": 10
          },
          "showarrow": false,
          "text": "0.0",
          "x": -1,
          "xanchor": "left",
          "y": "U(do, buy, low)"
         },
         {
          "font": {
           "size": 10
          },
          "showarrow": false,
          "text": "0.0",
          "x": 1,
          "xanchor": "right",
          "y": "U(do, buy, low)"
         },
         {
          "font": {
           "size": 10
          },
          "showarrow": false,
          "text": "0.0",
          "x": -1,
          "xanchor": "left",
          "y": "U(not_do, not_buy)"
         },
         {
          "font": {
           "size": 10
          },
          "showarrow": false,
          "text": "0.0",
          "x": 1,
          "xanchor": "right",
          "y": "U(not_do, not_buy)"
         }
        ],
        "bargap": 0.1,
        "bargroupgap": 0,
        "height": 600,
        "hovermode": "closest",
        "legend": {
         "orientation": "h",
         "x": 1,
         "xanchor": "right",
         "y": 1.02,
         "yanchor": "bottom"
        },
        "shapes": [
         {
          "line": {
           "color": "black",
           "width": 2
          },
          "type": "line",
          "x0": 0,
          "x1": 0,
          "xref": "x",
          "y0": 0,
          "y1": 1,
          "yref": "y domain"
         }
        ],
        "template": {
         "data": {
          "bar": [
           {
            "error_x": {
             "color": "#2a3f5f"
            },
            "error_y": {
             "color": "#2a3f5f"
            },
            "marker": {
             "line": {
              "color": "#E5ECF6",
              "width": 0.5
             },
             "pattern": {
              "fillmode": "overlay",
              "size": 10,
              "solidity": 0.2
             }
            },
            "type": "bar"
           }
          ],
          "barpolar": [
           {
            "marker": {
             "line": {
              "color": "#E5ECF6",
              "width": 0.5
             },
             "pattern": {
              "fillmode": "overlay",
              "size": 10,
              "solidity": 0.2
             }
            },
            "type": "barpolar"
           }
          ],
          "carpet": [
           {
            "aaxis": {
             "endlinecolor": "#2a3f5f",
             "gridcolor": "white",
             "linecolor": "white",
             "minorgridcolor": "white",
             "startlinecolor": "#2a3f5f"
            },
            "baxis": {
             "endlinecolor": "#2a3f5f",
             "gridcolor": "white",
             "linecolor": "white",
             "minorgridcolor": "white",
             "startlinecolor": "#2a3f5f"
            },
            "type": "carpet"
           }
          ],
          "choropleth": [
           {
            "colorbar": {
             "outlinewidth": 0,
             "ticks": ""
            },
            "type": "choropleth"
           }
          ],
          "contour": [
           {
            "colorbar": {
             "outlinewidth": 0,
             "ticks": ""
            },
            "colorscale": [
             [
              0,
              "#0d0887"
             ],
             [
              0.1111111111111111,
              "#46039f"
             ],
             [
              0.2222222222222222,
              "#7201a8"
             ],
             [
              0.3333333333333333,
              "#9c179e"
             ],
             [
              0.4444444444444444,
              "#bd3786"
             ],
             [
              0.5555555555555556,
              "#d8576b"
             ],
             [
              0.6666666666666666,
              "#ed7953"
             ],
             [
              0.7777777777777778,
              "#fb9f3a"
             ],
             [
              0.8888888888888888,
              "#fdca26"
             ],
             [
              1,
              "#f0f921"
             ]
            ],
            "type": "contour"
           }
          ],
          "contourcarpet": [
           {
            "colorbar": {
             "outlinewidth": 0,
             "ticks": ""
            },
            "type": "contourcarpet"
           }
          ],
          "heatmap": [
           {
            "colorbar": {
             "outlinewidth": 0,
             "ticks": ""
            },
            "colorscale": [
             [
              0,
              "#0d0887"
             ],
             [
              0.1111111111111111,
              "#46039f"
             ],
             [
              0.2222222222222222,
              "#7201a8"
             ],
             [
              0.3333333333333333,
              "#9c179e"
             ],
             [
              0.4444444444444444,
              "#bd3786"
             ],
             [
              0.5555555555555556,
              "#d8576b"
             ],
             [
              0.6666666666666666,
              "#ed7953"
             ],
             [
              0.7777777777777778,
              "#fb9f3a"
             ],
             [
              0.8888888888888888,
              "#fdca26"
             ],
             [
              1,
              "#f0f921"
             ]
            ],
            "type": "heatmap"
           }
          ],
          "histogram": [
           {
            "marker": {
             "pattern": {
              "fillmode": "overlay",
              "size": 10,
              "solidity": 0.2
             }
            },
            "type": "histogram"
           }
          ],
          "histogram2d": [
           {
            "colorbar": {
             "outlinewidth": 0,
             "ticks": ""
            },
            "colorscale": [
             [
              0,
              "#0d0887"
             ],
             [
              0.1111111111111111,
              "#46039f"
             ],
             [
              0.2222222222222222,
              "#7201a8"
             ],
             [
              0.3333333333333333,
              "#9c179e"
             ],
             [
              0.4444444444444444,
              "#bd3786"
             ],
             [
              0.5555555555555556,
              "#d8576b"
             ],
             [
              0.6666666666666666,
              "#ed7953"
             ],
             [
              0.7777777777777778,
              "#fb9f3a"
             ],
             [
              0.8888888888888888,
              "#fdca26"
             ],
             [
              1,
              "#f0f921"
             ]
            ],
            "type": "histogram2d"
           }
          ],
          "histogram2dcontour": [
           {
            "colorbar": {
             "outlinewidth": 0,
             "ticks": ""
            },
            "colorscale": [
             [
              0,
              "#0d0887"
             ],
             [
              0.1111111111111111,
              "#46039f"
             ],
             [
              0.2222222222222222,
              "#7201a8"
             ],
             [
              0.3333333333333333,
              "#9c179e"
             ],
             [
              0.4444444444444444,
              "#bd3786"
             ],
             [
              0.5555555555555556,
              "#d8576b"
             ],
             [
              0.6666666666666666,
              "#ed7953"
             ],
             [
              0.7777777777777778,
              "#fb9f3a"
             ],
             [
              0.8888888888888888,
              "#fdca26"
             ],
             [
              1,
              "#f0f921"
             ]
            ],
            "type": "histogram2dcontour"
           }
          ],
          "mesh3d": [
           {
            "colorbar": {
             "outlinewidth": 0,
             "ticks": ""
            },
            "type": "mesh3d"
           }
          ],
          "parcoords": [
           {
            "line": {
             "colorbar": {
              "outlinewidth": 0,
              "ticks": ""
             }
            },
            "type": "parcoords"
           }
          ],
          "pie": [
           {
            "automargin": true,
            "type": "pie"
           }
          ],
          "scatter": [
           {
            "fillpattern": {
             "fillmode": "overlay",
             "size": 10,
             "solidity": 0.2
            },
            "type": "scatter"
           }
          ],
          "scatter3d": [
           {
            "line": {
             "colorbar": {
              "outlinewidth": 0,
              "ticks": ""
             }
            },
            "marker": {
             "colorbar": {
              "outlinewidth": 0,
              "ticks": ""
             }
            },
            "type": "scatter3d"
           }
          ],
          "scattercarpet": [
           {
            "marker": {
             "colorbar": {
              "outlinewidth": 0,
              "ticks": ""
             }
            },
            "type": "scattercarpet"
           }
          ],
          "scattergeo": [
           {
            "marker": {
             "colorbar": {
              "outlinewidth": 0,
              "ticks": ""
             }
            },
            "type": "scattergeo"
           }
          ],
          "scattergl": [
           {
            "marker": {
             "colorbar": {
              "outlinewidth": 0,
              "ticks": ""
             }
            },
            "type": "scattergl"
           }
          ],
          "scattermap": [
           {
            "marker": {
             "colorbar": {
              "outlinewidth": 0,
              "ticks": ""
             }
            },
            "type": "scattermap"
           }
          ],
          "scattermapbox": [
           {
            "marker": {
             "colorbar": {
              "outlinewidth": 0,
              "ticks": ""
             }
            },
            "type": "scattermapbox"
           }
          ],
          "scatterpolar": [
           {
            "marker": {
             "colorbar": {
              "outlinewidth": 0,
              "ticks": ""
             }
            },
            "type": "scatterpolar"
           }
          ],
          "scatterpolargl": [
           {
            "marker": {
             "colorbar": {
              "outlinewidth": 0,
              "ticks": ""
             }
            },
            "type": "scatterpolargl"
           }
          ],
          "scatterternary": [
           {
            "marker": {
             "colorbar": {
              "outlinewidth": 0,
              "ticks": ""
             }
            },
            "type": "scatterternary"
           }
          ],
          "surface": [
           {
            "colorbar": {
             "outlinewidth": 0,
             "ticks": ""
            },
            "colorscale": [
             [
              0,
              "#0d0887"
             ],
             [
              0.1111111111111111,
              "#46039f"
             ],
             [
              0.2222222222222222,
              "#7201a8"
             ],
             [
              0.3333333333333333,
              "#9c179e"
             ],
             [
              0.4444444444444444,
              "#bd3786"
             ],
             [
              0.5555555555555556,
              "#d8576b"
             ],
             [
              0.6666666666666666,
              "#ed7953"
             ],
             [
              0.7777777777777778,
              "#fb9f3a"
             ],
             [
              0.8888888888888888,
              "#fdca26"
             ],
             [
              1,
              "#f0f921"
             ]
            ],
            "type": "surface"
           }
          ],
          "table": [
           {
            "cells": {
             "fill": {
              "color": "#EBF0F8"
             },
             "line": {
              "color": "white"
             }
            },
            "header": {
             "fill": {
              "color": "#C8D4E3"
             },
             "line": {
              "color": "white"
             }
            },
            "type": "table"
           }
          ]
         },
         "layout": {
          "annotationdefaults": {
           "arrowcolor": "#2a3f5f",
           "arrowhead": 0,
           "arrowwidth": 1
          },
          "autotypenumbers": "strict",
          "coloraxis": {
           "colorbar": {
            "outlinewidth": 0,
            "ticks": ""
           }
          },
          "colorscale": {
           "diverging": [
            [
             0,
             "#8e0152"
            ],
            [
             0.1,
             "#c51b7d"
            ],
            [
             0.2,
             "#de77ae"
            ],
            [
             0.3,
             "#f1b6da"
            ],
            [
             0.4,
             "#fde0ef"
            ],
            [
             0.5,
             "#f7f7f7"
            ],
            [
             0.6,
             "#e6f5d0"
            ],
            [
             0.7,
             "#b8e186"
            ],
            [
             0.8,
             "#7fbc41"
            ],
            [
             0.9,
             "#4d9221"
            ],
            [
             1,
             "#276419"
            ]
           ],
           "sequential": [
            [
             0,
             "#0d0887"
            ],
            [
             0.1111111111111111,
             "#46039f"
            ],
            [
             0.2222222222222222,
             "#7201a8"
            ],
            [
             0.3333333333333333,
             "#9c179e"
            ],
            [
             0.4444444444444444,
             "#bd3786"
            ],
            [
             0.5555555555555556,
             "#d8576b"
            ],
            [
             0.6666666666666666,
             "#ed7953"
            ],
            [
             0.7777777777777778,
             "#fb9f3a"
            ],
            [
             0.8888888888888888,
             "#fdca26"
            ],
            [
             1,
             "#f0f921"
            ]
           ],
           "sequentialminus": [
            [
             0,
             "#0d0887"
            ],
            [
             0.1111111111111111,
             "#46039f"
            ],
            [
             0.2222222222222222,
             "#7201a8"
            ],
            [
             0.3333333333333333,
             "#9c179e"
            ],
            [
             0.4444444444444444,
             "#bd3786"
            ],
            [
             0.5555555555555556,
             "#d8576b"
            ],
            [
             0.6666666666666666,
             "#ed7953"
            ],
            [
             0.7777777777777778,
             "#fb9f3a"
            ],
            [
             0.8888888888888888,
             "#fdca26"
            ],
            [
             1,
             "#f0f921"
            ]
           ]
          },
          "colorway": [
           "#636efa",
           "#EF553B",
           "#00cc96",
           "#ab63fa",
           "#FFA15A",
           "#19d3f3",
           "#FF6692",
           "#B6E880",
           "#FF97FF",
           "#FECB52"
          ],
          "font": {
           "color": "#2a3f5f"
          },
          "geo": {
           "bgcolor": "white",
           "lakecolor": "white",
           "landcolor": "#E5ECF6",
           "showlakes": true,
           "showland": true,
           "subunitcolor": "white"
          },
          "hoverlabel": {
           "align": "left"
          },
          "hovermode": "closest",
          "mapbox": {
           "style": "light"
          },
          "paper_bgcolor": "white",
          "plot_bgcolor": "#E5ECF6",
          "polar": {
           "angularaxis": {
            "gridcolor": "white",
            "linecolor": "white",
            "ticks": ""
           },
           "bgcolor": "#E5ECF6",
           "radialaxis": {
            "gridcolor": "white",
            "linecolor": "white",
            "ticks": ""
           }
          },
          "scene": {
           "xaxis": {
            "backgroundcolor": "#E5ECF6",
            "gridcolor": "white",
            "gridwidth": 2,
            "linecolor": "white",
            "showbackground": true,
            "ticks": "",
            "zerolinecolor": "white"
           },
           "yaxis": {
            "backgroundcolor": "#E5ECF6",
            "gridcolor": "white",
            "gridwidth": 2,
            "linecolor": "white",
            "showbackground": true,
            "ticks": "",
            "zerolinecolor": "white"
           },
           "zaxis": {
            "backgroundcolor": "#E5ECF6",
            "gridcolor": "white",
            "gridwidth": 2,
            "linecolor": "white",
            "showbackground": true,
            "ticks": "",
            "zerolinecolor": "white"
           }
          },
          "shapedefaults": {
           "line": {
            "color": "#2a3f5f"
           }
          },
          "ternary": {
           "aaxis": {
            "gridcolor": "white",
            "linecolor": "white",
            "ticks": ""
           },
           "baxis": {
            "gridcolor": "white",
            "linecolor": "white",
            "ticks": ""
           },
           "bgcolor": "#E5ECF6",
           "caxis": {
            "gridcolor": "white",
            "linecolor": "white",
            "ticks": ""
           }
          },
          "title": {
           "x": 0.05
          },
          "xaxis": {
           "automargin": true,
           "gridcolor": "white",
           "linecolor": "white",
           "ticks": "",
           "title": {
            "standoff": 15
           },
           "zerolinecolor": "white",
           "zerolinewidth": 2
          },
          "yaxis": {
           "automargin": true,
           "gridcolor": "white",
           "linecolor": "white",
           "ticks": "",
           "title": {
            "standoff": 15
           },
           "zerolinecolor": "white",
           "zerolinewidth": 2
          }
         }
        },
        "title": {
         "font": {
          "size": 16
         },
         "text": "Oil Field Purchase: Utility Sensitivity Analysis (Constant Variation)<br><sub>Baseline Expected Utility: 751.00 | Utility values varied by ±100 units</sub>"
        },
        "width": 800,
        "xaxis": {
         "gridcolor": "lightgray",
         "gridwidth": 0.5,
         "title": {
          "text": "Change in Expected Utility from Baseline"
         },
         "zeroline": true,
         "zerolinecolor": "black",
         "zerolinewidth": 2
        },
        "yaxis": {
         "categoryarray": [
          "U(not_do, not_buy)",
          "U(do, buy, low)",
          "U(do, not_buy)",
          "U(do, buy, high)",
          "U(do, buy, medium)",
          "U(not_do, buy, low)",
          "U(not_do, buy, high)",
          "U(not_do, buy, medium)"
         ],
         "categoryorder": "array",
         "title": {
          "text": "Utility Variables"
         }
        }
       }
      }
     },
     "metadata": {},
     "output_type": "display_data"
    }
   ],
   "source": [
    "# Generate tornado analysis data with constant variation\n",
    "tornado_results_constant = generate_utility_tornado_data(\n",
    "    u_table=u_table,\n",
    "    baseline_meu=baseline_meu,\n",
    "    variation_amount=100,  # ±100 units\n",
    "    variation_type='constant'\n",
    ")\n",
    "\n",
    "print(f\"\\nMost sensitive utility variable (constant variation): {tornado_results_constant['top_variable']}\")\n",
    "print(f\"Total variables analyzed: {len(tornado_results_constant['tornado_data'])}\")\n",
    "\n",
    "# Create and display the tornado plot for constant\n",
    "fig_constant = plot_utility_tornado_diagram(\n",
    "    tornado_results=tornado_results_constant,\n",
    "    title=\"Oil Field Purchase: Utility Sensitivity Analysis (Constant Variation)\",\n",
    "    show_plot=False\n",
    ")\n",
    "\n",
    "print(\"\\nDisplaying constant variation plot...\")\n",
    "fig_constant.show()"
   ]
  },
  {
   "cell_type": "markdown",
   "id": "6fa93bb2",
   "metadata": {},
   "source": [
    "## 4 - Tornado analysis for test cost"
   ]
  },
  {
   "cell_type": "code",
   "execution_count": 94,
   "id": "7086303e",
   "metadata": {},
   "outputs": [],
   "source": [
    "def apply_test_cost_variation(u_table, test_cost_variation):\n",
    "    \"\"\"\n",
    "    Apply test cost variation to utility table\n",
    "    \n",
    "    Parameters:\n",
    "    -----------\n",
    "    u_table : pd.DataFrame\n",
    "        Original utility table\n",
    "    test_cost_variation : float\n",
    "        Amount to subtract from utilities when T='do' (positive means higher cost)\n",
    "        \n",
    "    Returns:\n",
    "    --------\n",
    "    pd.DataFrame : Modified utility table with test cost applied\n",
    "    \"\"\"\n",
    "    u_modified = u_table.copy()\n",
    "    u_modified = u_modified.astype({u_modified.columns[3]: float})\n",
    "    \n",
    "    # Apply test cost variation to all \"do\" cases\n",
    "    # Indices 0, 1, 2, 3 correspond to 'do' cases in the utility table\n",
    "    do_indices = u_modified[u_modified['T'] == 'do'].index\n",
    "    u_modified.loc[do_indices, 'U'] = u_modified.loc[do_indices, 'U'] - test_cost_variation\n",
    "    \n",
    "    return u_modified\n",
    "\n",
    "\n",
    "def update_utility_and_calculate_meu_with_decisions(u_table_modified):\n",
    "    \"\"\"\n",
    "    Update utility values in the influence diagram and calculate MEU with optimal decisions\n",
    "    \n",
    "    Parameters:\n",
    "    -----------\n",
    "    u_table_modified : pd.DataFrame\n",
    "        Modified utility table\n",
    "        \n",
    "    Returns:\n",
    "    --------\n",
    "    tuple : (MEU, optimal_decisions_dict)\n",
    "    \"\"\"\n",
    "    # Store original utility values\n",
    "    original_utilities = {}\n",
    "    original_utilities[\"do_buy\"] = influence_diagram.utility(U)[{\"T\": \"do\", \"B\": \"buy\"}].copy()\n",
    "    original_utilities[\"do_not_buy\"] = influence_diagram.utility(U)[{\"T\": \"do\", \"B\": \"not_buy\"}].copy()\n",
    "    original_utilities[\"not_do_buy\"] = influence_diagram.utility(U)[{\"T\": \"not_do\", \"B\": \"buy\"}].copy()\n",
    "    original_utilities[\"not_do_not_buy\"] = influence_diagram.utility(U)[{\"T\": \"not_do\", \"B\": \"not_buy\"}].copy()\n",
    "    \n",
    "    try:\n",
    "        # Update utility values\n",
    "        influence_diagram.utility(U)[{\"T\": \"do\", \"B\": \"buy\"}] = np.array(\n",
    "            [u_table_modified.iloc[0, 3], u_table_modified.iloc[1, 3], u_table_modified.iloc[2, 3]])[:, np.newaxis]\n",
    "        influence_diagram.utility(U)[{\"T\": \"do\", \"B\": \"not_buy\"}] = np.array(\n",
    "            [u_table_modified.iloc[3, 3]] * 3)[:, np.newaxis]\n",
    "        influence_diagram.utility(U)[{\"T\": \"not_do\", \"B\": \"buy\"}] = np.array(\n",
    "            [u_table_modified.iloc[4, 3], u_table_modified.iloc[5, 3], u_table_modified.iloc[6, 3]])[:, np.newaxis]\n",
    "        influence_diagram.utility(U)[{\"T\": \"not_do\", \"B\": \"not_buy\"}] = np.array(\n",
    "            [u_table_modified.iloc[7, 3]] * 3)[:, np.newaxis]\n",
    "        \n",
    "        # Calculate MEU and optimal decisions\n",
    "        temp_inference = grum.ShaferShenoyLIMIDInference(influence_diagram)\n",
    "        temp_inference.makeInference()\n",
    "        meu_result = temp_inference.MEU()\n",
    "        meu = meu_result['mean']\n",
    "        \n",
    "        # Get optimal decisions\n",
    "        optimal_T = temp_inference.optimalDecision(\"T\").argmax()\n",
    "        optimal_B_tensor = temp_inference.optimalDecision(\"B\")\n",
    "        \n",
    "        # For T decision (simple decision)\n",
    "        t_decision = 'do' if optimal_T[0][0]['T'] == 0 else 'not_do'\n",
    "        \n",
    "        # For B decision (depends on R), extract the policy\n",
    "        b_instantiations, _ = optimal_B_tensor.argmax()\n",
    "        b_policy = {}\n",
    "        for inst in b_instantiations:\n",
    "            r_value = inst['R']\n",
    "            b_value = inst['B']\n",
    "            r_label = ['pass', 'fail', 'no_results'][r_value]\n",
    "            b_label = 'buy' if b_value == 0 else 'not_buy'\n",
    "            b_policy[r_label] = b_label\n",
    "        \n",
    "        optimal_decisions = {\n",
    "            'T': t_decision,\n",
    "            'B': b_policy\n",
    "        }\n",
    "        \n",
    "    finally:\n",
    "        # Restore original values\n",
    "        influence_diagram.utility(U)[{\"T\": \"do\", \"B\": \"buy\"}] = original_utilities[\"do_buy\"]\n",
    "        influence_diagram.utility(U)[{\"T\": \"do\", \"B\": \"not_buy\"}] = original_utilities[\"do_not_buy\"]\n",
    "        influence_diagram.utility(U)[{\"T\": \"not_do\", \"B\": \"buy\"}] = original_utilities[\"not_do_buy\"]\n",
    "        influence_diagram.utility(U)[{\"T\": \"not_do\", \"B\": \"not_buy\"}] = original_utilities[\"not_do_not_buy\"]\n",
    "    \n",
    "    return meu, optimal_decisions\n",
    "\n",
    "\n",
    "def analyze_test_cost_sensitivity(u_table, baseline_meu, cost_variations):\n",
    "    \"\"\"\n",
    "    Analyze sensitivity of test cost for tornado diagram\n",
    "    \n",
    "    Parameters:\n",
    "    -----------\n",
    "    u_table : pd.DataFrame\n",
    "        Original utility table\n",
    "    baseline_meu : float\n",
    "        Baseline maximum expected utility\n",
    "    cost_variations : list\n",
    "        List of test cost variations to analyze (e.g., [-50, -25, 0, 25, 50, 100])\n",
    "        \n",
    "    Returns:\n",
    "    --------\n",
    "    list : Tornado data for test cost variable\n",
    "    \"\"\"\n",
    "    tornado_data = []\n",
    "    \n",
    "    print(f\"\\nAnalyzing Test Cost Sensitivity...\")\n",
    "    print(f\"Cost variations to test: {cost_variations}\")\n",
    "    \n",
    "    for cost_variation in cost_variations:\n",
    "        # Apply test cost variation\n",
    "        u_modified = apply_test_cost_variation(u_table, cost_variation)\n",
    "        \n",
    "        # Calculate MEU and optimal decisions\n",
    "        meu, decisions = update_utility_and_calculate_meu_with_decisions(u_modified)\n",
    "        \n",
    "        impact = meu - baseline_meu\n",
    "        \n",
    "        tornado_data.append({\n",
    "            'cost_variation': cost_variation,\n",
    "            'meu': meu,\n",
    "            'impact': impact,\n",
    "            'decisions': decisions\n",
    "        })\n",
    "        \n",
    "        print(f\"  Test cost variation: {cost_variation:+.0f} → MEU: {meu:.2f} (Impact: {impact:+.2f})\")\n",
    "    \n",
    "    return tornado_data\n",
    "\n",
    "\n",
    "def analyze_test_cost_tornado(u_table, baseline_meu, cost_variation=50):\n",
    "    \"\"\"\n",
    "    Analyze test cost sensitivity for tornado diagram with a single cost variation\n",
    "    \n",
    "    Parameters:\n",
    "    -----------\n",
    "    u_table : pd.DataFrame\n",
    "        Original utility table\n",
    "    baseline_meu : float\n",
    "        Baseline maximum expected utility\n",
    "    cost_variation : float\n",
    "        Single cost variation value to analyze (will test both +cost_variation and -cost_variation)\n",
    "        \n",
    "    Returns:\n",
    "    --------\n",
    "    dict : Tornado analysis results for test cost\n",
    "    \"\"\"\n",
    "    # Test both positive and negative variations\n",
    "    cost_variations = [-cost_variation, cost_variation]\n",
    "    \n",
    "    print(f\"Test Cost Tornado Analysis\")\n",
    "    print(f\"Baseline MEU: {baseline_meu:.2f}\")\n",
    "    print(f\"Cost variation: ±{cost_variation}\")\n",
    "    \n",
    "    # Analyze sensitivity for both variations\n",
    "    sensitivity_data = analyze_test_cost_sensitivity(u_table, baseline_meu, cost_variations)\n",
    "    \n",
    "    # Get low and high scenarios\n",
    "    low_data = sensitivity_data[0]   # -cost_variation\n",
    "    high_data = sensitivity_data[1]  # +cost_variation\n",
    "    \n",
    "    # Create tornado data in expected format\n",
    "    tornado_data = [{\n",
    "        'variable': 'Test Cost',\n",
    "        'low_impact': low_data['impact'],\n",
    "        'high_impact': high_data['impact'],\n",
    "        'total_range': abs(high_data['impact'] - low_data['impact']),\n",
    "        'low_cost_variation': low_data['cost_variation'],\n",
    "        'high_cost_variation': high_data['cost_variation'],\n",
    "        'meu_low': low_data['meu'],\n",
    "        'meu_high': high_data['meu'],\n",
    "        'decisions_low': low_data['decisions'],\n",
    "        'decisions_high': high_data['decisions'],\n",
    "        'cost_variation': cost_variation,\n",
    "        'sensitivity_data': sensitivity_data\n",
    "    }]\n",
    "    \n",
    "    return {\n",
    "        'baseline_meu': baseline_meu,\n",
    "        'tornado_data': tornado_data,\n",
    "        'sensitivity_data': sensitivity_data,\n",
    "        'cost_variation': cost_variation\n",
    "    }\n",
    "\n",
    "\n",
    "def create_test_cost_tornado_plot(tornado_results, title=\"Test Cost Tornado Diagram\", \n",
    "                                 width=800, height=400):\n",
    "    \"\"\"\n",
    "    Create tornado diagram for test cost sensitivity analysis\n",
    "    \n",
    "    Parameters:\n",
    "    -----------\n",
    "    tornado_results : dict\n",
    "        Results from analyze_test_cost_tornado()\n",
    "    title : str\n",
    "        Plot title\n",
    "    width : int\n",
    "        Plot width in pixels\n",
    "    height : int\n",
    "        Plot height in pixels\n",
    "        \n",
    "    Returns:\n",
    "    --------\n",
    "    plotly.graph_objects.Figure : The tornado plot figure\n",
    "    \"\"\"\n",
    "    tornado_data = tornado_results['tornado_data'][0]  # Only one variable\n",
    "    baseline_meu = tornado_results['baseline_meu']\n",
    "    cost_variation = tornado_results['cost_variation']\n",
    "    \n",
    "    # Extract data\n",
    "    variable = tornado_data['variable']\n",
    "    low_impact = tornado_data['low_impact']\n",
    "    high_impact = tornado_data['high_impact']\n",
    "    low_cost = tornado_data['low_cost_variation']\n",
    "    high_cost = tornado_data['high_cost_variation']\n",
    "    meu_low = tornado_data['meu_low']\n",
    "    meu_high = tornado_data['meu_high']\n",
    "    decisions_low = tornado_data['decisions_low']\n",
    "    decisions_high = tornado_data['decisions_high']\n",
    "    \n",
    "    # Helper function to format decisions for hover text\n",
    "    def format_decisions(decisions):\n",
    "        t_decision = decisions['T']\n",
    "        b_policy = decisions['B']\n",
    "        b_text = \", \".join([f\"{r}: {b}\" for r, b in b_policy.items()])\n",
    "        return f\"T: {t_decision}, B: [{b_text}]\"\n",
    "    \n",
    "    # Create the figure\n",
    "    fig = go.Figure()\n",
    "    \n",
    "    # Determine which is left (negative) and right (positive)\n",
    "    left_val = min(low_impact, high_impact)\n",
    "    right_val = max(low_impact, high_impact)\n",
    "    \n",
    "    # Determine which scenario corresponds to left and right\n",
    "    if low_impact < high_impact:\n",
    "        left_meu = meu_low\n",
    "        right_meu = meu_high\n",
    "        left_decisions = decisions_low\n",
    "        right_decisions = decisions_high\n",
    "        left_cost = low_cost\n",
    "        right_cost = high_cost\n",
    "        left_label = f\"Low Cost (Cost: {left_cost:+.0f})\"\n",
    "        right_label = f\"High Cost (Cost: {right_cost:+.0f})\"\n",
    "    else:\n",
    "        left_meu = meu_high\n",
    "        right_meu = meu_low\n",
    "        left_decisions = decisions_high\n",
    "        right_decisions = decisions_low\n",
    "        left_cost = high_cost\n",
    "        right_cost = low_cost\n",
    "        left_label = f\"High Cost (Cost: {left_cost:+.0f})\"\n",
    "        right_label = f\"Low Cost (Cost: {right_cost:+.0f})\"\n",
    "    \n",
    "    # Create hover text\n",
    "    left_hover_text = f\"\"\"\n",
    "    Variable: {variable}<br>\n",
    "    {left_label}<br>\n",
    "    MEU: {left_meu:.2f}<br>\n",
    "    Impact: {left_val:+.2f}<br>\n",
    "    Optimal Decisions: {format_decisions(left_decisions)}\n",
    "    \"\"\"\n",
    "    \n",
    "    right_hover_text = f\"\"\"\n",
    "    Variable: {variable}<br>\n",
    "    {right_label}<br>\n",
    "    MEU: {right_meu:.2f}<br>\n",
    "    Impact: {right_val:+.2f}<br>\n",
    "    Optimal Decisions: {format_decisions(right_decisions)}\n",
    "    \"\"\"\n",
    "    \n",
    "    # Add left bar\n",
    "    fig.add_trace(go.Bar(\n",
    "        y=[variable],\n",
    "        x=[left_val],\n",
    "        orientation='h',\n",
    "        name='Lower Impact',\n",
    "        marker=dict(color='lightcoral', line=dict(color='black', width=0.5)),\n",
    "        offsetgroup=1,\n",
    "        width=0.6,\n",
    "        hoverinfo='skip'\n",
    "    ))\n",
    "    \n",
    "    # Add right bar\n",
    "    fig.add_trace(go.Bar(\n",
    "        y=[variable],\n",
    "        x=[right_val],\n",
    "        orientation='h',\n",
    "        name='Higher Impact',\n",
    "        marker=dict(color='lightblue', line=dict(color='black', width=0.5)),\n",
    "        offsetgroup=1,\n",
    "        width=0.6,\n",
    "        hoverinfo='skip'\n",
    "    ))\n",
    "    \n",
    "    # Add invisible scatter points for hover\n",
    "    fig.add_trace(go.Scatter(\n",
    "        x=[left_val/2],\n",
    "        y=[variable],\n",
    "        mode='markers',\n",
    "        marker=dict(size=0.1, color='rgba(0,0,0,0)'),\n",
    "        hovertemplate=left_hover_text + '<extra></extra>',\n",
    "        showlegend=False,\n",
    "        name=''\n",
    "    ))\n",
    "    \n",
    "    fig.add_trace(go.Scatter(\n",
    "        x=[right_val/2],\n",
    "        y=[variable],\n",
    "        mode='markers',\n",
    "        marker=dict(size=0.1, color='rgba(0,0,0,0)'),\n",
    "        hovertemplate=right_hover_text + '<extra></extra>',\n",
    "        showlegend=False,\n",
    "        name=''\n",
    "    ))\n",
    "    \n",
    "    # Add text annotations for impact values\n",
    "    fig.add_annotation(\n",
    "        x=left_val - (abs(left_val) * 0.1 if left_val != 0 else 1),\n",
    "        y=variable,\n",
    "        text=f'{left_val:.1f}',\n",
    "        showarrow=False,\n",
    "        font=dict(size=12),\n",
    "        xanchor='right' if left_val < 0 else 'left'\n",
    "    )\n",
    "    \n",
    "    fig.add_annotation(\n",
    "        x=right_val + (abs(right_val) * 0.1 if right_val != 0 else 1),\n",
    "        y=variable,\n",
    "        text=f'{right_val:.1f}',\n",
    "        showarrow=False,\n",
    "        font=dict(size=12),\n",
    "        xanchor='left' if right_val > 0 else 'right'\n",
    "    )\n",
    "    \n",
    "    # Add vertical line at x=0\n",
    "    fig.add_vline(x=0, line=dict(color='black', width=2))\n",
    "    \n",
    "    # Create subtitle\n",
    "    subtitle = f'Baseline Expected Utility: {baseline_meu:.2f} | Test cost varied by ±{cost_variation} units'\n",
    "    \n",
    "    # Update layout\n",
    "    fig.update_layout(\n",
    "        title=dict(\n",
    "            text=f'{title}<br><sub>{subtitle}</sub>',\n",
    "            font=dict(size=16)\n",
    "        ),\n",
    "        xaxis=dict(\n",
    "            title='Change in Expected Utility from Baseline',\n",
    "            gridcolor='lightgray',\n",
    "            gridwidth=0.5,\n",
    "            zeroline=True,\n",
    "            zerolinecolor='black',\n",
    "            zerolinewidth=2\n",
    "        ),\n",
    "        yaxis=dict(\n",
    "            title='Variable',\n",
    "            showticklabels=True\n",
    "        ),\n",
    "        width=width,\n",
    "        height=height,\n",
    "        bargap=0.1,\n",
    "        bargroupgap=0,\n",
    "        hovermode='closest',\n",
    "        legend=dict(\n",
    "            orientation=\"h\",\n",
    "            yanchor=\"bottom\",\n",
    "            y=1.02,\n",
    "            xanchor=\"right\",\n",
    "            x=1\n",
    "        )\n",
    "    )\n",
    "    \n",
    "    return fig\n",
    "\n",
    "\n",
    "def plot_test_cost_sensitivity_curve(tornado_results, title=\"Test Cost Sensitivity Curve\",\n",
    "                                    width=800, height=500):\n",
    "    \"\"\"\n",
    "    Create a sensitivity curve showing how MEU changes with test cost\n",
    "    \n",
    "    Parameters:\n",
    "    -----------\n",
    "    tornado_results : dict\n",
    "        Results from analyze_test_cost_tornado()\n",
    "    title : str\n",
    "        Plot title\n",
    "    width : int\n",
    "        Plot width in pixels\n",
    "    height : int\n",
    "        Plot height in pixels\n",
    "        \n",
    "    Returns:\n",
    "    --------\n",
    "    plotly.graph_objects.Figure : The sensitivity curve figure\n",
    "    \"\"\"\n",
    "    sensitivity_data = tornado_results['sensitivity_data']\n",
    "    baseline_meu = tornado_results['baseline_meu']\n",
    "    \n",
    "    # Extract data for plotting\n",
    "    cost_variations = [item['cost_variation'] for item in sensitivity_data]\n",
    "    meus = [item['meu'] for item in sensitivity_data]\n",
    "    impacts = [item['impact'] for item in sensitivity_data]\n",
    "    \n",
    "    # Create figure with secondary y-axis\n",
    "    fig = go.Figure()\n",
    "    \n",
    "    # Add MEU curve\n",
    "    fig.add_trace(go.Scatter(\n",
    "        x=cost_variations,\n",
    "        y=meus,\n",
    "        mode='lines+markers',\n",
    "        name='MEU',\n",
    "        line=dict(color='blue', width=2),\n",
    "        marker=dict(size=6),\n",
    "        hovertemplate='Cost Variation: %{x:+.0f}<br>MEU: %{y:.2f}<extra></extra>'\n",
    "    ))\n",
    "    \n",
    "    # Add baseline line\n",
    "    fig.add_hline(\n",
    "        y=baseline_meu,\n",
    "        line=dict(color='red', width=2, dash='dash'),\n",
    "        annotation_text=f'Baseline MEU: {baseline_meu:.2f}',\n",
    "        annotation_position=\"top right\"\n",
    "    )\n",
    "    \n",
    "    # Add vertical line at x=0 (no cost change)\n",
    "    fig.add_vline(\n",
    "        x=0,\n",
    "        line=dict(color='gray', width=1, dash='dot'),\n",
    "        annotation_text='No Cost Change',\n",
    "        annotation_position=\"top\"\n",
    "    )\n",
    "    \n",
    "    # Update layout\n",
    "    fig.update_layout(\n",
    "        title=dict(\n",
    "            text=title,\n",
    "            font=dict(size=16)\n",
    "        ),\n",
    "        xaxis=dict(\n",
    "            title='Test Cost Variation (units)',\n",
    "            gridcolor='lightgray',\n",
    "            gridwidth=0.5,\n",
    "            zeroline=True,\n",
    "            zerolinecolor='gray',\n",
    "            zerolinewidth=1\n",
    "        ),\n",
    "        yaxis=dict(\n",
    "            title='Maximum Expected Utility',\n",
    "            gridcolor='lightgray',\n",
    "            gridwidth=0.5\n",
    "        ),\n",
    "        width=width,\n",
    "        height=height,\n",
    "        hovermode='x unified',\n",
    "        showlegend=True,\n",
    "        legend=dict(\n",
    "            orientation=\"h\",\n",
    "            yanchor=\"bottom\",\n",
    "            y=1.02,\n",
    "            xanchor=\"right\",\n",
    "            x=1\n",
    "        )\n",
    "    )\n",
    "    \n",
    "    return fig\n",
    "\n",
    "def analyze_test_cost_breakeven(u_table, baseline_meu, max_search_cost=200, tolerance=0.01):\n",
    "    \"\"\"\n",
    "    Find the breakeven test cost where the optimal decision changes\n",
    "    \n",
    "    Parameters:\n",
    "    -----------\n",
    "    u_table : pd.DataFrame\n",
    "        Original utility table\n",
    "    baseline_meu : float\n",
    "        Baseline maximum expected utility\n",
    "    max_search_cost : float\n",
    "        Maximum cost to search up to\n",
    "    tolerance : float\n",
    "        Tolerance for MEU comparison\n",
    "        \n",
    "    Returns:\n",
    "    --------\n",
    "    dict : Breakeven analysis results\n",
    "    \"\"\"\n",
    "    print(f\"\\nFinding test cost breakeven point...\")\n",
    "    \n",
    "    # Get baseline optimal decision\n",
    "    _, baseline_decisions = update_utility_and_calculate_meu_with_decisions(u_table)\n",
    "    baseline_t_decision = baseline_decisions['T']\n",
    "    \n",
    "    print(f\"Baseline optimal T decision: {baseline_t_decision}\")\n",
    "    \n",
    "    # Search for breakeven point\n",
    "    cost_increment = 1.0\n",
    "    current_cost = 0.0\n",
    "    breakeven_cost = None\n",
    "    \n",
    "    while current_cost <= max_search_cost:\n",
    "        u_modified = apply_test_cost_variation(u_table, current_cost)\n",
    "        meu, decisions = update_utility_and_calculate_meu_with_decisions(u_modified)\n",
    "        \n",
    "        if decisions['T'] != baseline_t_decision:\n",
    "            breakeven_cost = current_cost\n",
    "            breakeven_meu = meu\n",
    "            breakeven_decisions = decisions\n",
    "            break\n",
    "            \n",
    "        current_cost += cost_increment\n",
    "    \n",
    "    if breakeven_cost is not None:\n",
    "        print(f\"Breakeven point found at test cost: +{breakeven_cost:.0f}\")\n",
    "        print(f\"Optimal decision changes from '{baseline_t_decision}' to '{breakeven_decisions['T']}'\")\n",
    "        print(f\"MEU at breakeven: {breakeven_meu:.2f}\")\n",
    "        \n",
    "        return {\n",
    "            'breakeven_cost': breakeven_cost,\n",
    "            'baseline_t_decision': baseline_t_decision,\n",
    "            'breakeven_t_decision': breakeven_decisions['T'],\n",
    "            'breakeven_meu': breakeven_meu,\n",
    "            'breakeven_decisions': breakeven_decisions\n",
    "        }\n",
    "    else:\n",
    "        print(f\"No breakeven point found within search range (0 to {max_search_cost})\")\n",
    "        return None\n"
   ]
  },
  {
   "cell_type": "code",
   "execution_count": 95,
   "id": "84550f58",
   "metadata": {},
   "outputs": [
    {
     "name": "stdout",
     "output_type": "stream",
     "text": [
      "Test Cost Tornado Analysis\n",
      "Baseline MEU: 751.00\n",
      "Cost variation: ±25\n",
      "\n",
      "Analyzing Test Cost Sensitivity...\n",
      "Cost variations to test: [-25, 25]\n",
      "  Test cost variation: -25 → MEU: 751.95 (Impact: +0.95)\n",
      "  Test cost variation: +25 → MEU: 751.00 (Impact: +0.00)\n"
     ]
    },
    {
     "data": {
      "application/vnd.plotly.v1+json": {
       "config": {
        "plotlyServerURL": "https://plot.ly"
       },
       "data": [
        {
         "hoverinfo": "skip",
         "marker": {
          "color": "lightcoral",
          "line": {
           "color": "black",
           "width": 0.5
          }
         },
         "name": "Lower Impact",
         "offsetgroup": "1",
         "orientation": "h",
         "type": "bar",
         "width": 0.6,
         "x": [
          0
         ],
         "y": [
          "Test Cost"
         ]
        },
        {
         "hoverinfo": "skip",
         "marker": {
          "color": "lightblue",
          "line": {
           "color": "black",
           "width": 0.5
          }
         },
         "name": "Higher Impact",
         "offsetgroup": "1",
         "orientation": "h",
         "type": "bar",
         "width": 0.6,
         "x": [
          0.9499999999999318
         ],
         "y": [
          "Test Cost"
         ]
        },
        {
         "hovertemplate": "\n    Variable: Test Cost<br>\n    High Cost (Cost: +25)<br>\n    MEU: 751.00<br>\n    Impact: +0.00<br>\n    Optimal Decisions: T: not_do, B: [pass: buy, fail: buy, no_results: buy]\n    <extra></extra>",
         "marker": {
          "color": "rgba(0,0,0,0)",
          "size": 0.1
         },
         "mode": "markers",
         "name": "",
         "showlegend": false,
         "type": "scatter",
         "x": [
          0
         ],
         "y": [
          "Test Cost"
         ]
        },
        {
         "hovertemplate": "\n    Variable: Test Cost<br>\n    Low Cost (Cost: -25)<br>\n    MEU: 751.95<br>\n    Impact: +0.95<br>\n    Optimal Decisions: T: do, B: [pass: buy, fail: not_buy, no_results: buy]\n    <extra></extra>",
         "marker": {
          "color": "rgba(0,0,0,0)",
          "size": 0.1
         },
         "mode": "markers",
         "name": "",
         "showlegend": false,
         "type": "scatter",
         "x": [
          0.4749999999999659
         ],
         "y": [
          "Test Cost"
         ]
        }
       ],
       "layout": {
        "annotations": [
         {
          "font": {
           "size": 12
          },
          "showarrow": false,
          "text": "0.0",
          "x": -1,
          "xanchor": "left",
          "y": "Test Cost"
         },
         {
          "font": {
           "size": 12
          },
          "showarrow": false,
          "text": "0.9",
          "x": 1.0449999999999249,
          "xanchor": "left",
          "y": "Test Cost"
         }
        ],
        "bargap": 0.1,
        "bargroupgap": 0,
        "height": 400,
        "hovermode": "closest",
        "legend": {
         "orientation": "h",
         "x": 1,
         "xanchor": "right",
         "y": 1.02,
         "yanchor": "bottom"
        },
        "shapes": [
         {
          "line": {
           "color": "black",
           "width": 2
          },
          "type": "line",
          "x0": 0,
          "x1": 0,
          "xref": "x",
          "y0": 0,
          "y1": 1,
          "yref": "y domain"
         }
        ],
        "template": {
         "data": {
          "bar": [
           {
            "error_x": {
             "color": "#2a3f5f"
            },
            "error_y": {
             "color": "#2a3f5f"
            },
            "marker": {
             "line": {
              "color": "#E5ECF6",
              "width": 0.5
             },
             "pattern": {
              "fillmode": "overlay",
              "size": 10,
              "solidity": 0.2
             }
            },
            "type": "bar"
           }
          ],
          "barpolar": [
           {
            "marker": {
             "line": {
              "color": "#E5ECF6",
              "width": 0.5
             },
             "pattern": {
              "fillmode": "overlay",
              "size": 10,
              "solidity": 0.2
             }
            },
            "type": "barpolar"
           }
          ],
          "carpet": [
           {
            "aaxis": {
             "endlinecolor": "#2a3f5f",
             "gridcolor": "white",
             "linecolor": "white",
             "minorgridcolor": "white",
             "startlinecolor": "#2a3f5f"
            },
            "baxis": {
             "endlinecolor": "#2a3f5f",
             "gridcolor": "white",
             "linecolor": "white",
             "minorgridcolor": "white",
             "startlinecolor": "#2a3f5f"
            },
            "type": "carpet"
           }
          ],
          "choropleth": [
           {
            "colorbar": {
             "outlinewidth": 0,
             "ticks": ""
            },
            "type": "choropleth"
           }
          ],
          "contour": [
           {
            "colorbar": {
             "outlinewidth": 0,
             "ticks": ""
            },
            "colorscale": [
             [
              0,
              "#0d0887"
             ],
             [
              0.1111111111111111,
              "#46039f"
             ],
             [
              0.2222222222222222,
              "#7201a8"
             ],
             [
              0.3333333333333333,
              "#9c179e"
             ],
             [
              0.4444444444444444,
              "#bd3786"
             ],
             [
              0.5555555555555556,
              "#d8576b"
             ],
             [
              0.6666666666666666,
              "#ed7953"
             ],
             [
              0.7777777777777778,
              "#fb9f3a"
             ],
             [
              0.8888888888888888,
              "#fdca26"
             ],
             [
              1,
              "#f0f921"
             ]
            ],
            "type": "contour"
           }
          ],
          "contourcarpet": [
           {
            "colorbar": {
             "outlinewidth": 0,
             "ticks": ""
            },
            "type": "contourcarpet"
           }
          ],
          "heatmap": [
           {
            "colorbar": {
             "outlinewidth": 0,
             "ticks": ""
            },
            "colorscale": [
             [
              0,
              "#0d0887"
             ],
             [
              0.1111111111111111,
              "#46039f"
             ],
             [
              0.2222222222222222,
              "#7201a8"
             ],
             [
              0.3333333333333333,
              "#9c179e"
             ],
             [
              0.4444444444444444,
              "#bd3786"
             ],
             [
              0.5555555555555556,
              "#d8576b"
             ],
             [
              0.6666666666666666,
              "#ed7953"
             ],
             [
              0.7777777777777778,
              "#fb9f3a"
             ],
             [
              0.8888888888888888,
              "#fdca26"
             ],
             [
              1,
              "#f0f921"
             ]
            ],
            "type": "heatmap"
           }
          ],
          "histogram": [
           {
            "marker": {
             "pattern": {
              "fillmode": "overlay",
              "size": 10,
              "solidity": 0.2
             }
            },
            "type": "histogram"
           }
          ],
          "histogram2d": [
           {
            "colorbar": {
             "outlinewidth": 0,
             "ticks": ""
            },
            "colorscale": [
             [
              0,
              "#0d0887"
             ],
             [
              0.1111111111111111,
              "#46039f"
             ],
             [
              0.2222222222222222,
              "#7201a8"
             ],
             [
              0.3333333333333333,
              "#9c179e"
             ],
             [
              0.4444444444444444,
              "#bd3786"
             ],
             [
              0.5555555555555556,
              "#d8576b"
             ],
             [
              0.6666666666666666,
              "#ed7953"
             ],
             [
              0.7777777777777778,
              "#fb9f3a"
             ],
             [
              0.8888888888888888,
              "#fdca26"
             ],
             [
              1,
              "#f0f921"
             ]
            ],
            "type": "histogram2d"
           }
          ],
          "histogram2dcontour": [
           {
            "colorbar": {
             "outlinewidth": 0,
             "ticks": ""
            },
            "colorscale": [
             [
              0,
              "#0d0887"
             ],
             [
              0.1111111111111111,
              "#46039f"
             ],
             [
              0.2222222222222222,
              "#7201a8"
             ],
             [
              0.3333333333333333,
              "#9c179e"
             ],
             [
              0.4444444444444444,
              "#bd3786"
             ],
             [
              0.5555555555555556,
              "#d8576b"
             ],
             [
              0.6666666666666666,
              "#ed7953"
             ],
             [
              0.7777777777777778,
              "#fb9f3a"
             ],
             [
              0.8888888888888888,
              "#fdca26"
             ],
             [
              1,
              "#f0f921"
             ]
            ],
            "type": "histogram2dcontour"
           }
          ],
          "mesh3d": [
           {
            "colorbar": {
             "outlinewidth": 0,
             "ticks": ""
            },
            "type": "mesh3d"
           }
          ],
          "parcoords": [
           {
            "line": {
             "colorbar": {
              "outlinewidth": 0,
              "ticks": ""
             }
            },
            "type": "parcoords"
           }
          ],
          "pie": [
           {
            "automargin": true,
            "type": "pie"
           }
          ],
          "scatter": [
           {
            "fillpattern": {
             "fillmode": "overlay",
             "size": 10,
             "solidity": 0.2
            },
            "type": "scatter"
           }
          ],
          "scatter3d": [
           {
            "line": {
             "colorbar": {
              "outlinewidth": 0,
              "ticks": ""
             }
            },
            "marker": {
             "colorbar": {
              "outlinewidth": 0,
              "ticks": ""
             }
            },
            "type": "scatter3d"
           }
          ],
          "scattercarpet": [
           {
            "marker": {
             "colorbar": {
              "outlinewidth": 0,
              "ticks": ""
             }
            },
            "type": "scattercarpet"
           }
          ],
          "scattergeo": [
           {
            "marker": {
             "colorbar": {
              "outlinewidth": 0,
              "ticks": ""
             }
            },
            "type": "scattergeo"
           }
          ],
          "scattergl": [
           {
            "marker": {
             "colorbar": {
              "outlinewidth": 0,
              "ticks": ""
             }
            },
            "type": "scattergl"
           }
          ],
          "scattermap": [
           {
            "marker": {
             "colorbar": {
              "outlinewidth": 0,
              "ticks": ""
             }
            },
            "type": "scattermap"
           }
          ],
          "scattermapbox": [
           {
            "marker": {
             "colorbar": {
              "outlinewidth": 0,
              "ticks": ""
             }
            },
            "type": "scattermapbox"
           }
          ],
          "scatterpolar": [
           {
            "marker": {
             "colorbar": {
              "outlinewidth": 0,
              "ticks": ""
             }
            },
            "type": "scatterpolar"
           }
          ],
          "scatterpolargl": [
           {
            "marker": {
             "colorbar": {
              "outlinewidth": 0,
              "ticks": ""
             }
            },
            "type": "scatterpolargl"
           }
          ],
          "scatterternary": [
           {
            "marker": {
             "colorbar": {
              "outlinewidth": 0,
              "ticks": ""
             }
            },
            "type": "scatterternary"
           }
          ],
          "surface": [
           {
            "colorbar": {
             "outlinewidth": 0,
             "ticks": ""
            },
            "colorscale": [
             [
              0,
              "#0d0887"
             ],
             [
              0.1111111111111111,
              "#46039f"
             ],
             [
              0.2222222222222222,
              "#7201a8"
             ],
             [
              0.3333333333333333,
              "#9c179e"
             ],
             [
              0.4444444444444444,
              "#bd3786"
             ],
             [
              0.5555555555555556,
              "#d8576b"
             ],
             [
              0.6666666666666666,
              "#ed7953"
             ],
             [
              0.7777777777777778,
              "#fb9f3a"
             ],
             [
              0.8888888888888888,
              "#fdca26"
             ],
             [
              1,
              "#f0f921"
             ]
            ],
            "type": "surface"
           }
          ],
          "table": [
           {
            "cells": {
             "fill": {
              "color": "#EBF0F8"
             },
             "line": {
              "color": "white"
             }
            },
            "header": {
             "fill": {
              "color": "#C8D4E3"
             },
             "line": {
              "color": "white"
             }
            },
            "type": "table"
           }
          ]
         },
         "layout": {
          "annotationdefaults": {
           "arrowcolor": "#2a3f5f",
           "arrowhead": 0,
           "arrowwidth": 1
          },
          "autotypenumbers": "strict",
          "coloraxis": {
           "colorbar": {
            "outlinewidth": 0,
            "ticks": ""
           }
          },
          "colorscale": {
           "diverging": [
            [
             0,
             "#8e0152"
            ],
            [
             0.1,
             "#c51b7d"
            ],
            [
             0.2,
             "#de77ae"
            ],
            [
             0.3,
             "#f1b6da"
            ],
            [
             0.4,
             "#fde0ef"
            ],
            [
             0.5,
             "#f7f7f7"
            ],
            [
             0.6,
             "#e6f5d0"
            ],
            [
             0.7,
             "#b8e186"
            ],
            [
             0.8,
             "#7fbc41"
            ],
            [
             0.9,
             "#4d9221"
            ],
            [
             1,
             "#276419"
            ]
           ],
           "sequential": [
            [
             0,
             "#0d0887"
            ],
            [
             0.1111111111111111,
             "#46039f"
            ],
            [
             0.2222222222222222,
             "#7201a8"
            ],
            [
             0.3333333333333333,
             "#9c179e"
            ],
            [
             0.4444444444444444,
             "#bd3786"
            ],
            [
             0.5555555555555556,
             "#d8576b"
            ],
            [
             0.6666666666666666,
             "#ed7953"
            ],
            [
             0.7777777777777778,
             "#fb9f3a"
            ],
            [
             0.8888888888888888,
             "#fdca26"
            ],
            [
             1,
             "#f0f921"
            ]
           ],
           "sequentialminus": [
            [
             0,
             "#0d0887"
            ],
            [
             0.1111111111111111,
             "#46039f"
            ],
            [
             0.2222222222222222,
             "#7201a8"
            ],
            [
             0.3333333333333333,
             "#9c179e"
            ],
            [
             0.4444444444444444,
             "#bd3786"
            ],
            [
             0.5555555555555556,
             "#d8576b"
            ],
            [
             0.6666666666666666,
             "#ed7953"
            ],
            [
             0.7777777777777778,
             "#fb9f3a"
            ],
            [
             0.8888888888888888,
             "#fdca26"
            ],
            [
             1,
             "#f0f921"
            ]
           ]
          },
          "colorway": [
           "#636efa",
           "#EF553B",
           "#00cc96",
           "#ab63fa",
           "#FFA15A",
           "#19d3f3",
           "#FF6692",
           "#B6E880",
           "#FF97FF",
           "#FECB52"
          ],
          "font": {
           "color": "#2a3f5f"
          },
          "geo": {
           "bgcolor": "white",
           "lakecolor": "white",
           "landcolor": "#E5ECF6",
           "showlakes": true,
           "showland": true,
           "subunitcolor": "white"
          },
          "hoverlabel": {
           "align": "left"
          },
          "hovermode": "closest",
          "mapbox": {
           "style": "light"
          },
          "paper_bgcolor": "white",
          "plot_bgcolor": "#E5ECF6",
          "polar": {
           "angularaxis": {
            "gridcolor": "white",
            "linecolor": "white",
            "ticks": ""
           },
           "bgcolor": "#E5ECF6",
           "radialaxis": {
            "gridcolor": "white",
            "linecolor": "white",
            "ticks": ""
           }
          },
          "scene": {
           "xaxis": {
            "backgroundcolor": "#E5ECF6",
            "gridcolor": "white",
            "gridwidth": 2,
            "linecolor": "white",
            "showbackground": true,
            "ticks": "",
            "zerolinecolor": "white"
           },
           "yaxis": {
            "backgroundcolor": "#E5ECF6",
            "gridcolor": "white",
            "gridwidth": 2,
            "linecolor": "white",
            "showbackground": true,
            "ticks": "",
            "zerolinecolor": "white"
           },
           "zaxis": {
            "backgroundcolor": "#E5ECF6",
            "gridcolor": "white",
            "gridwidth": 2,
            "linecolor": "white",
            "showbackground": true,
            "ticks": "",
            "zerolinecolor": "white"
           }
          },
          "shapedefaults": {
           "line": {
            "color": "#2a3f5f"
           }
          },
          "ternary": {
           "aaxis": {
            "gridcolor": "white",
            "linecolor": "white",
            "ticks": ""
           },
           "baxis": {
            "gridcolor": "white",
            "linecolor": "white",
            "ticks": ""
           },
           "bgcolor": "#E5ECF6",
           "caxis": {
            "gridcolor": "white",
            "linecolor": "white",
            "ticks": ""
           }
          },
          "title": {
           "x": 0.05
          },
          "xaxis": {
           "automargin": true,
           "gridcolor": "white",
           "linecolor": "white",
           "ticks": "",
           "title": {
            "standoff": 15
           },
           "zerolinecolor": "white",
           "zerolinewidth": 2
          },
          "yaxis": {
           "automargin": true,
           "gridcolor": "white",
           "linecolor": "white",
           "ticks": "",
           "title": {
            "standoff": 15
           },
           "zerolinecolor": "white",
           "zerolinewidth": 2
          }
         }
        },
        "title": {
         "font": {
          "size": 16
         },
         "text": "Test Cost Tornado Diagram<br><sub>Baseline Expected Utility: 751.00 | Test cost varied by ±25 units</sub>"
        },
        "width": 800,
        "xaxis": {
         "gridcolor": "lightgray",
         "gridwidth": 0.5,
         "title": {
          "text": "Change in Expected Utility from Baseline"
         },
         "zeroline": true,
         "zerolinecolor": "black",
         "zerolinewidth": 2
        },
        "yaxis": {
         "showticklabels": true,
         "title": {
          "text": "Variable"
         }
        }
       }
      }
     },
     "metadata": {},
     "output_type": "display_data"
    }
   ],
   "source": [
    "tornado_results = analyze_test_cost_tornado(\n",
    "        u_table=u_table,\n",
    "        baseline_meu=baseline_meu,\n",
    "        cost_variation=25\n",
    "    )\n",
    "    \n",
    "# Create and show tornado plot\n",
    "tornado_fig = create_test_cost_tornado_plot(tornado_results)\n",
    "tornado_fig.show()"
   ]
  }
 ],
 "metadata": {
  "kernelspec": {
   "display_name": ".venv",
   "language": "python",
   "name": "python3"
  },
  "language_info": {
   "codemirror_mode": {
    "name": "ipython",
    "version": 3
   },
   "file_extension": ".py",
   "mimetype": "text/x-python",
   "name": "python",
   "nbconvert_exporter": "python",
   "pygments_lexer": "ipython3",
   "version": "3.12.3"
  }
 },
 "nbformat": 4,
 "nbformat_minor": 5
}
