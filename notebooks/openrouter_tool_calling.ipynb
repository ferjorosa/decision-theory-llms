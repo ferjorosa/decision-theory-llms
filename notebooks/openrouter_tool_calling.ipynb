{
 "cells": [
  {
   "cell_type": "code",
   "execution_count": 10,
   "metadata": {},
   "outputs": [],
   "source": [
    "import sys\n",
    "import json\n",
    "from os import getenv\n",
    "from pathlib import Path\n",
    "from datetime import datetime\n",
    "from openai import OpenAI\n",
    "\n",
    "# Set the base path\n",
    "base_path = Path(\"../\")  # One level up from the current working directory\n",
    "\n",
    "# Add the src/ directory to sys.path using base_path\n",
    "sys.path.append(str((base_path / \"src\").resolve()))\n",
    "\n",
    "from tools.search_gutenberg_books import (\n",
    "    SEARCH_GUTENBERG_BOOKS_TOOL,\n",
    "    search_gutenberg_books\n",
    ")\n",
    "from tool_calling import run_tool_call_loop"
   ]
  },
  {
   "cell_type": "code",
   "execution_count": 11,
   "metadata": {},
   "outputs": [],
   "source": [
    "client = OpenAI(\n",
    "    base_url=\"https://openrouter.ai/api/v1\",\n",
    "    api_key=getenv(\"OPENROUTER_API_KEY\")\n",
    ")\n",
    "\n",
    "# Messages\n",
    "messages = [\n",
    "    {\"role\": \"system\", \"content\": \"You are a helpful assistant.\"},\n",
    "    {\"role\": \"user\", \"content\": \"What are the titles of some Charles Dickens books?\"}\n",
    "]\n",
    "\n",
    "# Tools + Mapping\n",
    "tools = [\n",
    "    SEARCH_GUTENBERG_BOOKS_TOOL\n",
    "]\n",
    "\n",
    "TOOL_MAPPING = {\n",
    "    \"search_gutenberg_books\": search_gutenberg_books\n",
    "}\n",
    "\n",
    "MODEL = \"gpt-4o-mini\"\n",
    "\n",
    "timestamp = datetime.now().strftime(\"%Y-%m-%d_%H-%M-%S\") # To allow for multiple runs"
   ]
  },
  {
   "cell_type": "code",
   "execution_count": 12,
   "metadata": {},
   "outputs": [
    {
     "name": "stdout",
     "output_type": "stream",
     "text": [
      "\n",
      "--- Iteration 1 ---\n",
      "🛠️  Model requested tool: search_gutenberg_books with args: {'search_terms': ['Charles Dickens']}\n",
      "\n",
      "--- Iteration 2 ---\n",
      "🔚 Final model output:\n",
      " Here are some titles of books by Charles Dickens:\n",
      "\n",
      "1. A Tale of Two Cities\n",
      "2. Great Expectations\n",
      "3. A Christmas Carol in Prose; Being a Ghost Story of Christmas\n",
      "4. Oliver Twist\n",
      "5. Hard Times\n"
     ]
    }
   ],
   "source": [
    "response, messages = run_tool_call_loop(\n",
    "    openai_client=client,\n",
    "    model=MODEL,  # or any tool-calling-capable model\n",
    "    tools=tools,\n",
    "    messages=messages,\n",
    "    tool_mapping=TOOL_MAPPING\n",
    ")"
   ]
  },
  {
   "cell_type": "markdown",
   "metadata": {},
   "source": [
    "## Store the results"
   ]
  },
  {
   "cell_type": "code",
   "execution_count": 13,
   "metadata": {},
   "outputs": [
    {
     "name": "stdout",
     "output_type": "stream",
     "text": [
      "✅ Final response saved to: ../results/2025-05-16_21-47-19/gpt-4o-mini/final_response.txt\n",
      "✅ Message history saved to: ../results/2025-05-16_21-47-19/gpt-4o-mini/message_history.json\n"
     ]
    }
   ],
   "source": [
    "# Create timestamped directory\n",
    "results_dir = base_path / \"results\" / timestamp / MODEL\n",
    "results_dir.mkdir(parents=True, exist_ok=True)\n",
    "\n",
    "# File paths (no timestamp in file names)\n",
    "txt_path = results_dir / \"final_response.txt\"\n",
    "json_path = results_dir / \"message_history.json\"\n",
    "\n",
    "# Write the final response (text)\n",
    "if response:\n",
    "    txt_path.write_text(response, encoding=\"utf-8\")\n",
    "\n",
    "# Write the full message history (JSON)\n",
    "with json_path.open(\"w\", encoding=\"utf-8\") as f:\n",
    "    json.dump(messages, f, ensure_ascii=False, indent=2)\n",
    "\n",
    "print(f\"✅ Final response saved to: {txt_path}\")\n",
    "print(f\"✅ Message history saved to: {json_path}\")"
   ]
  }
 ],
 "metadata": {
  "kernelspec": {
   "display_name": ".venv",
   "language": "python",
   "name": "python3"
  },
  "language_info": {
   "codemirror_mode": {
    "name": "ipython",
    "version": 3
   },
   "file_extension": ".py",
   "mimetype": "text/x-python",
   "name": "python",
   "nbconvert_exporter": "python",
   "pygments_lexer": "ipython3",
   "version": "3.12.3"
  }
 },
 "nbformat": 4,
 "nbformat_minor": 2
}
