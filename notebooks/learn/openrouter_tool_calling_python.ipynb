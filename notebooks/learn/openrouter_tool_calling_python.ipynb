{
 "cells": [
  {
   "cell_type": "code",
   "execution_count": 1,
   "metadata": {},
   "outputs": [],
   "source": [
    "import sys\n",
    "import json\n",
    "from os import getenv\n",
    "from pathlib import Path\n",
    "from datetime import datetime\n",
    "from openai import OpenAI\n",
    "\n",
    "# Set the base path\n",
    "base_path = Path(\"../../\")  # One level up from the current working directory\n",
    "\n",
    "# Add the src/ directory to sys.path using base_path\n",
    "sys.path.append(str((base_path / \"src\").resolve()))\n",
    "\n",
    "from tools.python_math_executor import (\n",
    "    PYTHON_MATH_EXECUTION_TOOL,\n",
    "    execute_python\n",
    ")\n",
    "from tool_calling import run_tool_call_loop\n",
    "from save_outputs import save_output"
   ]
  },
  {
   "cell_type": "code",
   "execution_count": 4,
   "metadata": {},
   "outputs": [],
   "source": [
    "client = OpenAI(\n",
    "    base_url=\"https://openrouter.ai/api/v1\",\n",
    "    api_key=getenv(\"OPENROUTER_API_KEY\")\n",
    ")\n",
    "\n",
    "# Messages\n",
    "messages = [\n",
    "    {\"role\": \"system\", \"content\": \"You are a helpful assistant.\"},\n",
    "    {\"role\": \"user\", \"content\": \"Calculate the probability using Bayes' theorem:\\n\"\n",
    "                                \"P(A) = 0.01\\n\"\n",
    "                                \"P(B|A) = 0.9\\n\"\n",
    "                                \"P(B) = 0.05\"}\n",
    "]\n",
    "\n",
    "# Tool registration\n",
    "tools = [\n",
    "    PYTHON_MATH_EXECUTION_TOOL\n",
    "]\n",
    "\n",
    "TOOL_MAPPING = {\n",
    "    \"execute_python\": execute_python\n",
    "}\n",
    "\n",
    "MODEL = \"google/gemini-2.5-pro-preview\"\n",
    "\n",
    "timestamp = datetime.now().strftime(\"%Y-%m-%d_%H-%M-%S\") # To allow for multiple runs"
   ]
  },
  {
   "cell_type": "code",
   "execution_count": 5,
   "metadata": {},
   "outputs": [
    {
     "name": "stdout",
     "output_type": "stream",
     "text": [
      "\n",
      "--- Iteration 1 ---\n",
      "🛠️  Model requested tool: execute_python with args: {'code': 'P_A = 0.01\\nP_B_given_A = 0.9\\nP_B = 0.05\\nP_A_given_B = (P_B_given_A * P_A) / P_B'}\n",
      "\n",
      "--- Iteration 2 ---\n",
      "🔚 Final model output:\n",
      " The probability of A given B, P(A|B), is 0.18.\n"
     ]
    }
   ],
   "source": [
    "response, updated_messages = run_tool_call_loop(\n",
    "    openai_client=client,\n",
    "    model=MODEL,\n",
    "    tools=tools,\n",
    "    messages=messages,\n",
    "    tool_mapping=TOOL_MAPPING,\n",
    "    verbose=True\n",
    ")"
   ]
  },
  {
   "cell_type": "code",
   "execution_count": 6,
   "metadata": {},
   "outputs": [
    {
     "name": "stdout",
     "output_type": "stream",
     "text": [
      "✅ Final response saved to: ../../results/tool_calling_python_math/2025-05-18_13-15-25/gpt-4o-mini/final_response.txt\n",
      "✅ Message history saved to: ../../results/tool_calling_python_math/2025-05-18_13-15-25/gpt-4o-mini/message_history.json\n"
     ]
    }
   ],
   "source": [
    "save_output(\n",
    "    response=response,\n",
    "    messages=messages,\n",
    "    base_path=base_path / \"results\" / \"tool_calling_python_math\",\n",
    "    timestamp=timestamp,\n",
    "    dir_name=MODEL\n",
    ")"
   ]
  }
 ],
 "metadata": {
  "kernelspec": {
   "display_name": ".venv",
   "language": "python",
   "name": "python3"
  },
  "language_info": {
   "codemirror_mode": {
    "name": "ipython",
    "version": 3
   },
   "file_extension": ".py",
   "mimetype": "text/x-python",
   "name": "python",
   "nbconvert_exporter": "python",
   "pygments_lexer": "ipython3",
   "version": "3.12.3"
  }
 },
 "nbformat": 4,
 "nbformat_minor": 2
}
