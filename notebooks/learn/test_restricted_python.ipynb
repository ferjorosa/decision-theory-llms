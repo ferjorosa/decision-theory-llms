{
 "cells": [
  {
   "cell_type": "code",
   "execution_count": 3,
   "metadata": {},
   "outputs": [],
   "source": [
    "from RestrictedPython import compile_restricted\n",
    "from RestrictedPython import safe_globals\n",
    "from RestrictedPython.Eval import default_guarded_getiter\n",
    "from RestrictedPython.Guards import guarded_iter_unpack_sequence, guarded_unpack_sequence, safe_builtins\n",
    "\n",
    "\n",
    "def safe_python_exec(code: str, variables: dict = None) -> dict:\n",
    "    if variables is None:\n",
    "        variables = {}\n",
    "\n",
    "    # Compile code (returns code object or raises SyntaxError)\n",
    "    try:\n",
    "        byte_code = compile_restricted(code, filename=\"<string>\", mode=\"exec\")\n",
    "    except SyntaxError as e:\n",
    "        return {\"error\": f\"SyntaxError: {e}\"}\n",
    "\n",
    "    # Prepare restricted environment\n",
    "    restricted_globals = safe_globals.copy()\n",
    "    restricted_globals.update({\n",
    "        \"__builtins__\": safe_builtins,\n",
    "        \"_getiter_\": default_guarded_getiter,\n",
    "        \"_iter_unpack_sequence_\": guarded_iter_unpack_sequence,\n",
    "        \"_unpack_sequence_\": guarded_unpack_sequence,\n",
    "        \"math\": __import__(\"math\"),\n",
    "    })\n",
    "\n",
    "    restricted_locals = dict(variables)\n",
    "\n",
    "    try:\n",
    "        exec(byte_code, restricted_globals, restricted_locals)\n",
    "    except Exception as e:\n",
    "        return {\"error\": str(e)}\n",
    "\n",
    "    return restricted_locals"
   ]
  },
  {
   "cell_type": "code",
   "execution_count": 4,
   "metadata": {},
   "outputs": [
    {
     "name": "stdout",
     "output_type": "stream",
     "text": [
      "Result: 51.0\n"
     ]
    }
   ],
   "source": [
    "code = \"\"\"\n",
    "result = math.sin(math.pi / 2) + 5 * 10\n",
    "\"\"\"\n",
    "\n",
    "output = safe_python_exec(code)\n",
    "\n",
    "if \"error\" in output:\n",
    "    print(\"Error:\", output[\"error\"])\n",
    "else:\n",
    "    print(\"Result:\", output.get(\"result\"))\n"
   ]
  },
  {
   "cell_type": "code",
   "execution_count": 5,
   "metadata": {},
   "outputs": [
    {
     "data": {
      "text/plain": [
       "{'result': 51.0}"
      ]
     },
     "execution_count": 5,
     "metadata": {},
     "output_type": "execute_result"
    }
   ],
   "source": [
    "output"
   ]
  }
 ],
 "metadata": {
  "kernelspec": {
   "display_name": ".venv",
   "language": "python",
   "name": "python3"
  },
  "language_info": {
   "codemirror_mode": {
    "name": "ipython",
    "version": 3
   },
   "file_extension": ".py",
   "mimetype": "text/x-python",
   "name": "python",
   "nbconvert_exporter": "python",
   "pygments_lexer": "ipython3",
   "version": "3.12.3"
  }
 },
 "nbformat": 4,
 "nbformat_minor": 2
}
