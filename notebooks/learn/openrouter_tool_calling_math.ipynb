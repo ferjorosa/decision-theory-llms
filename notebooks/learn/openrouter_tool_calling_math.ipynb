{
 "cells": [
  {
   "cell_type": "code",
   "execution_count": 5,
   "metadata": {},
   "outputs": [],
   "source": [
    "import sys\n",
    "import json\n",
    "from os import getenv\n",
    "from pathlib import Path\n",
    "from datetime import datetime\n",
    "from openai import OpenAI\n",
    "\n",
    "# Set the base path\n",
    "base_path = Path(\"../../\")  # One level up from the current working directory\n",
    "\n",
    "# Add the src/ directory to sys.path using base_path\n",
    "sys.path.append(str((base_path / \"src\").resolve()))\n",
    "\n",
    "from tools.numexpr_calculator import (\n",
    "    NUMEXPR_CALCULATOR_TOOL,\n",
    "    numexpr_calculator\n",
    ")\n",
    "from tool_calling import run_tool_call_loop\n",
    "from save_outputs import save_output"
   ]
  },
  {
   "cell_type": "code",
   "execution_count": 6,
   "metadata": {},
   "outputs": [],
   "source": [
    "client = OpenAI(\n",
    "    base_url=\"https://openrouter.ai/api/v1\",\n",
    "    api_key=getenv(\"OPENROUTER_API_KEY\")\n",
    ")\n",
    "\n",
    "# Messages\n",
    "messages = [\n",
    "    {\"role\": \"system\", \"content\": \"You are a helpful assistant.\"},\n",
    "    {\"role\": \"user\", \"content\": \"What is 37593 times 67?\"}\n",
    "]\n",
    "\n",
    "# Tools + Mapping\n",
    "tools = [\n",
    "    NUMEXPR_CALCULATOR_TOOL\n",
    "]\n",
    "\n",
    "TOOL_MAPPING = {\n",
    "    \"numexpr_calculator\": numexpr_calculator\n",
    "}\n",
    "\n",
    "MODEL = \"gpt-4o-mini\"\n",
    "\n",
    "timestamp = datetime.now().strftime(\"%Y-%m-%d_%H-%M-%S\") # To allow for multiple runs"
   ]
  },
  {
   "cell_type": "code",
   "execution_count": 7,
   "metadata": {},
   "outputs": [
    {
     "name": "stdout",
     "output_type": "stream",
     "text": [
      "\n",
      "--- Iteration 1 ---\n",
      "🛠️  Model requested tool: numexpr_calculator with args: {'expression': '37593 * 67'}\n",
      "\n",
      "--- Iteration 2 ---\n",
      "🔚 Final model output:\n",
      " 37593 times 67 is 2,518,731.\n"
     ]
    }
   ],
   "source": [
    "response, messages = run_tool_call_loop(\n",
    "    openai_client=client,\n",
    "    model=MODEL,  # or any tool-calling-capable model\n",
    "    tools=tools,\n",
    "    messages=messages,\n",
    "    tool_mapping=TOOL_MAPPING\n",
    ")"
   ]
  },
  {
   "cell_type": "code",
   "execution_count": 8,
   "metadata": {},
   "outputs": [
    {
     "name": "stdout",
     "output_type": "stream",
     "text": [
      "✅ Final response saved to: ../../results/tool_calling_math/2025-05-18_13-16-32/gpt-4o-mini/final_response.txt\n",
      "✅ Message history saved to: ../../results/tool_calling_math/2025-05-18_13-16-32/gpt-4o-mini/message_history.json\n"
     ]
    }
   ],
   "source": [
    "save_output(\n",
    "    response=response,\n",
    "    messages=messages,\n",
    "    base_path=base_path / \"results\" / \"tool_calling_math\",\n",
    "    timestamp=timestamp,\n",
    "    dir_name=MODEL\n",
    ")"
   ]
  }
 ],
 "metadata": {
  "kernelspec": {
   "display_name": ".venv",
   "language": "python",
   "name": "python3"
  },
  "language_info": {
   "codemirror_mode": {
    "name": "ipython",
    "version": 3
   },
   "file_extension": ".py",
   "mimetype": "text/x-python",
   "name": "python",
   "nbconvert_exporter": "python",
   "pygments_lexer": "ipython3",
   "version": "3.12.3"
  }
 },
 "nbformat": 4,
 "nbformat_minor": 2
}
